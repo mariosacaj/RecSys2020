{
 "cells": [
  {
   "cell_type": "markdown",
   "metadata": {},
   "source": [
    "# Recommender Systems 2019/20\n",
    "\n",
    "### Practice 3 - Content Based recommenders\n",
    "\n",
    "\n",
    "### Load the data you saw last time:"
   ]
  },
  {
   "cell_type": "code",
   "execution_count": 1,
   "metadata": {},
   "outputs": [],
   "source": [
    "import matplotlib.pyplot as pyplot\n",
    "%matplotlib inline  "
   ]
  },
  {
   "cell_type": "code",
   "execution_count": 2,
   "metadata": {},
   "outputs": [],
   "source": [
    "from urllib.request import urlretrieve\n",
    "import zipfile, os\n",
    "import numpy as np\n",
    "\n",
    "# If file exists, skip the download\n",
    "data_file_path = \"data/Movielens_10M/\"\n",
    "data_file_name = data_file_path + \"movielens_10m.zip\"\n",
    "\n",
    "# If directory does not exist, create\n",
    "if not os.path.exists(data_file_path):\n",
    "    os.makedirs(data_file_path)\n",
    "\n",
    "if not os.path.exists(data_file_name):\n",
    "    urlretrieve (\"http://files.grouplens.org/datasets/movielens/ml-10m.zip\", data_file_name)\n",
    "    \n",
    "dataFile = zipfile.ZipFile(data_file_name)\n",
    "URM_path = dataFile.extract(\"ml-10M100K/ratings.dat\", path=\"data/Movielens_10M\")\n",
    "URM_file = open(URM_path, 'r')\n",
    "\n",
    "\n",
    "def rowSplit (rowString):\n",
    "    \n",
    "    split = rowString.split(\"::\")\n",
    "    split[3] = split[3].replace(\"\\n\",\"\")\n",
    "    \n",
    "    split[0] = int(split[0])\n",
    "    split[1] = int(split[1])\n",
    "    split[2] = float(split[2])\n",
    "    split[3] = int(split[3])\n",
    "    \n",
    "    result = tuple(split)\n",
    "    \n",
    "    return result\n",
    "\n",
    "\n",
    "URM_file.seek(0)\n",
    "URM_tuples = []\n",
    "\n",
    "for line in URM_file:\n",
    "   URM_tuples.append(rowSplit (line))\n",
    "\n",
    "userList, itemList, ratingList, timestampList = zip(*URM_tuples)\n",
    "\n",
    "userList = list(userList)\n",
    "itemList = list(itemList)\n",
    "ratingList = list(ratingList)\n",
    "timestampList = list(timestampList)\n"
   ]
  },
  {
   "cell_type": "code",
   "execution_count": 3,
   "metadata": {},
   "outputs": [
    {
     "name": "stdout",
     "output_type": "stream",
     "text": [
      "User data, ID: min 1, max 71567, unique 69878, missig 2.36 %\n",
      "Item data, ID: min 1, max 65133, unique 10677, missig 83.61 %\n"
     ]
    }
   ],
   "source": [
    "def list_ID_stats(ID_list, label):\n",
    "    \n",
    "    min_val = min(ID_list)\n",
    "    max_val = max(ID_list)\n",
    "    unique_val = len(set(ID_list))\n",
    "    missing_val = 1 - unique_val/(max_val - min_val)\n",
    "\n",
    "    print(\"{} data, ID: min {}, max {}, unique {}, missig {:.2f} %\".format(label, min_val, max_val, unique_val, missing_val*100))\n",
    "\n",
    "    \n",
    "    \n",
    "list_ID_stats(userList, \"User\")\n",
    "list_ID_stats(itemList, \"Item\")"
   ]
  },
  {
   "cell_type": "code",
   "execution_count": 4,
   "metadata": {},
   "outputs": [],
   "source": [
    "import scipy.sparse as sps\n",
    "\n",
    "URM_all = sps.coo_matrix((ratingList, (userList, itemList)))\n",
    "URM_all = URM_all.tocsr()"
   ]
  },
  {
   "cell_type": "markdown",
   "metadata": {},
   "source": [
    "### For items in particular most have no interactions. Do we have to remove them?"
   ]
  },
  {
   "cell_type": "markdown",
   "metadata": {},
   "source": [
    "## YES!\n",
    "#### Cold items have no impact in the evaluation, since they have no interactions\n",
    "#### Moreover, considering how item-item and user-user CF are defined, they are not relevant."
   ]
  },
  {
   "cell_type": "code",
   "execution_count": 5,
   "metadata": {},
   "outputs": [
    {
     "data": {
      "text/plain": [
       "<71568x10677 sparse matrix of type '<class 'numpy.float64'>'\n",
       "\twith 10000054 stored elements in Compressed Sparse Row format>"
      ]
     },
     "execution_count": 5,
     "metadata": {},
     "output_type": "execute_result"
    }
   ],
   "source": [
    "warm_items_mask = np.ediff1d(URM_all.tocsc().indptr) > 0\n",
    "warm_items = np.arange(URM_all.shape[1])[warm_items_mask]\n",
    "\n",
    "URM_all = URM_all[:, warm_items]\n",
    "URM_all"
   ]
  },
  {
   "cell_type": "markdown",
   "metadata": {},
   "source": [
    "#### The same holds for users"
   ]
  },
  {
   "cell_type": "code",
   "execution_count": 6,
   "metadata": {},
   "outputs": [
    {
     "data": {
      "text/plain": [
       "<69878x10677 sparse matrix of type '<class 'numpy.float64'>'\n",
       "\twith 10000054 stored elements in Compressed Sparse Row format>"
      ]
     },
     "execution_count": 6,
     "metadata": {},
     "output_type": "execute_result"
    }
   ],
   "source": [
    "warm_users_mask = np.ediff1d(URM_all.tocsr().indptr) > 0\n",
    "warm_users = np.arange(URM_all.shape[0])[warm_users_mask]\n",
    "\n",
    "URM_all = URM_all[warm_users, :]\n",
    "URM_all"
   ]
  },
  {
   "cell_type": "markdown",
   "metadata": {},
   "source": [
    "### Be careful! With this operation we lost the original mapping with item and user IDs!\n",
    "### Keep the warm_items and warm_users array, we might need them in future..."
   ]
  },
  {
   "cell_type": "markdown",
   "metadata": {},
   "source": [
    "# We can now build the recommender algorithm, but first we need the train/test split and the evaluation function:"
   ]
  },
  {
   "cell_type": "code",
   "execution_count": 7,
   "metadata": {},
   "outputs": [],
   "source": [
    "from Notebooks_utils.data_splitter import train_test_holdout\n",
    "\n",
    "\n",
    "URM_train, URM_test = train_test_holdout(URM_all, train_perc = 0.8)\n",
    "\n",
    "\n",
    "from Notebooks_utils.evaluation_function import evaluate_algorithm\n",
    "from Base.Similarity.Compute_Similarity_Python import Compute_Similarity_Python\n"
   ]
  },
  {
   "cell_type": "markdown",
   "metadata": {},
   "source": [
    "# Item-based Collaborative Filtering"
   ]
  },
  {
   "cell_type": "code",
   "execution_count": 8,
   "metadata": {},
   "outputs": [],
   "source": [
    "class ItemCFKNNRecommender(object):\n",
    "    \n",
    "    def __init__(self, URM):\n",
    "        self.URM = URM\n",
    "        \n",
    "            \n",
    "    def fit(self, topK=50, shrink=100, normalize=True, similarity=\"cosine\"):\n",
    "        \n",
    "        similarity_object = Compute_Similarity_Python(self.URM, shrink=shrink, \n",
    "                                                  topK=topK, normalize=normalize, \n",
    "                                                  similarity = similarity)\n",
    "        \n",
    "        self.W_sparse = similarity_object.compute_similarity()\n",
    "\n",
    "        \n",
    "    def recommend(self, user_id, at=None, exclude_seen=True):\n",
    "        # compute the scores using the dot product\n",
    "        user_profile = self.URM[user_id]\n",
    "        scores = user_profile.dot(self.W_sparse).toarray().ravel()\n",
    "\n",
    "        if exclude_seen:\n",
    "            scores = self.filter_seen(user_id, scores)\n",
    "\n",
    "        # rank items\n",
    "        ranking = scores.argsort()[::-1]\n",
    "            \n",
    "        return ranking[:at]\n",
    "    \n",
    "    \n",
    "    def filter_seen(self, user_id, scores):\n",
    "\n",
    "        start_pos = self.URM.indptr[user_id]\n",
    "        end_pos = self.URM.indptr[user_id+1]\n",
    "\n",
    "        user_profile = self.URM.indices[start_pos:end_pos]\n",
    "        \n",
    "        scores[user_profile] = -np.inf\n",
    "\n",
    "        return scores"
   ]
  },
  {
   "cell_type": "markdown",
   "metadata": {},
   "source": [
    "## Test our CF recommender:"
   ]
  },
  {
   "cell_type": "code",
   "execution_count": 9,
   "metadata": {},
   "outputs": [
    {
     "name": "stdout",
     "output_type": "stream",
     "text": [
      "Similarity column 5900 ( 55 % ), 195.28 column/sec, elapsed time 0.50 min\n",
      "Similarity column 10677 ( 100 % ), 193.75 column/sec, elapsed time 0.92 min\n"
     ]
    }
   ],
   "source": [
    "recommender = ItemCFKNNRecommender(URM_train)\n",
    "recommender.fit(shrink=0.0, topK=50)"
   ]
  },
  {
   "cell_type": "markdown",
   "metadata": {},
   "source": [
    "#### Let's talk about speed\n",
    "\n",
    "#### Time to compute recommendations for a fixed group of users"
   ]
  },
  {
   "cell_type": "code",
   "execution_count": 10,
   "metadata": {},
   "outputs": [
    {
     "name": "stdout",
     "output_type": "stream",
     "text": [
      "Reasonable implementation speed is 485.85 usr/sec\n"
     ]
    }
   ],
   "source": [
    "import time\n",
    "\n",
    "n_users_to_test = 1000\n",
    "\n",
    "start_time = time.time()\n",
    "\n",
    "for user_id in range(n_users_to_test):\n",
    "    recommender.recommend(user_id, at=5)\n",
    "    \n",
    "end_time = time.time()\n",
    "\n",
    "print(\"Reasonable implementation speed is {:.2f} usr/sec\".format(n_users_to_test/(end_time-start_time)))\n"
   ]
  },
  {
   "cell_type": "markdown",
   "metadata": {},
   "source": [
    "## Remember to keep the URM in CSR format!"
   ]
  },
  {
   "cell_type": "markdown",
   "metadata": {},
   "source": [
    "## Parameter tuning\n",
    "\n",
    "#### Once we have built our model we can play with its parameters\n",
    "* Number of neighbors\n",
    "* Shrinkage\n",
    "* Similarity type"
   ]
  },
  {
   "cell_type": "markdown",
   "metadata": {},
   "source": [
    "#### Number of neighbors"
   ]
  },
  {
   "cell_type": "code",
   "execution_count": 11,
   "metadata": {},
   "outputs": [
    {
     "name": "stdout",
     "output_type": "stream",
     "text": [
      "Similarity column 6000 ( 56 % ), 197.43 column/sec, elapsed time 0.51 min\n",
      "Similarity column 10677 ( 100 % ), 191.61 column/sec, elapsed time 0.93 min\n",
      "Evaluated user 0 of 69878\n",
      "Evaluated user 10000 of 69878\n",
      "Evaluated user 20000 of 69878\n",
      "Evaluated user 30000 of 69878\n",
      "Evaluated user 40000 of 69878\n",
      "Evaluated user 50000 of 69878\n",
      "Evaluated user 60000 of 69878\n",
      "Recommender performance is: Precision = 0.3420, Recall = 0.1110, MAP = 0.2711\n",
      "Similarity column 5600 ( 52 % ), 183.90 column/sec, elapsed time 0.51 min\n",
      "Similarity column 10677 ( 100 % ), 180.31 column/sec, elapsed time 0.99 min\n",
      "Evaluated user 0 of 69878\n",
      "Evaluated user 10000 of 69878\n",
      "Evaluated user 20000 of 69878\n",
      "Evaluated user 30000 of 69878\n",
      "Evaluated user 40000 of 69878\n",
      "Evaluated user 50000 of 69878\n",
      "Evaluated user 60000 of 69878\n",
      "Recommender performance is: Precision = 0.3647, Recall = 0.1155, MAP = 0.2966\n",
      "Similarity column 5700 ( 53 % ), 186.92 column/sec, elapsed time 0.51 min\n",
      "Similarity column 10677 ( 100 % ), 184.98 column/sec, elapsed time 0.96 min\n",
      "Evaluated user 0 of 69878\n",
      "Evaluated user 10000 of 69878\n",
      "Evaluated user 20000 of 69878\n",
      "Evaluated user 30000 of 69878\n",
      "Evaluated user 40000 of 69878\n",
      "Evaluated user 50000 of 69878\n",
      "Evaluated user 60000 of 69878\n",
      "Recommender performance is: Precision = 0.3678, Recall = 0.1158, MAP = 0.3012\n",
      "Similarity column 5400 ( 51 % ), 177.84 column/sec, elapsed time 0.51 min\n",
      "Similarity column 10677 ( 100 % ), 177.40 column/sec, elapsed time 1.00 min\n",
      "Evaluated user 0 of 69878\n",
      "Evaluated user 10000 of 69878\n",
      "Evaluated user 20000 of 69878\n",
      "Evaluated user 30000 of 69878\n",
      "Evaluated user 40000 of 69878\n",
      "Evaluated user 50000 of 69878\n",
      "Evaluated user 60000 of 69878\n",
      "Recommender performance is: Precision = 0.3718, Recall = 0.1174, MAP = 0.3063\n",
      "Similarity column 6000 ( 56 % ), 199.09 column/sec, elapsed time 0.50 min\n",
      "Similarity column 10677 ( 100 % ), 200.08 column/sec, elapsed time 0.89 min\n",
      "Evaluated user 0 of 69878\n",
      "Evaluated user 10000 of 69878\n",
      "Evaluated user 20000 of 69878\n",
      "Evaluated user 30000 of 69878\n",
      "Evaluated user 40000 of 69878\n",
      "Evaluated user 50000 of 69878\n",
      "Evaluated user 60000 of 69878\n",
      "Recommender performance is: Precision = 0.3688, Recall = 0.1176, MAP = 0.3041\n"
     ]
    }
   ],
   "source": [
    "x_tick = [10, 50, 100, 200, 500]\n",
    "MAP_per_k = []\n",
    "\n",
    "for topK in x_tick:\n",
    "    \n",
    "    recommender = ItemCFKNNRecommender(URM_train)\n",
    "    recommender.fit(shrink=0.0, topK=topK)\n",
    "    \n",
    "    result_dict = evaluate_algorithm(URM_test, recommender)\n",
    "    MAP_per_k.append(result_dict[\"MAP\"])"
   ]
  },
  {
   "cell_type": "code",
   "execution_count": 12,
   "metadata": {},
   "outputs": [
    {
     "data": {
      "image/png": "[encoded data removed]",
      "text/plain": [
       "<Figure size 432x288 with 1 Axes>"
      ]
     },
     "metadata": {
      "needs_background": "light"
     },
     "output_type": "display_data"
    }
   ],
   "source": [
    "pyplot.plot(x_tick, MAP_per_k)\n",
    "pyplot.ylabel('MAP')\n",
    "pyplot.xlabel('TopK')\n",
    "pyplot.show()"
   ]
  },
  {
   "cell_type": "markdown",
   "metadata": {},
   "source": [
    "#### On this dataset the number of neighbors has a great impact on MAP.\n",
    "\n",
    "#### Different datasets will behave in different ways."
   ]
  },
  {
   "cell_type": "markdown",
   "metadata": {},
   "source": [
    "### Shrinkage"
   ]
  },
  {
   "cell_type": "code",
   "execution_count": 13,
   "metadata": {},
   "outputs": [
    {
     "name": "stdout",
     "output_type": "stream",
     "text": [
      "Similarity column 6200 ( 58 % ), 204.92 column/sec, elapsed time 0.50 min\n",
      "Similarity column 10677 ( 100 % ), 205.43 column/sec, elapsed time 0.87 min\n",
      "Evaluated user 0 of 69878\n",
      "Evaluated user 10000 of 69878\n",
      "Evaluated user 20000 of 69878\n",
      "Evaluated user 30000 of 69878\n",
      "Evaluated user 40000 of 69878\n",
      "Evaluated user 50000 of 69878\n",
      "Evaluated user 60000 of 69878\n",
      "Recommender performance is: Precision = 0.3678, Recall = 0.1158, MAP = 0.3012\n",
      "Similarity column 6200 ( 58 % ), 204.16 column/sec, elapsed time 0.51 min\n",
      "Similarity column 10677 ( 100 % ), 204.44 column/sec, elapsed time 0.87 min\n",
      "Evaluated user 0 of 69878\n",
      "Evaluated user 10000 of 69878\n",
      "Evaluated user 20000 of 69878\n",
      "Evaluated user 30000 of 69878\n",
      "Evaluated user 40000 of 69878\n",
      "Evaluated user 50000 of 69878\n",
      "Evaluated user 60000 of 69878\n",
      "Recommender performance is: Precision = 0.3678, Recall = 0.1158, MAP = 0.3012\n",
      "Similarity column 6200 ( 58 % ), 204.10 column/sec, elapsed time 0.51 min\n",
      "Similarity column 10677 ( 100 % ), 204.92 column/sec, elapsed time 0.87 min\n",
      "Evaluated user 0 of 69878\n",
      "Evaluated user 10000 of 69878\n",
      "Evaluated user 20000 of 69878\n",
      "Evaluated user 30000 of 69878\n",
      "Evaluated user 40000 of 69878\n",
      "Evaluated user 50000 of 69878\n",
      "Evaluated user 60000 of 69878\n",
      "Recommender performance is: Precision = 0.3677, Recall = 0.1158, MAP = 0.3012\n",
      "Similarity column 6200 ( 58 % ), 204.42 column/sec, elapsed time 0.51 min\n",
      "Similarity column 10677 ( 100 % ), 205.13 column/sec, elapsed time 0.87 min\n",
      "Evaluated user 0 of 69878\n",
      "Evaluated user 10000 of 69878\n",
      "Evaluated user 20000 of 69878\n",
      "Evaluated user 30000 of 69878\n",
      "Evaluated user 40000 of 69878\n",
      "Evaluated user 50000 of 69878\n",
      "Evaluated user 60000 of 69878\n",
      "Recommender performance is: Precision = 0.3677, Recall = 0.1158, MAP = 0.3012\n",
      "Similarity column 6200 ( 58 % ), 205.00 column/sec, elapsed time 0.50 min\n",
      "Similarity column 10677 ( 100 % ), 205.04 column/sec, elapsed time 0.87 min\n",
      "Evaluated user 0 of 69878\n",
      "Evaluated user 10000 of 69878\n",
      "Evaluated user 20000 of 69878\n",
      "Evaluated user 30000 of 69878\n",
      "Evaluated user 40000 of 69878\n",
      "Evaluated user 50000 of 69878\n",
      "Evaluated user 60000 of 69878\n",
      "Recommender performance is: Precision = 0.3677, Recall = 0.1158, MAP = 0.3013\n",
      "Similarity column 6200 ( 58 % ), 205.97 column/sec, elapsed time 0.50 min\n",
      "Similarity column 10677 ( 100 % ), 205.81 column/sec, elapsed time 0.86 min\n",
      "Evaluated user 0 of 69878\n",
      "Evaluated user 10000 of 69878\n",
      "Evaluated user 20000 of 69878\n",
      "Evaluated user 30000 of 69878\n",
      "Evaluated user 40000 of 69878\n",
      "Evaluated user 50000 of 69878\n",
      "Evaluated user 60000 of 69878\n",
      "Recommender performance is: Precision = 0.3677, Recall = 0.1159, MAP = 0.3012\n"
     ]
    }
   ],
   "source": [
    "x_tick = [0, 10, 50, 100, 200, 500]\n",
    "MAP_per_shrinkage = []\n",
    "\n",
    "for shrink in x_tick:\n",
    "    \n",
    "    recommender = ItemCFKNNRecommender(URM_train)\n",
    "    recommender.fit(shrink=shrink, topK=100)\n",
    "    \n",
    "    result_dict = evaluate_algorithm(URM_test, recommender)\n",
    "    MAP_per_shrinkage.append(result_dict[\"MAP\"])"
   ]
  },
  {
   "cell_type": "code",
   "execution_count": 14,
   "metadata": {
    "scrolled": true
   },
   "outputs": [
    {
     "data": {
      "image/png": "[encoded data removed]",
      "text/plain": [
       "<Figure size 432x288 with 1 Axes>"
      ]
     },
     "metadata": {
      "needs_background": "light"
     },
     "output_type": "display_data"
    }
   ],
   "source": [
    "pyplot.plot(x_tick, MAP_per_shrinkage)\n",
    "pyplot.ylabel('MAP')\n",
    "pyplot.xlabel('Shrinkage')\n",
    "pyplot.show()"
   ]
  },
  {
   "cell_type": "markdown",
   "metadata": {},
   "source": [
    "#### The shrinkage value (i.e. support) has no impact. Combine a parameter search with the two to ensure maximum recommendation quality"
   ]
  },
  {
   "cell_type": "markdown",
   "metadata": {},
   "source": [
    "## REMINDER: Be careful, overfitting!\n",
    "\n",
    "#### While a thorough parameter tuning might result in significantly higher MAP on your validation split, it could have only marginally better or even worse MAP on the test set"
   ]
  },
  {
   "cell_type": "markdown",
   "metadata": {},
   "source": [
    "# User-based Collaborative Filtering"
   ]
  },
  {
   "cell_type": "code",
   "execution_count": 15,
   "metadata": {},
   "outputs": [],
   "source": [
    "class UserCFKNNRecommender(object):\n",
    "    \n",
    "    def __init__(self, URM):\n",
    "        self.URM = URM\n",
    "        \n",
    "            \n",
    "    def fit(self, topK=50, shrink=100, normalize=True, similarity=\"cosine\"):\n",
    "        \n",
    "        similarity_object = Compute_Similarity_Python(self.URM.T, shrink=shrink, \n",
    "                                                  topK=topK, normalize=normalize, \n",
    "                                                  similarity = similarity)\n",
    "        \n",
    "        self.W_sparse = similarity_object.compute_similarity()\n",
    "\n",
    "        \n",
    "    def recommend(self, user_id, at=None, exclude_seen=True):\n",
    "        # compute the scores using the dot product\n",
    "        \n",
    "        scores = self.W_sparse[user_id, :].dot(self.URM).toarray().ravel()\n",
    "\n",
    "        if exclude_seen:\n",
    "            scores = self.filter_seen(user_id, scores)\n",
    "\n",
    "        # rank items\n",
    "        ranking = scores.argsort()[::-1]\n",
    "            \n",
    "        return ranking[:at]\n",
    "    \n",
    "    \n",
    "    def filter_seen(self, user_id, scores):\n",
    "\n",
    "        start_pos = self.URM.indptr[user_id]\n",
    "        end_pos = self.URM.indptr[user_id+1]\n",
    "\n",
    "        user_profile = self.URM.indices[start_pos:end_pos]\n",
    "        \n",
    "        scores[user_profile] = -np.inf\n",
    "\n",
    "        return scores"
   ]
  },
  {
   "cell_type": "markdown",
   "metadata": {},
   "source": [
    "## Test our CF recommender:"
   ]
  },
  {
   "cell_type": "code",
   "execution_count": 16,
   "metadata": {},
   "outputs": [
    {
     "name": "stdout",
     "output_type": "stream",
     "text": [
      "Similarity column 10300 ( 15 % ), 343.19 column/sec, elapsed time 0.50 min\n",
      "Similarity column 20600 ( 29 % ), 343.06 column/sec, elapsed time 1.00 min\n",
      "Similarity column 30900 ( 44 % ), 343.04 column/sec, elapsed time 1.50 min\n",
      "Similarity column 41200 ( 59 % ), 342.61 column/sec, elapsed time 2.00 min\n",
      "Similarity column 51600 ( 74 % ), 343.07 column/sec, elapsed time 2.51 min\n",
      "Similarity column 61900 ( 89 % ), 342.54 column/sec, elapsed time 3.01 min\n",
      "Similarity column 69878 ( 100 % ), 340.76 column/sec, elapsed time 3.42 min\n"
     ]
    }
   ],
   "source": [
    "recommender = UserCFKNNRecommender(URM_train)\n",
    "recommender.fit(shrink=0.0, topK=50)"
   ]
  },
  {
   "cell_type": "markdown",
   "metadata": {},
   "source": [
    "#### Let's talk about speed\n",
    "\n",
    "#### Time to compute recommendations for a fixed group of users"
   ]
  },
  {
   "cell_type": "code",
   "execution_count": 17,
   "metadata": {},
   "outputs": [
    {
     "name": "stdout",
     "output_type": "stream",
     "text": [
      "Reasonable implementation speed is 2580.72 usr/sec\n"
     ]
    }
   ],
   "source": [
    "import time\n",
    "\n",
    "n_users_to_test = 1000\n",
    "\n",
    "start_time = time.time()\n",
    "\n",
    "for user_id in range(n_users_to_test):\n",
    "    recommender.recommend(user_id, at=5)\n",
    "    \n",
    "end_time = time.time()\n",
    "\n",
    "print(\"Reasonable implementation speed is {:.2f} usr/sec\".format(n_users_to_test/(end_time-start_time)))\n"
   ]
  },
  {
   "cell_type": "markdown",
   "metadata": {},
   "source": [
    "## Parameter tuning\n",
    "\n",
    "#### Once we have built our model we can play with its parameters\n",
    "* Number of neighbors\n",
    "* Shrinkage\n",
    "* Similarity type"
   ]
  },
  {
   "cell_type": "markdown",
   "metadata": {},
   "source": [
    "#### Number of neighbors"
   ]
  },
  {
   "cell_type": "code",
   "execution_count": 18,
   "metadata": {},
   "outputs": [
    {
     "name": "stdout",
     "output_type": "stream",
     "text": [
      "Similarity column 10300 ( 15 % ), 343.05 column/sec, elapsed time 0.50 min\n",
      "Similarity column 19800 ( 28 % ), 329.13 column/sec, elapsed time 1.00 min\n",
      "Similarity column 25900 ( 37 % ), 287.05 column/sec, elapsed time 1.50 min\n",
      "Similarity column 32200 ( 46 % ), 266.88 column/sec, elapsed time 2.01 min\n",
      "Similarity column 40200 ( 58 % ), 266.48 column/sec, elapsed time 2.51 min\n",
      "Similarity column 49100 ( 70 % ), 270.27 column/sec, elapsed time 3.03 min\n",
      "Similarity column 56400 ( 81 % ), 266.11 column/sec, elapsed time 3.53 min\n",
      "Similarity column 66700 ( 95 % ), 275.56 column/sec, elapsed time 4.03 min\n",
      "Similarity column 69878 ( 100 % ), 277.78 column/sec, elapsed time 4.19 min\n",
      "Evaluated user 0 of 69878\n",
      "Evaluated user 10000 of 69878\n",
      "Evaluated user 20000 of 69878\n",
      "Evaluated user 30000 of 69878\n",
      "Evaluated user 40000 of 69878\n",
      "Evaluated user 50000 of 69878\n",
      "Evaluated user 60000 of 69878\n",
      "Recommender performance is: Precision = 0.2487, Recall = 0.0868, MAP = 0.1968\n",
      "Similarity column 10200 ( 15 % ), 337.30 column/sec, elapsed time 0.50 min\n",
      "Similarity column 20500 ( 29 % ), 339.78 column/sec, elapsed time 1.01 min\n",
      "Similarity column 30700 ( 44 % ), 339.75 column/sec, elapsed time 1.51 min\n",
      "Similarity column 41000 ( 59 % ), 340.21 column/sec, elapsed time 2.01 min\n",
      "Similarity column 50000 ( 72 % ), 332.08 column/sec, elapsed time 2.51 min\n",
      "Similarity column 58900 ( 84 % ), 325.61 column/sec, elapsed time 3.01 min\n",
      "Similarity column 66800 ( 96 % ), 316.32 column/sec, elapsed time 3.52 min\n",
      "Similarity column 69878 ( 100 % ), 315.49 column/sec, elapsed time 3.69 min\n",
      "Evaluated user 0 of 69878\n",
      "Evaluated user 10000 of 69878\n",
      "Evaluated user 20000 of 69878\n",
      "Evaluated user 30000 of 69878\n",
      "Evaluated user 40000 of 69878\n",
      "Evaluated user 50000 of 69878\n",
      "Evaluated user 60000 of 69878\n",
      "Recommender performance is: Precision = 0.3751, Recall = 0.1297, MAP = 0.3118\n",
      "Similarity column 9400 ( 13 % ), 310.43 column/sec, elapsed time 0.50 min\n",
      "Similarity column 18500 ( 26 % ), 306.28 column/sec, elapsed time 1.01 min\n",
      "Similarity column 28400 ( 41 % ), 313.55 column/sec, elapsed time 1.51 min\n",
      "Similarity column 38000 ( 54 % ), 314.48 column/sec, elapsed time 2.01 min\n",
      "Similarity column 45600 ( 65 % ), 302.26 column/sec, elapsed time 2.51 min\n",
      "Similarity column 54800 ( 78 % ), 302.49 column/sec, elapsed time 3.02 min\n",
      "Similarity column 64500 ( 92 % ), 305.10 column/sec, elapsed time 3.52 min\n",
      "Similarity column 69878 ( 100 % ), 305.05 column/sec, elapsed time 3.82 min\n",
      "Evaluated user 0 of 69878\n",
      "Evaluated user 10000 of 69878\n",
      "Evaluated user 20000 of 69878\n",
      "Evaluated user 30000 of 69878\n",
      "Evaluated user 40000 of 69878\n",
      "Evaluated user 50000 of 69878\n",
      "Evaluated user 60000 of 69878\n",
      "Recommender performance is: Precision = 0.4115, Recall = 0.1424, MAP = 0.3466\n",
      "Similarity column 8600 ( 12 % ), 285.47 column/sec, elapsed time 0.50 min\n",
      "Similarity column 17400 ( 25 % ), 288.74 column/sec, elapsed time 1.00 min\n",
      "Similarity column 26900 ( 38 % ), 297.44 column/sec, elapsed time 1.51 min\n",
      "Similarity column 35400 ( 51 % ), 293.34 column/sec, elapsed time 2.01 min\n",
      "Similarity column 42200 ( 60 % ), 279.82 column/sec, elapsed time 2.51 min\n",
      "Similarity column 49700 ( 71 % ), 274.78 column/sec, elapsed time 3.01 min\n",
      "Similarity column 58100 ( 83 % ), 275.46 column/sec, elapsed time 3.52 min\n",
      "Similarity column 67300 ( 96 % ), 279.29 column/sec, elapsed time 4.02 min\n",
      "Similarity column 69878 ( 100 % ), 280.30 column/sec, elapsed time 4.15 min\n",
      "Evaluated user 0 of 69878\n",
      "Evaluated user 10000 of 69878\n",
      "Evaluated user 20000 of 69878\n",
      "Evaluated user 30000 of 69878\n",
      "Evaluated user 40000 of 69878\n",
      "Evaluated user 50000 of 69878\n",
      "Evaluated user 60000 of 69878\n",
      "Recommender performance is: Precision = 0.4354, Recall = 0.1503, MAP = 0.3703\n",
      "Similarity column 8900 ( 13 % ), 295.60 column/sec, elapsed time 0.50 min\n",
      "Similarity column 17900 ( 26 % ), 297.08 column/sec, elapsed time 1.00 min\n",
      "Similarity column 27200 ( 39 % ), 301.15 column/sec, elapsed time 1.51 min\n",
      "Similarity column 36700 ( 53 % ), 304.64 column/sec, elapsed time 2.01 min\n",
      "Similarity column 45700 ( 65 % ), 303.32 column/sec, elapsed time 2.51 min\n",
      "Similarity column 53000 ( 76 % ), 292.88 column/sec, elapsed time 3.02 min\n",
      "Similarity column 59900 ( 86 % ), 283.93 column/sec, elapsed time 3.52 min\n",
      "Similarity column 66100 ( 95 % ), 273.84 column/sec, elapsed time 4.02 min\n",
      "Similarity column 69878 ( 100 % ), 265.89 column/sec, elapsed time 4.38 min\n",
      "Evaluated user 0 of 69878\n",
      "Evaluated user 10000 of 69878\n",
      "Evaluated user 20000 of 69878\n",
      "Evaluated user 30000 of 69878\n",
      "Evaluated user 40000 of 69878\n",
      "Evaluated user 50000 of 69878\n",
      "Evaluated user 60000 of 69878\n",
      "Recommender performance is: Precision = 0.4485, Recall = 0.1545, MAP = 0.3827\n"
     ]
    }
   ],
   "source": [
    "x_tick = [10, 50, 100, 200, 500]\n",
    "MAP_per_k = []\n",
    "\n",
    "for topK in x_tick:\n",
    "    \n",
    "    recommender = UserCFKNNRecommender(URM_train)\n",
    "    recommender.fit(shrink=0.0, topK=topK)\n",
    "    \n",
    "    result_dict = evaluate_algorithm(URM_test, recommender)\n",
    "    MAP_per_k.append(result_dict[\"MAP\"])"
   ]
  },
  {
   "cell_type": "code",
   "execution_count": 19,
   "metadata": {},
   "outputs": [
    {
     "data": {
      "image/png": "[encoded data removed]",
      "text/plain": [
       "<Figure size 432x288 with 1 Axes>"
      ]
     },
     "metadata": {
      "needs_background": "light"
     },
     "output_type": "display_data"
    }
   ],
   "source": [
    "pyplot.plot(x_tick, MAP_per_k)\n",
    "pyplot.ylabel('MAP')\n",
    "pyplot.xlabel('TopK')\n",
    "pyplot.show()"
   ]
  },
  {
   "cell_type": "markdown",
   "metadata": {},
   "source": [
    "#### On this dataset the number of neighbors does not have a great impact on MAP. Higher values of TopK might work even better\n",
    "\n",
    "#### Different datasets will behave in different ways."
   ]
  },
  {
   "cell_type": "markdown",
   "metadata": {},
   "source": [
    "### Shrinkage"
   ]
  },
  {
   "cell_type": "code",
   "execution_count": 20,
   "metadata": {},
   "outputs": [
    {
     "name": "stdout",
     "output_type": "stream",
     "text": [
      "Similarity column 8900 ( 13 % ), 296.64 column/sec, elapsed time 0.50 min\n",
      "Similarity column 16800 ( 24 % ), 279.41 column/sec, elapsed time 1.00 min\n",
      "Similarity column 25300 ( 36 % ), 280.27 column/sec, elapsed time 1.50 min\n",
      "Similarity column 33800 ( 48 % ), 281.01 column/sec, elapsed time 2.00 min\n",
      "Similarity column 42200 ( 60 % ), 280.17 column/sec, elapsed time 2.51 min\n",
      "Similarity column 50800 ( 73 % ), 280.87 column/sec, elapsed time 3.01 min\n",
      "Similarity column 58000 ( 83 % ), 274.66 column/sec, elapsed time 3.52 min\n",
      "Similarity column 66200 ( 95 % ), 274.47 column/sec, elapsed time 4.02 min\n",
      "Similarity column 69878 ( 100 % ), 273.01 column/sec, elapsed time 4.27 min\n",
      "Evaluated user 0 of 69878\n",
      "Evaluated user 10000 of 69878\n",
      "Evaluated user 20000 of 69878\n",
      "Evaluated user 30000 of 69878\n",
      "Evaluated user 40000 of 69878\n",
      "Evaluated user 50000 of 69878\n",
      "Evaluated user 60000 of 69878\n",
      "Recommender performance is: Precision = 0.4115, Recall = 0.1424, MAP = 0.3466\n",
      "Similarity column 5000 (  7 % ), 165.79 column/sec, elapsed time 0.50 min\n",
      "Similarity column 12500 ( 18 % ), 207.36 column/sec, elapsed time 1.00 min\n",
      "Similarity column 19400 ( 28 % ), 214.84 column/sec, elapsed time 1.51 min\n",
      "Similarity column 26700 ( 38 % ), 221.09 column/sec, elapsed time 2.01 min\n",
      "Similarity column 34900 ( 50 % ), 231.46 column/sec, elapsed time 2.51 min\n",
      "Similarity column 42800 ( 61 % ), 236.35 column/sec, elapsed time 3.02 min\n",
      "Similarity column 50400 ( 72 % ), 238.63 column/sec, elapsed time 3.52 min\n",
      "Similarity column 56600 ( 81 % ), 234.35 column/sec, elapsed time 4.03 min\n",
      "Similarity column 63800 ( 91 % ), 234.72 column/sec, elapsed time 4.53 min\n",
      "Similarity column 69878 ( 100 % ), 233.44 column/sec, elapsed time 4.99 min\n",
      "Evaluated user 0 of 69878\n",
      "Evaluated user 10000 of 69878\n",
      "Evaluated user 20000 of 69878\n",
      "Evaluated user 30000 of 69878\n",
      "Evaluated user 40000 of 69878\n",
      "Evaluated user 50000 of 69878\n",
      "Evaluated user 60000 of 69878\n",
      "Recommender performance is: Precision = 0.4116, Recall = 0.1420, MAP = 0.3467\n",
      "Similarity column 6900 ( 10 % ), 228.80 column/sec, elapsed time 0.50 min\n",
      "Similarity column 14300 ( 20 % ), 234.90 column/sec, elapsed time 1.01 min\n",
      "Similarity column 21400 ( 31 % ), 235.27 column/sec, elapsed time 1.52 min\n",
      "Similarity column 29800 ( 43 % ), 246.31 column/sec, elapsed time 2.02 min\n",
      "Similarity column 38100 ( 55 % ), 251.63 column/sec, elapsed time 2.52 min\n",
      "Similarity column 46700 ( 67 % ), 257.00 column/sec, elapsed time 3.03 min\n",
      "Similarity column 55200 ( 79 % ), 260.70 column/sec, elapsed time 3.53 min\n",
      "Similarity column 64200 ( 92 % ), 265.30 column/sec, elapsed time 4.03 min\n",
      "Similarity column 69878 ( 100 % ), 268.94 column/sec, elapsed time 4.33 min\n",
      "Evaluated user 0 of 69878\n",
      "Evaluated user 10000 of 69878\n",
      "Evaluated user 20000 of 69878\n",
      "Evaluated user 30000 of 69878\n",
      "Evaluated user 40000 of 69878\n",
      "Evaluated user 50000 of 69878\n",
      "Evaluated user 60000 of 69878\n",
      "Recommender performance is: Precision = 0.4105, Recall = 0.1401, MAP = 0.3457\n",
      "Similarity column 8600 ( 12 % ), 284.33 column/sec, elapsed time 0.50 min\n",
      "Similarity column 17400 ( 25 % ), 287.62 column/sec, elapsed time 1.01 min\n",
      "Similarity column 26300 ( 38 % ), 289.69 column/sec, elapsed time 1.51 min\n",
      "Similarity column 35600 ( 51 % ), 294.64 column/sec, elapsed time 2.01 min\n",
      "Similarity column 44900 ( 64 % ), 297.08 column/sec, elapsed time 2.52 min\n",
      "Similarity column 53600 ( 77 % ), 295.48 column/sec, elapsed time 3.02 min\n",
      "Similarity column 62900 ( 90 % ), 297.39 column/sec, elapsed time 3.53 min\n",
      "Similarity column 69878 ( 100 % ), 298.58 column/sec, elapsed time 3.90 min\n",
      "Evaluated user 0 of 69878\n",
      "Evaluated user 10000 of 69878\n",
      "Evaluated user 20000 of 69878\n",
      "Evaluated user 30000 of 69878\n",
      "Evaluated user 40000 of 69878\n",
      "Evaluated user 50000 of 69878\n",
      "Evaluated user 60000 of 69878\n",
      "Recommender performance is: Precision = 0.4078, Recall = 0.1374, MAP = 0.3436\n",
      "Similarity column 9100 ( 13 % ), 302.43 column/sec, elapsed time 0.50 min\n",
      "Similarity column 18000 ( 26 % ), 298.30 column/sec, elapsed time 1.01 min\n",
      "Similarity column 26200 ( 37 % ), 289.18 column/sec, elapsed time 1.51 min\n",
      "Similarity column 34900 ( 50 % ), 289.16 column/sec, elapsed time 2.01 min\n",
      "Similarity column 43500 ( 62 % ), 288.52 column/sec, elapsed time 2.51 min\n",
      "Similarity column 51800 ( 74 % ), 286.07 column/sec, elapsed time 3.02 min\n",
      "Similarity column 61200 ( 88 % ), 289.86 column/sec, elapsed time 3.52 min\n",
      "Similarity column 69878 ( 100 % ), 292.24 column/sec, elapsed time 3.99 min\n",
      "Evaluated user 0 of 69878\n",
      "Evaluated user 10000 of 69878\n",
      "Evaluated user 20000 of 69878\n",
      "Evaluated user 30000 of 69878\n",
      "Evaluated user 40000 of 69878\n",
      "Evaluated user 50000 of 69878\n",
      "Evaluated user 60000 of 69878\n",
      "Recommender performance is: Precision = 0.3983, Recall = 0.1297, MAP = 0.3361\n",
      "Similarity column 8200 ( 12 % ), 272.75 column/sec, elapsed time 0.50 min\n",
      "Similarity column 16500 ( 24 % ), 274.19 column/sec, elapsed time 1.00 min\n",
      "Similarity column 25200 ( 36 % ), 278.63 column/sec, elapsed time 1.51 min\n",
      "Similarity column 34500 ( 49 % ), 285.71 column/sec, elapsed time 2.01 min\n",
      "Similarity column 44100 ( 63 % ), 292.01 column/sec, elapsed time 2.52 min\n",
      "Similarity column 52900 ( 76 % ), 292.12 column/sec, elapsed time 3.02 min\n",
      "Similarity column 62300 ( 89 % ), 294.78 column/sec, elapsed time 3.52 min\n",
      "Similarity column 69878 ( 100 % ), 295.82 column/sec, elapsed time 3.94 min\n",
      "Evaluated user 0 of 69878\n",
      "Evaluated user 10000 of 69878\n",
      "Evaluated user 20000 of 69878\n",
      "Evaluated user 30000 of 69878\n",
      "Evaluated user 40000 of 69878\n",
      "Evaluated user 50000 of 69878\n",
      "Evaluated user 60000 of 69878\n",
      "Recommender performance is: Precision = 0.3674, Recall = 0.1093, MAP = 0.3106\n"
     ]
    }
   ],
   "source": [
    "x_tick = [0, 10, 50, 100, 200, 500]\n",
    "MAP_per_shrinkage = []\n",
    "\n",
    "for shrink in x_tick:\n",
    "    \n",
    "    recommender = UserCFKNNRecommender(URM_train)\n",
    "    recommender.fit(shrink=shrink, topK=100)\n",
    "    \n",
    "    result_dict = evaluate_algorithm(URM_test, recommender)\n",
    "    MAP_per_shrinkage.append(result_dict[\"MAP\"])"
   ]
  },
  {
   "cell_type": "code",
   "execution_count": 21,
   "metadata": {
    "scrolled": true
   },
   "outputs": [
    {
     "data": {
      "image/png": "[encoded data removed]",
      "text/plain": [
       "<Figure size 432x288 with 1 Axes>"
      ]
     },
     "metadata": {
      "needs_background": "light"
     },
     "output_type": "display_data"
    }
   ],
   "source": [
    "pyplot.plot(x_tick, MAP_per_shrinkage)\n",
    "pyplot.ylabel('MAP')\n",
    "pyplot.xlabel('Shrinkage')\n",
    "pyplot.show()"
   ]
  },
  {
   "cell_type": "markdown",
   "metadata": {},
   "source": [
    "## And now load the content information:"
   ]
  },
  {
   "cell_type": "code",
   "execution_count": 22,
   "metadata": {},
   "outputs": [],
   "source": [
    "ICM_path = dataFile.extract(\"ml-10M100K/tags.dat\", path = \"data/Movielens_10M\")\n",
    "ICM_file = open(ICM_path, 'r')\n",
    "\n",
    "def rowSplit (rowString):\n",
    "    split = rowString.split(\"::\")\n",
    "    split[3] = split[3].replace(\"\\n\",\"\")\n",
    "    \n",
    "    split[0] = int(split[0])\n",
    "    split[1] = int(split[1])\n",
    "    split[2] = str(split[2]) # tag is a string, not a float like the rating\n",
    "    split[3] = int(split[3])\n",
    "    \n",
    "    result = tuple(split)\n",
    "    \n",
    "    return result\n",
    "\n",
    "ICM_file.seek(0)\n",
    "ICM_tuples = []\n",
    "\n",
    "for line in ICM_file:\n",
    "    ICM_tuples.append(rowSplit(line))\n",
    "    \n",
    "userList_icm, itemList_icm, tagList_icm, timestampList_icm = zip(*ICM_tuples)\n",
    "\n",
    "userList_icm = list(userList_icm)\n",
    "itemList_icm = list(itemList_icm)\n",
    "tagList_icm = list(tagList_icm)\n",
    "timestampList_icm = list(timestampList_icm)\n"
   ]
  },
  {
   "cell_type": "code",
   "execution_count": 23,
   "metadata": {},
   "outputs": [
    {
     "name": "stdout",
     "output_type": "stream",
     "text": [
      "Users ICM data, ID: min 15, max 71556, unique 4009, missig 94.40 %\n",
      "Items ICM data, ID: min 1, max 65130, unique 7601, missig 88.33 %\n"
     ]
    }
   ],
   "source": [
    "list_ID_stats(userList_icm, \"Users ICM\")\n",
    "list_ID_stats(itemList_icm, \"Items ICM\")"
   ]
  },
  {
   "cell_type": "markdown",
   "metadata": {},
   "source": [
    "### The numbers of items and users in the ICM matrix is different from what we saw in the URM, why?\n",
    "\n",
    "### The tags are string, we should traslate them into numbers so we can use them as indices in the ICM"
   ]
  },
  {
   "cell_type": "code",
   "execution_count": 24,
   "metadata": {},
   "outputs": [
    {
     "name": "stdout",
     "output_type": "stream",
     "text": [
      "[ 9814 13375 14131  8515 10769 14070  7015  8071 14829 14900]\n"
     ]
    }
   ],
   "source": [
    "from sklearn import preprocessing\n",
    "le = preprocessing.LabelEncoder()\n",
    "le.fit(tagList_icm)\n",
    "\n",
    "tagList_icm = le.transform(tagList_icm)\n",
    "\n",
    "print(tagList_icm[0:10])"
   ]
  },
  {
   "cell_type": "markdown",
   "metadata": {},
   "source": [
    "# We can now build the ICM\n",
    "\n",
    "#### Be careful with the indices!"
   ]
  },
  {
   "cell_type": "code",
   "execution_count": 25,
   "metadata": {},
   "outputs": [
    {
     "data": {
      "text/plain": [
       "<65134x16529 sparse matrix of type '<class 'numpy.float64'>'\n",
       "\twith 71155 stored elements in Compressed Sparse Row format>"
      ]
     },
     "execution_count": 25,
     "metadata": {},
     "output_type": "execute_result"
    }
   ],
   "source": [
    "import numpy as np\n",
    "\n",
    "n_items = len(warm_items_mask)\n",
    "n_tags = max(tagList_icm) + 1\n",
    "\n",
    "ICM_shape = (n_items, n_tags)\n",
    "\n",
    "ones = np.ones(len(tagList_icm))\n",
    "ICM_all = sps.coo_matrix((ones, (itemList_icm, tagList_icm)), shape = ICM_shape)\n",
    "ICM_all = ICM_all.tocsr()\n",
    "\n",
    "ICM_all"
   ]
  },
  {
   "cell_type": "markdown",
   "metadata": {},
   "source": [
    "## Remember the mapping of the URM? It is not the same of the ICM one anymore!\n",
    "## We have to keep only the warm items also in the ICM"
   ]
  },
  {
   "cell_type": "code",
   "execution_count": 26,
   "metadata": {},
   "outputs": [
    {
     "data": {
      "text/plain": [
       "<10677x16529 sparse matrix of type '<class 'numpy.float64'>'\n",
       "\twith 71125 stored elements in Compressed Sparse Row format>"
      ]
     },
     "execution_count": 26,
     "metadata": {},
     "output_type": "execute_result"
    }
   ],
   "source": [
    "ICM_all = ICM_all[warm_items, :]\n",
    "ICM_all = ICM_all.tocsr()\n",
    "\n",
    "ICM_all"
   ]
  },
  {
   "cell_type": "markdown",
   "metadata": {},
   "source": [
    "## We can also remove the features that have no occurencies anymore"
   ]
  },
  {
   "cell_type": "code",
   "execution_count": 27,
   "metadata": {},
   "outputs": [
    {
     "data": {
      "text/plain": [
       "<10677x16529 sparse matrix of type '<class 'numpy.float64'>'\n",
       "\twith 71125 stored elements in Compressed Sparse Row format>"
      ]
     },
     "execution_count": 27,
     "metadata": {},
     "output_type": "execute_result"
    }
   ],
   "source": [
    "warm_features_mask = np.ediff1d(ICM_all.tocsc().indptr) > 0\n",
    "warm_features = np.arange(ICM_all.shape[1])[warm_features_mask]\n",
    "# Don't forget to keep the mapping\n",
    "\n",
    "ICM_all = ICM_all[:, warm_features]\n",
    "ICM_all = ICM_all.tocsr()\n",
    "\n",
    "ICM_all"
   ]
  },
  {
   "cell_type": "markdown",
   "metadata": {},
   "source": [
    "## We could have items without features..."
   ]
  },
  {
   "cell_type": "code",
   "execution_count": 28,
   "metadata": {},
   "outputs": [
    {
     "data": {
      "text/plain": [
       "3080"
      ]
     },
     "execution_count": 28,
     "metadata": {},
     "output_type": "execute_result"
    }
   ],
   "source": [
    "nofeatures_items_mask = np.ediff1d(ICM_all.tocsr().indptr) <= 0\n",
    "nofeatures_items_mask.sum()"
   ]
  },
  {
   "cell_type": "markdown",
   "metadata": {},
   "source": [
    "## We might not remove them in some cases, but we will do it for our comparison"
   ]
  },
  {
   "cell_type": "code",
   "execution_count": 29,
   "metadata": {},
   "outputs": [
    {
     "data": {
      "text/plain": [
       "<7597x16529 sparse matrix of type '<class 'numpy.float64'>'\n",
       "\twith 71125 stored elements in Compressed Sparse Row format>"
      ]
     },
     "execution_count": 29,
     "metadata": {},
     "output_type": "execute_result"
    }
   ],
   "source": [
    "warm_items_mask_2 = np.ediff1d(ICM_all.tocsr().indptr) > 0\n",
    "warm_items_2 = np.arange(ICM_all.shape[0])[warm_items_mask_2]\n",
    "\n",
    "ICM_all = ICM_all[warm_items_2, :]\n",
    "ICM_all = ICM_all.tocsr()\n",
    "\n",
    "ICM_all"
   ]
  },
  {
   "cell_type": "markdown",
   "metadata": {},
   "source": [
    "## Now we have to remove these items also from the URM and the cold users consequently"
   ]
  },
  {
   "cell_type": "code",
   "execution_count": 30,
   "metadata": {},
   "outputs": [
    {
     "data": {
      "text/plain": [
       "<69878x7597 sparse matrix of type '<class 'numpy.float64'>'\n",
       "\twith 9708495 stored elements in Compressed Sparse Row format>"
      ]
     },
     "execution_count": 30,
     "metadata": {},
     "output_type": "execute_result"
    }
   ],
   "source": [
    "URM_all = URM_all[:, warm_items_2]\n",
    "URM_all = URM_all.tocsr()\n",
    "\n",
    "warm_users_mask_2 = np.ediff1d(URM_all.tocsr().indptr) > 0\n",
    "warm_users_2 = np.arange(URM_all.shape[0])[warm_users_mask_2]\n",
    "\n",
    "URM_all = URM_all[warm_users_2, :]\n",
    "URM_all = URM_all.tocsr()\n",
    "\n",
    "URM_all"
   ]
  },
  {
   "cell_type": "markdown",
   "metadata": {},
   "source": [
    "## Split the new URM for train and test"
   ]
  },
  {
   "cell_type": "code",
   "execution_count": 31,
   "metadata": {},
   "outputs": [],
   "source": [
    "from Notebooks_utils.data_splitter import train_test_holdout\n",
    "\n",
    "\n",
    "URM_train, URM_test = train_test_holdout(URM_all, train_perc = 0.8)\n",
    "\n",
    "\n",
    "from Notebooks_utils.evaluation_function import evaluate_algorithm\n",
    "from Base.Similarity.Compute_Similarity_Python import Compute_Similarity_Python"
   ]
  },
  {
   "cell_type": "markdown",
   "metadata": {},
   "source": [
    "## We are finally ready for the comparison"
   ]
  },
  {
   "cell_type": "markdown",
   "metadata": {},
   "source": [
    "### Rewrite the content-based recommender"
   ]
  },
  {
   "cell_type": "code",
   "execution_count": 32,
   "metadata": {},
   "outputs": [],
   "source": [
    "class ItemCBFKNNRecommender(object):\n",
    "    \n",
    "    def __init__(self, URM, ICM):\n",
    "        self.URM = URM\n",
    "        self.ICM = ICM\n",
    "        \n",
    "            \n",
    "    def fit(self, topK=50, shrink=100, normalize=True, similarity=\"cosine\"):\n",
    "        \n",
    "        similarity_object = Compute_Similarity_Python(self.ICM.T, shrink=shrink, \n",
    "                                                  topK=topK, normalize=normalize, \n",
    "                                                  similarity = similarity)\n",
    "        \n",
    "        self.W_sparse = similarity_object.compute_similarity()\n",
    "\n",
    "        \n",
    "    def recommend(self, user_id, at=None, exclude_seen=True):\n",
    "        # compute the scores using the dot product\n",
    "        user_profile = self.URM[user_id]\n",
    "        scores = user_profile.dot(self.W_sparse).toarray().ravel()\n",
    "\n",
    "        if exclude_seen:\n",
    "            scores = self.filter_seen(user_id, scores)\n",
    "\n",
    "        # rank items\n",
    "        ranking = scores.argsort()[::-1]\n",
    "            \n",
    "        return ranking[:at]\n",
    "    \n",
    "    \n",
    "    def filter_seen(self, user_id, scores):\n",
    "\n",
    "        start_pos = self.URM.indptr[user_id]\n",
    "        end_pos = self.URM.indptr[user_id+1]\n",
    "\n",
    "        user_profile = self.URM.indices[start_pos:end_pos]\n",
    "        \n",
    "        scores[user_profile] = -np.inf\n",
    "\n",
    "        return scores"
   ]
  },
  {
   "cell_type": "code",
   "execution_count": 33,
   "metadata": {},
   "outputs": [
    {
     "name": "stdout",
     "output_type": "stream",
     "text": [
      "Similarity column 7597 ( 100 % ), 4318.96 column/sec, elapsed time 0.03 min\n",
      "Similarity column 5700 ( 75 % ), 189.12 column/sec, elapsed time 0.50 min\n",
      "Similarity column 7597 ( 100 % ), 189.06 column/sec, elapsed time 0.67 min\n",
      "Evaluated user 0 of 69878\n",
      "Evaluated user 10000 of 69878\n",
      "Evaluated user 20000 of 69878\n",
      "Evaluated user 30000 of 69878\n",
      "Evaluated user 40000 of 69878\n",
      "Evaluated user 50000 of 69878\n",
      "Evaluated user 60000 of 69878\n",
      "Recommender performance is: Precision = 0.1159, Recall = 0.0252, MAP = 0.0836\n",
      "Evaluated user 0 of 69878\n",
      "Evaluated user 10000 of 69878\n",
      "Evaluated user 20000 of 69878\n",
      "Evaluated user 30000 of 69878\n",
      "Evaluated user 40000 of 69878\n",
      "Evaluated user 50000 of 69878\n",
      "Evaluated user 60000 of 69878\n",
      "Recommender performance is: Precision = 0.3647, Recall = 0.1178, MAP = 0.2968\n",
      "Similarity column 7597 ( 100 % ), 4442.76 column/sec, elapsed time 0.03 min\n",
      "Similarity column 5400 ( 71 % ), 176.87 column/sec, elapsed time 0.51 min\n",
      "Similarity column 7597 ( 100 % ), 177.08 column/sec, elapsed time 0.72 min\n",
      "Evaluated user 0 of 69878\n",
      "Evaluated user 10000 of 69878\n",
      "Evaluated user 20000 of 69878\n",
      "Evaluated user 30000 of 69878\n",
      "Evaluated user 40000 of 69878\n",
      "Evaluated user 50000 of 69878\n",
      "Evaluated user 60000 of 69878\n",
      "Recommender performance is: Precision = 0.1350, Recall = 0.0290, MAP = 0.0997\n",
      "Evaluated user 0 of 69878\n",
      "Evaluated user 10000 of 69878\n",
      "Evaluated user 20000 of 69878\n",
      "Evaluated user 30000 of 69878\n",
      "Evaluated user 40000 of 69878\n",
      "Evaluated user 50000 of 69878\n",
      "Evaluated user 60000 of 69878\n",
      "Recommender performance is: Precision = 0.3647, Recall = 0.1178, MAP = 0.2967\n",
      "Similarity column 7597 ( 100 % ), 4660.41 column/sec, elapsed time 0.03 min\n",
      "Similarity column 5800 ( 76 % ), 192.47 column/sec, elapsed time 0.50 min\n",
      "Similarity column 7597 ( 100 % ), 192.08 column/sec, elapsed time 0.66 min\n",
      "Evaluated user 0 of 69878\n",
      "Evaluated user 10000 of 69878\n",
      "Evaluated user 20000 of 69878\n",
      "Evaluated user 30000 of 69878\n",
      "Evaluated user 40000 of 69878\n",
      "Evaluated user 50000 of 69878\n",
      "Evaluated user 60000 of 69878\n",
      "Recommender performance is: Precision = 0.1441, Recall = 0.0306, MAP = 0.1066\n",
      "Evaluated user 0 of 69878\n",
      "Evaluated user 10000 of 69878\n",
      "Evaluated user 20000 of 69878\n",
      "Evaluated user 30000 of 69878\n",
      "Evaluated user 40000 of 69878\n",
      "Evaluated user 50000 of 69878\n",
      "Evaluated user 60000 of 69878\n",
      "Recommender performance is: Precision = 0.3646, Recall = 0.1178, MAP = 0.2967\n",
      "Similarity column 7597 ( 100 % ), 4177.51 column/sec, elapsed time 0.03 min\n",
      "Similarity column 6100 ( 80 % ), 201.74 column/sec, elapsed time 0.50 min\n",
      "Similarity column 7597 ( 100 % ), 202.42 column/sec, elapsed time 0.63 min\n",
      "Evaluated user 0 of 69878\n",
      "Evaluated user 10000 of 69878\n",
      "Evaluated user 20000 of 69878\n",
      "Evaluated user 30000 of 69878\n",
      "Evaluated user 40000 of 69878\n",
      "Evaluated user 50000 of 69878\n",
      "Evaluated user 60000 of 69878\n",
      "Recommender performance is: Precision = 0.1208, Recall = 0.0263, MAP = 0.0878\n",
      "Evaluated user 0 of 69878\n",
      "Evaluated user 10000 of 69878\n",
      "Evaluated user 20000 of 69878\n",
      "Evaluated user 30000 of 69878\n",
      "Evaluated user 40000 of 69878\n",
      "Evaluated user 50000 of 69878\n",
      "Evaluated user 60000 of 69878\n",
      "Recommender performance is: Precision = 0.3683, Recall = 0.1185, MAP = 0.3013\n",
      "Similarity column 7597 ( 100 % ), 4879.40 column/sec, elapsed time 0.03 min\n",
      "Similarity column 6300 ( 83 % ), 209.45 column/sec, elapsed time 0.50 min\n",
      "Similarity column 7597 ( 100 % ), 209.91 column/sec, elapsed time 0.60 min\n",
      "Evaluated user 0 of 69878\n",
      "Evaluated user 10000 of 69878\n",
      "Evaluated user 20000 of 69878\n",
      "Evaluated user 30000 of 69878\n",
      "Evaluated user 40000 of 69878\n",
      "Evaluated user 50000 of 69878\n",
      "Evaluated user 60000 of 69878\n",
      "Recommender performance is: Precision = 0.1387, Recall = 0.0299, MAP = 0.1018\n",
      "Evaluated user 0 of 69878\n",
      "Evaluated user 10000 of 69878\n",
      "Evaluated user 20000 of 69878\n",
      "Evaluated user 30000 of 69878\n",
      "Evaluated user 40000 of 69878\n",
      "Evaluated user 50000 of 69878\n",
      "Evaluated user 60000 of 69878\n",
      "Recommender performance is: Precision = 0.3683, Recall = 0.1184, MAP = 0.3012\n",
      "Similarity column 7597 ( 100 % ), 3793.43 column/sec, elapsed time 0.03 min\n",
      "Similarity column 5900 ( 78 % ), 193.86 column/sec, elapsed time 0.51 min\n",
      "Similarity column 7597 ( 100 % ), 188.89 column/sec, elapsed time 0.67 min\n",
      "Evaluated user 0 of 69878\n",
      "Evaluated user 10000 of 69878\n",
      "Evaluated user 20000 of 69878\n",
      "Evaluated user 30000 of 69878\n",
      "Evaluated user 40000 of 69878\n",
      "Evaluated user 50000 of 69878\n",
      "Evaluated user 60000 of 69878\n",
      "Recommender performance is: Precision = 0.1477, Recall = 0.0317, MAP = 0.1092\n",
      "Evaluated user 0 of 69878\n",
      "Evaluated user 10000 of 69878\n",
      "Evaluated user 20000 of 69878\n",
      "Evaluated user 30000 of 69878\n",
      "Evaluated user 40000 of 69878\n",
      "Evaluated user 50000 of 69878\n",
      "Evaluated user 60000 of 69878\n",
      "Recommender performance is: Precision = 0.3683, Recall = 0.1184, MAP = 0.3012\n",
      "Similarity column 7597 ( 100 % ), 4248.59 column/sec, elapsed time 0.03 min\n",
      "Similarity column 5900 ( 78 % ), 195.22 column/sec, elapsed time 0.50 min\n",
      "Similarity column 7597 ( 100 % ), 196.08 column/sec, elapsed time 0.65 min\n",
      "Evaluated user 0 of 69878\n",
      "Evaluated user 10000 of 69878\n",
      "Evaluated user 20000 of 69878\n",
      "Evaluated user 30000 of 69878\n",
      "Evaluated user 40000 of 69878\n",
      "Evaluated user 50000 of 69878\n",
      "Evaluated user 60000 of 69878\n",
      "Recommender performance is: Precision = 0.1256, Recall = 0.0272, MAP = 0.0898\n",
      "Evaluated user 0 of 69878\n",
      "Evaluated user 10000 of 69878\n",
      "Evaluated user 20000 of 69878\n",
      "Evaluated user 30000 of 69878\n",
      "Evaluated user 40000 of 69878\n",
      "Evaluated user 50000 of 69878\n",
      "Evaluated user 60000 of 69878\n",
      "Recommender performance is: Precision = 0.3697, Recall = 0.1189, MAP = 0.3043\n",
      "Similarity column 7597 ( 100 % ), 4220.11 column/sec, elapsed time 0.03 min\n",
      "Similarity column 5700 ( 75 % ), 187.13 column/sec, elapsed time 0.51 min\n",
      "Similarity column 7597 ( 100 % ), 186.34 column/sec, elapsed time 0.68 min\n",
      "Evaluated user 0 of 69878\n",
      "Evaluated user 10000 of 69878\n",
      "Evaluated user 20000 of 69878\n",
      "Evaluated user 30000 of 69878\n",
      "Evaluated user 40000 of 69878\n",
      "Evaluated user 50000 of 69878\n",
      "Evaluated user 60000 of 69878\n",
      "Recommender performance is: Precision = 0.1420, Recall = 0.0306, MAP = 0.1029\n",
      "Evaluated user 0 of 69878\n",
      "Evaluated user 10000 of 69878\n",
      "Evaluated user 20000 of 69878\n",
      "Evaluated user 30000 of 69878\n",
      "Evaluated user 40000 of 69878\n",
      "Evaluated user 50000 of 69878\n",
      "Evaluated user 60000 of 69878\n",
      "Recommender performance is: Precision = 0.3697, Recall = 0.1189, MAP = 0.3043\n",
      "Similarity column 7597 ( 100 % ), 3890.72 column/sec, elapsed time 0.03 min\n",
      "Similarity column 4600 ( 61 % ), 150.10 column/sec, elapsed time 0.51 min\n",
      "Similarity column 7597 ( 100 % ), 160.03 column/sec, elapsed time 0.79 min\n",
      "Evaluated user 0 of 69878\n",
      "Evaluated user 10000 of 69878\n",
      "Evaluated user 20000 of 69878\n",
      "Evaluated user 30000 of 69878\n",
      "Evaluated user 40000 of 69878\n",
      "Evaluated user 50000 of 69878\n",
      "Evaluated user 60000 of 69878\n",
      "Recommender performance is: Precision = 0.1511, Recall = 0.0324, MAP = 0.1107\n",
      "Evaluated user 0 of 69878\n",
      "Evaluated user 10000 of 69878\n",
      "Evaluated user 20000 of 69878\n",
      "Evaluated user 30000 of 69878\n",
      "Evaluated user 40000 of 69878\n",
      "Evaluated user 50000 of 69878\n",
      "Evaluated user 60000 of 69878\n",
      "Recommender performance is: Precision = 0.3697, Recall = 0.1189, MAP = 0.3043\n"
     ]
    }
   ],
   "source": [
    "content_recommender = ItemCBFKNNRecommender(URM_train, ICM_all)\n",
    "collaborative_recommender = ItemCFKNNRecommender(URM_train)\n",
    "\n",
    "for topK in [50, 100, 200]:\n",
    "    for shrink in [10, 50, 100]:\n",
    "        content_recommender.fit(shrink=shrink, topK=topK)\n",
    "        collaborative_recommender.fit(shrink=shrink, topK=topK)\n",
    "        \n",
    "        result_dict = evaluate_algorithm(URM_test, content_recommender)\n",
    "        MAP_per_k.append(result_dict[\"MAP\"])\n",
    "        \n",
    "        result_dict = evaluate_algorithm(URM_test, collaborative_recommender)\n",
    "        MAP_per_k.append(result_dict[\"MAP\"])"
   ]
  },
  {
   "cell_type": "markdown",
   "metadata": {},
   "source": [
    "## Collaborative is outperforming content-based by a large margin, as we could expect"
   ]
  },
  {
   "cell_type": "markdown",
   "metadata": {},
   "source": [
    "### Let's try to see how the recommendations are distributed"
   ]
  },
  {
   "cell_type": "code",
   "execution_count": 34,
   "metadata": {},
   "outputs": [
    {
     "name": "stdout",
     "output_type": "stream",
     "text": [
      "Recommended to user 0/69878\n",
      "Recommended to user 10000/69878\n",
      "Recommended to user 20000/69878\n",
      "Recommended to user 30000/69878\n",
      "Recommended to user 40000/69878\n",
      "Recommended to user 50000/69878\n",
      "Recommended to user 60000/69878\n"
     ]
    },
    {
     "data": {
      "image/png": "[encoded data removed]",
      "text/plain": [
       "<Figure size 432x288 with 1 Axes>"
      ]
     },
     "metadata": {
      "needs_background": "light"
     },
     "output_type": "display_data"
    }
   ],
   "source": [
    "x_tick = np.arange(URM_all.shape[1])\n",
    "counter = np.zeros(URM_all.shape[1])\n",
    "for user_id in range(URM_all.shape[0]):\n",
    "    recs = collaborative_recommender.recommend(user_id, at=5)\n",
    "    counter[recs] += 1\n",
    "    if user_id % 10000 == 0:\n",
    "        print(\"Recommended to user {}/{}\".format(user_id, URM_all.shape[0]))\n",
    "\n",
    "pyplot.plot(x_tick, np.sort(counter)[::-1])\n",
    "pyplot.ylabel('Number of recommendations')\n",
    "pyplot.xlabel('Items')\n",
    "pyplot.show()"
   ]
  },
  {
   "cell_type": "code",
   "execution_count": 35,
   "metadata": {},
   "outputs": [
    {
     "name": "stdout",
     "output_type": "stream",
     "text": [
      "Recommended to user 0/69878\n",
      "Recommended to user 10000/69878\n",
      "Recommended to user 20000/69878\n",
      "Recommended to user 30000/69878\n",
      "Recommended to user 40000/69878\n",
      "Recommended to user 50000/69878\n",
      "Recommended to user 60000/69878\n"
     ]
    },
    {
     "data": {
      "image/png": "[encoded data removed]",
      "text/plain": [
       "<Figure size 432x288 with 1 Axes>"
      ]
     },
     "metadata": {
      "needs_background": "light"
     },
     "output_type": "display_data"
    }
   ],
   "source": [
    "x_tick = np.arange(URM_all.shape[1])\n",
    "counter = np.zeros(URM_all.shape[1])\n",
    "for user_id in range(URM_all.shape[0]):\n",
    "    recs = content_recommender.recommend(user_id, at=5)\n",
    "    counter[recs] += 1\n",
    "    if user_id % 10000 == 0:\n",
    "        print(\"Recommended to user {}/{}\".format(user_id, URM_all.shape[0]))\n",
    "\n",
    "pyplot.plot(x_tick, np.sort(counter)[::-1])\n",
    "pyplot.ylabel('Number of recommendations')\n",
    "pyplot.xlabel('Items')\n",
    "pyplot.show()"
   ]
  },
  {
   "cell_type": "markdown",
   "metadata": {},
   "source": [
    "## Really unexpected!\n",
    "* Configuration\n",
    "* User tags"
   ]
  },
  {
   "cell_type": "code",
   "execution_count": null,
   "metadata": {},
   "outputs": [],
   "source": []
  }
 ],
 "metadata": {
  "anaconda-cloud": {},
  "kernelspec": {
   "display_name": "Python 3",
   "language": "python",
   "name": "python3"
  },
  "language_info": {
   "codemirror_mode": {
    "name": "ipython",
    "version": 3
   },
   "file_extension": ".py",
   "mimetype": "text/x-python",
   "name": "python",
   "nbconvert_exporter": "python",
   "pygments_lexer": "ipython3",
   "version": "3.7.5"
  }
 },
 "nbformat": 4,
 "nbformat_minor": 1
}
