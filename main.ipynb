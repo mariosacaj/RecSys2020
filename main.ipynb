{
 "cells": [
  {
   "cell_type": "code",
   "execution_count": 2,
   "metadata": {
    "_cell_guid": "b1076dfc-b9ad-4769-8c92-a6c4dae69d19",
    "_uuid": "8f2839f25d086af736a60e9eeb907d3b93b6e0e5",
    "colab": {},
    "colab_type": "code",
    "id": "7Ifkd08Lq3wR",
    "pycharm": {
     "is_executing": false
    }
   },
   "outputs": [],
   "source": [
    "## RECSYS CHALLENGE 2020 ##\n",
    "# Evaluation or scoring?\n",
    "eval = True"
   ]
  },
  {
   "cell_type": "code",
   "execution_count": 1,
   "metadata": {
    "colab": {},
    "colab_type": "code",
    "id": "6mDejDEXq3wW",
    "pycharm": {
     "is_executing": false
    }
   },
   "outputs": [],
   "source": [
    "# Loading from CSV files...\n",
    "from RecLib.DataLoad import *\n",
    "UCM_age, ICM_subclass, ICM_asset, ICM_price, UCM_region, target_users, URM = dataLoad()"
   ]
  },
  {
   "cell_type": "code",
   "execution_count": null,
   "metadata": {
    "colab": {},
    "colab_type": "code",
    "id": "m4FzKl-xq3wc",
    "pycharm": {
     "is_executing": false
    }
   },
   "outputs": [],
   "source": [
    "import scipy.sparse as sps\n",
    "URM = URM.tocsr()"
   ]
  },
  {
   "cell_type": "code",
   "execution_count": null,
   "metadata": {
    "colab": {},
    "colab_type": "code",
    "id": "aODXsh3XsyJA",
    "pycharm": {
     "is_executing": false
    }
   },
   "outputs": [],
   "source": [
    "# Split dataset (train % of .9999 gives similar performance on test set and competition set)\n",
    "from Notebooks_utils.data_splitter import train_test_holdout\n",
    "URM_train, URM_test = train_test_holdout(URM, train_perc = 0.8)\n",
    "\n",
    "\n",
    "if not eval:\n",
    "    URM_train = URM\n",
    "else:\n",
    "    from Base.Evaluation.Evaluator import EvaluatorHoldout\n",
    "    from RecLib.Evaluate import *\n",
    "    evaluator_validation = EvaluatorHoldout(URM_test, cutoff_list=[10])"
   ]
  },
  {
   "cell_type": "code",
   "execution_count": null,
   "outputs": [],
   "source": [
    "# Load Item & User Content matrix\n",
    "ICM, UCM = contentMatrixLoad(URM_train, ICM_subclass, ICM_price, ICM_asset, UCM_age, UCM_region)\n"
   ],
   "metadata": {
    "collapsed": false,
    "pycharm": {
     "name": "#%%\n"
    }
   }
  },
  {
   "cell_type": "code",
   "execution_count": null,
   "metadata": {
    "pycharm": {
     "is_executing": false,
     "name": "#%%\n"
    }
   },
   "outputs": [],
   "source": [
    "# SLIM BPR Recommender\n",
    "if True:\n",
    "    from SLIM_BPR.Cython.SLIM_BPR_Cython import SLIM_BPR_Cython \n",
    "    slim_rec = SLIM_BPR_Cython(URM_train, recompile_cython=False, verbose = False)\n",
    "    MAP_LIST = []\n",
    "    epochsList = [300]\n",
    "    batchSize = [50]\n",
    "    tklist = [10]\n",
    "    lrs = [1e-3]\n",
    "\n",
    "    for epochsN in epochsList:\n",
    "        for bs in batchSize:\n",
    "            for tk in tklist:\n",
    "                for lr in lrs:\n",
    "                    do_not_display_hystory = slim_rec.fit(epochs=epochsN, batch_size=bs, sgd_mode='adagrad', learning_rate=lr, topK = tk)\n",
    "                    if eval:\n",
    "                        dict_scores = (evaluator_validation.evaluateRecommender(slim_rec))[0][10]\n",
    "                        MAP_LIST.append(('epoch, batch, topK, lr :' + str(epochsN) + ' ' + str(bs)+ ' ' + str(tk) + ' ' + str(lr), dict_scores['MAP']))\n",
    "    if eval:\n",
    "        sortMap(MAP_LIST)"
   ]
  },
  {
   "cell_type": "code",
   "execution_count": null,
   "metadata": {
    "pycharm": {
     "is_executing": false,
     "name": "#%%\n"
    }
   },
   "outputs": [],
   "source": [
    "# ItemKNN Content Based Filtering\n",
    "if True:\n",
    "    from KNN.ItemKNNCBFRecommender import ItemKNNCBFRecommender \n",
    "    itemKNNCBF = ItemKNNCBFRecommender(URM_train, ICM)\n",
    "    MAP_LIST = []\n",
    "    tklist = [3]\n",
    "    shrinklist = [10]\n",
    "\n",
    "    for tk in tklist:\n",
    "        for sr in shrinklist:\n",
    "            itemKNNCBF.fit(shrink=sr, topK = tk, similarity = 'cosine')\n",
    "            if eval:\n",
    "                dict_scores = (evaluator_validation.evaluateRecommender(itemKNNCBF))[0][10]\n",
    "                MAP_LIST.append(('topK, shrink :' + str(tk) + ' ' + str(sr), dict_scores['MAP']))\n",
    "    if eval:\n",
    "        sortMap(MAP_LIST)"
   ]
  },
  {
   "cell_type": "code",
   "execution_count": 1,
   "metadata": {},
   "outputs": [
    {
     "ename": "NameError",
     "evalue": "name 'URM_train' is not defined",
     "output_type": "error",
     "traceback": [
      "\u001b[0;31m---------------------------------------------------------------------------\u001b[0m",
      "\u001b[0;31mNameError\u001b[0m                                 Traceback (most recent call last)",
      "\u001b[0;32m<ipython-input-1-9f185062a35d>\u001b[0m in \u001b[0;36m<module>\u001b[0;34m\u001b[0m\n\u001b[1;32m      3\u001b[0m \u001b[0;32mif\u001b[0m \u001b[0;32mTrue\u001b[0m\u001b[0;34m:\u001b[0m\u001b[0;34m\u001b[0m\u001b[0;34m\u001b[0m\u001b[0m\n\u001b[1;32m      4\u001b[0m     \u001b[0;32mfrom\u001b[0m \u001b[0mMatrixFactorization\u001b[0m\u001b[0;34m.\u001b[0m\u001b[0mPureSVDRecommender\u001b[0m \u001b[0;32mimport\u001b[0m \u001b[0mPureSVDRecommender\u001b[0m\u001b[0;34m\u001b[0m\u001b[0;34m\u001b[0m\u001b[0m\n\u001b[0;32m----> 5\u001b[0;31m     \u001b[0mpureSVD\u001b[0m \u001b[0;34m=\u001b[0m \u001b[0mPureSVDRecommender\u001b[0m\u001b[0;34m(\u001b[0m\u001b[0mURM_train\u001b[0m\u001b[0;34m)\u001b[0m\u001b[0;34m\u001b[0m\u001b[0;34m\u001b[0m\u001b[0m\n\u001b[0m\u001b[1;32m      6\u001b[0m     \u001b[0mMAP_LIST\u001b[0m \u001b[0;34m=\u001b[0m \u001b[0;34m[\u001b[0m\u001b[0;34m]\u001b[0m\u001b[0;34m\u001b[0m\u001b[0;34m\u001b[0m\u001b[0m\n\u001b[1;32m      7\u001b[0m     \u001b[0mnfactorlist\u001b[0m \u001b[0;34m=\u001b[0m \u001b[0;34m[\u001b[0m\u001b[0;36m400\u001b[0m\u001b[0;34m]\u001b[0m\u001b[0;34m\u001b[0m\u001b[0;34m\u001b[0m\u001b[0m\n",
      "\u001b[0;31mNameError\u001b[0m: name 'URM_train' is not defined"
     ]
    }
   ],
   "source": [
    "#%%\n",
    "\n",
    "if True:\n",
    "    from MatrixFactorization.PureSVDRecommender import PureSVDRecommender \n",
    "    pureSVD = PureSVDRecommender(URM_train)\n",
    "    MAP_LIST = []\n",
    "    nfactorlist = [400]\n",
    "\n",
    "    for n in nfactorlist:\n",
    "        pureSVD.fit(num_factors=n, random_seed = None)\n",
    "        if eval:\n",
    "            dict_scores = (evaluator_validation.evaluateRecommender(pureSVD))[0][10]\n",
    "            MAP_LIST.append(('num factors :' + str(n) , dict_scores['MAP']))\n",
    "    if eval:\n",
    "        print(MAP_LIST)  "
   ]
  },
  {
   "cell_type": "code",
   "execution_count": null,
   "metadata": {
    "pycharm": {
     "is_executing": false,
     "name": "#%%\n"
    }
   },
   "outputs": [],
   "source": [
    "# UserKNN Content Based Filtering\n",
    "if True:\n",
    "    from KNN.UserKNNCBFRecommender import UserKNNCBFRecommender \n",
    "    userKNNCBF = UserKNNCBFRecommender(URM_train, UCM)\n",
    "    MAP_LIST = []\n",
    "    tklist = [2500]\n",
    "    shrinklist = [10]\n",
    "\n",
    "    for tk in tklist:\n",
    "        for sr in shrinklist:\n",
    "            userKNNCBF.fit(shrink=sr, topK = tk, similarity = 'cosine')\n",
    "            if eval:\n",
    "                dict_scores = (evaluator_validation.evaluateRecommender(userKNNCBF))[0][10]\n",
    "                MAP_LIST.append(('topK, shrink :' + str(tk) + ' ' + str(sr), dict_scores['MAP']))\n",
    "    if eval:\n",
    "        print(MAP_LIST)\n",
    "        "
   ]
  },
  {
   "cell_type": "code",
   "execution_count": null,
   "metadata": {
    "pycharm": {
     "is_executing": false,
     "name": "#%%\n"
    }
   },
   "outputs": [],
   "source": [
    "# UserKNN Collaborative Filtering\n",
    "if True:\n",
    "    from KNN.UserKNNCFRecommender import UserKNNCFRecommender \n",
    "    userKNNCF = UserKNNCFRecommender(URM_train)\n",
    "    MAP_LIST = []\n",
    "    tklist = [600]\n",
    "    shrinklist = [5]\n",
    "\n",
    "    for tk in tklist:\n",
    "        for sr in shrinklist:\n",
    "            userKNNCF.fit(shrink=sr, topK = tk, similarity = 'cosine')\n",
    "            if eval:\n",
    "                dict_scores = (evaluator_validation.evaluateRecommender(userKNNCF))[0][10]\n",
    "                MAP_LIST.append(('topK, shrink :' + str(tk) + ' ' + str(sr), dict_scores['MAP']))\n",
    "    if eval:\n",
    "        sortMap(MAP_LIST)    "
   ]
  },
  {
   "cell_type": "code",
   "execution_count": null,
   "metadata": {
    "colab": {
     "base_uri": "https://localhost:8080/",
     "height": 119
    },
    "colab_type": "code",
    "id": "Pm7oY2Zx6Soy",
    "outputId": "d56a6477-e677-4dbe-db85-49c119d4b348",
    "pycharm": {
     "is_executing": false
    }
   },
   "outputs": [],
   "source": [
    "# ItemKNN Collaborative Filtering\n",
    "if True:\n",
    "    from KNN.ItemKNNCFRecommender import ItemKNNCFRecommender\n",
    "    itemKNN = ItemKNNCFRecommender(URM_train)\n",
    "    itemKNN.fit(shrink=50, topK=3)\n",
    "\n",
    "    if eval:\n",
    "        evaluator_validation = EvaluatorHoldout(URM_test, cutoff_list=[10])\n",
    "        results, _ = evaluator_validation.evaluateRecommender(itemKNN)\n",
    "        print('MAP: ' + str(results[10][\"MAP\"]))"
   ]
  },
  {
   "cell_type": "code",
   "execution_count": null,
   "metadata": {
    "pycharm": {
     "is_executing": false
    },
    "scrolled": false
   },
   "outputs": [],
   "source": [
    "# Hybrid Recommender\n",
    "from RecLib.HybridRecommender import *\n",
    "if True:\n",
    "    params = [(1, 0.5, 0.1, 0.4, 0.)]\n",
    "    MAP_LIST = []\n",
    "    for param in params:\n",
    "                hybridrecommender = HybridRecommender(URM_train, userKNNCBF, itemKNN, itemKNNCBF, slim_rec, userKNNCF)\n",
    "                hybridrecommender.fit(*param)\n",
    "                if eval:\n",
    "                    dict_scores = (evaluator_validation.evaluateRecommender(hybridrecommender))[0][10]\n",
    "                    MAP_LIST.append(('alpha, beta, gamma, delta, epsilon :' + str(param), dict_scores['MAP']))\n",
    "    if eval:\n",
    "        sortMap(MAP_LIST)"
   ]
  },
  {
   "cell_type": "code",
   "execution_count": null,
   "metadata": {
    "pycharm": {
     "is_executing": false
    },
    "scrolled": true
   },
   "outputs": [],
   "source": [
    "# Evaluate performance of a recommender against users with 0,1,...,itrMax interactions\n",
    "rec_to_eval = hybridrecommender\n",
    "itrMax = 0\n",
    "\n",
    "if eval:\n",
    "    evaluateAgainstUsers(rec_to_eval, itrMax, URM_train, URM_test)"
   ]
  },
  {
   "cell_type": "code",
   "execution_count": null,
   "metadata": {
    "pycharm": {
     "is_executing": false
    }
   },
   "outputs": [],
   "source": [
    "# Compare different recommenders\n",
    "recommendersToCompare = [itemKNN, hybridrecommender, userKNNCF]\n",
    "\n",
    "if eval:\n",
    "    from RecLib.Evaluate import *\n",
    "    compare(URM_train, URM_test, recommendersToCompare)"
   ]
  },
  {
   "cell_type": "code",
   "execution_count": null,
   "metadata": {
    "colab": {},
    "colab_type": "code",
    "id": "rYQRvvikMJVN",
    "pycharm": {
     "is_executing": false
    }
   },
   "outputs": [],
   "source": [
    "# Predict\n",
    "final_Rec = hybridrecommender\n",
    "\n",
    "if not eval:\n",
    "    output = []\n",
    "    for user_id in target_users:\n",
    "        output.append((user_id, final_Rec.recommend(user_id, cutoff=10)))"
   ]
  },
  {
   "cell_type": "code",
   "execution_count": null,
   "metadata": {
    "colab": {},
    "colab_type": "code",
    "id": "o5TyQsg9TAwz",
    "pycharm": {
     "is_executing": false
    }
   },
   "outputs": [],
   "source": [
    "# Writedown results\n",
    "\n",
    "if not eval:\n",
    "    import csv\n",
    "    with open('submission.csv', 'w', newline='') as file:\n",
    "        writer = csv.writer(file)\n",
    "        writer.writerow([\"user_id\", \"item_list\"])\n",
    "        for row in output:\n",
    "          ranking = ''\n",
    "          for val in row[1]:\n",
    "            ranking = ranking + str(val) + ' '\n",
    "          writer.writerow([row[0], ranking[:-1]])"
   ]
  }
 ],
 "metadata": {
  "accelerator": "GPU",
  "colab": {
   "name": "sacajrota.ipynb",
   "provenance": []
  },
  "kernelspec": {
   "display_name": "Python 3",
   "language": "python",
   "name": "python3"
  },
  "language_info": {
   "codemirror_mode": {
    "name": "ipython",
    "version": 3
   },
   "file_extension": ".py",
   "mimetype": "text/x-python",
   "name": "python",
   "nbconvert_exporter": "python",
   "pygments_lexer": "ipython3",
   "version": "3.7.5"
  },
  "pycharm": {
   "stem_cell": {
    "cell_type": "raw",
    "source": [],
    "metadata": {
     "collapsed": false
    }
   }
  }
 },
 "nbformat": 4,
 "nbformat_minor": 1
}