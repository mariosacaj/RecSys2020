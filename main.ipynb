{
 "cells": [
  {
   "cell_type": "code",
   "execution_count": 19,
   "metadata": {
    "_cell_guid": "b1076dfc-b9ad-4769-8c92-a6c4dae69d19",
    "_uuid": "8f2839f25d086af736a60e9eeb907d3b93b6e0e5",
    "colab": {},
    "colab_type": "code",
    "id": "7Ifkd08Lq3wR",
    "pycharm": {
     "is_executing": false
    }
   },
   "outputs": [],
   "source": [
    "# Import\n",
    "\n",
    "\n",
    "# Evaluation or scoring?\n",
    "eval = True"
   ]
  },
  {
   "cell_type": "code",
   "execution_count": 2,
   "metadata": {
    "colab": {},
    "colab_type": "code",
    "id": "6mDejDEXq3wW",
    "pycharm": {
     "is_executing": false
    }
   },
   "outputs": [],
   "source": [
    "# Loading from CSV files...\n",
    "from RecLib.DataLoad import *\n",
    "UCM_age, ICM_subclass, ICM_asset, ICM_price, UCM_region, target_users, URM = dataLoad()"
   ]
  },
  {
   "cell_type": "code",
   "execution_count": 21,
   "metadata": {
    "colab": {},
    "colab_type": "code",
    "id": "m4FzKl-xq3wc",
    "pycharm": {
     "is_executing": false
    }
   },
   "outputs": [],
   "source": [
    "import scipy.sparse as sps\n",
    "URM = URM.tocsr()"
   ]
  },
  {
   "cell_type": "code",
   "execution_count": 22,
   "metadata": {
    "colab": {},
    "colab_type": "code",
    "id": "aODXsh3XsyJA",
    "pycharm": {
     "is_executing": false
    }
   },
   "outputs": [],
   "source": [
    "# Split dataset (train % of .9999 gives similar performance on test set and competition set)\n",
    "from Notebooks_utils.data_splitter import train_test_holdout\n",
    "URM_train, URM_test = train_test_holdout(URM, train_perc = 0.8)\n",
    "\n",
    "\n",
    "if not eval:\n",
    "    URM_train = URM\n",
    "else:\n",
    "    from Base.Evaluation.Evaluator import EvaluatorHoldout\n",
    "    from RecLib.Evaluate import *\n",
    "    evaluator_validation = EvaluatorHoldout(URM_test, cutoff_list=[10])"
   ]
  },
  {
   "cell_type": "code",
   "execution_count": 23,
   "metadata": {
    "pycharm": {
     "is_executing": false,
     "name": "#%%\n"
    }
   },
   "outputs": [
    {
     "name": "stdout",
     "output_type": "stream",
     "text": [
      "Unable to read memory status: list index out of range\n",
      "SLIM_BPR_Recommender: Epoch 1 of 300. Elapsed time 0.06 sec\n",
      "SLIM_BPR_Recommender: Epoch 2 of 300. Elapsed time 0.14 sec\n",
      "SLIM_BPR_Recommender: Epoch 3 of 300. Elapsed time 0.21 sec\n",
      "SLIM_BPR_Recommender: Epoch 4 of 300. Elapsed time 0.28 sec\n",
      "SLIM_BPR_Recommender: Epoch 5 of 300. Elapsed time 0.35 sec\n",
      "SLIM_BPR_Recommender: Epoch 6 of 300. Elapsed time 0.42 sec\n",
      "SLIM_BPR_Recommender: Epoch 7 of 300. Elapsed time 0.49 sec\n",
      "SLIM_BPR_Recommender: Epoch 8 of 300. Elapsed time 0.56 sec\n",
      "SLIM_BPR_Recommender: Epoch 9 of 300. Elapsed time 0.64 sec\n",
      "SLIM_BPR_Recommender: Epoch 10 of 300. Elapsed time 0.71 sec\n",
      "SLIM_BPR_Recommender: Epoch 11 of 300. Elapsed time 0.78 sec\n",
      "SLIM_BPR_Recommender: Epoch 12 of 300. Elapsed time 0.85 sec\n",
      "SLIM_BPR_Recommender: Epoch 13 of 300. Elapsed time 0.92 sec\n",
      "SLIM_BPR_Recommender: Epoch 14 of 300. Elapsed time 0.99 sec\n",
      "SLIM_BPR_Recommender: Epoch 15 of 300. Elapsed time 1.06 sec\n",
      "SLIM_BPR_Recommender: Epoch 16 of 300. Elapsed time 1.13 sec\n",
      "SLIM_BPR_Recommender: Epoch 17 of 300. Elapsed time 1.20 sec\n",
      "SLIM_BPR_Recommender: Epoch 18 of 300. Elapsed time 1.34 sec\n",
      "SLIM_BPR_Recommender: Epoch 19 of 300. Elapsed time 1.45 sec\n",
      "SLIM_BPR_Recommender: Epoch 20 of 300. Elapsed time 1.57 sec\n",
      "SLIM_BPR_Recommender: Epoch 21 of 300. Elapsed time 1.66 sec\n",
      "SLIM_BPR_Recommender: Epoch 22 of 300. Elapsed time 1.76 sec\n",
      "SLIM_BPR_Recommender: Epoch 23 of 300. Elapsed time 1.87 sec\n",
      "SLIM_BPR_Recommender: Epoch 24 of 300. Elapsed time 1.94 sec\n",
      "SLIM_BPR_Recommender: Epoch 25 of 300. Elapsed time 2.00 sec\n",
      "SLIM_BPR_Recommender: Epoch 26 of 300. Elapsed time 2.08 sec\n",
      "SLIM_BPR_Recommender: Epoch 27 of 300. Elapsed time 2.16 sec\n",
      "SLIM_BPR_Recommender: Epoch 28 of 300. Elapsed time 2.25 sec\n",
      "SLIM_BPR_Recommender: Epoch 29 of 300. Elapsed time 2.33 sec\n",
      "SLIM_BPR_Recommender: Epoch 30 of 300. Elapsed time 2.40 sec\n",
      "SLIM_BPR_Recommender: Epoch 31 of 300. Elapsed time 2.47 sec\n",
      "SLIM_BPR_Recommender: Epoch 32 of 300. Elapsed time 2.54 sec\n",
      "SLIM_BPR_Recommender: Epoch 33 of 300. Elapsed time 2.61 sec\n",
      "SLIM_BPR_Recommender: Epoch 34 of 300. Elapsed time 2.68 sec\n",
      "SLIM_BPR_Recommender: Epoch 35 of 300. Elapsed time 2.75 sec\n",
      "SLIM_BPR_Recommender: Epoch 36 of 300. Elapsed time 2.82 sec\n",
      "SLIM_BPR_Recommender: Epoch 37 of 300. Elapsed time 2.89 sec\n",
      "SLIM_BPR_Recommender: Epoch 38 of 300. Elapsed time 2.95 sec\n",
      "SLIM_BPR_Recommender: Epoch 39 of 300. Elapsed time 3.02 sec\n",
      "SLIM_BPR_Recommender: Epoch 40 of 300. Elapsed time 3.09 sec\n",
      "SLIM_BPR_Recommender: Epoch 41 of 300. Elapsed time 3.17 sec\n",
      "SLIM_BPR_Recommender: Epoch 42 of 300. Elapsed time 3.25 sec\n",
      "SLIM_BPR_Recommender: Epoch 43 of 300. Elapsed time 3.33 sec\n",
      "SLIM_BPR_Recommender: Epoch 44 of 300. Elapsed time 3.41 sec\n",
      "SLIM_BPR_Recommender: Epoch 45 of 300. Elapsed time 3.49 sec\n",
      "SLIM_BPR_Recommender: Epoch 46 of 300. Elapsed time 3.57 sec\n",
      "SLIM_BPR_Recommender: Epoch 47 of 300. Elapsed time 3.65 sec\n",
      "SLIM_BPR_Recommender: Epoch 48 of 300. Elapsed time 3.72 sec\n",
      "SLIM_BPR_Recommender: Epoch 49 of 300. Elapsed time 3.79 sec\n",
      "SLIM_BPR_Recommender: Epoch 50 of 300. Elapsed time 3.86 sec\n",
      "SLIM_BPR_Recommender: Epoch 51 of 300. Elapsed time 3.95 sec\n",
      "SLIM_BPR_Recommender: Epoch 52 of 300. Elapsed time 4.04 sec\n",
      "SLIM_BPR_Recommender: Epoch 53 of 300. Elapsed time 4.12 sec\n",
      "SLIM_BPR_Recommender: Epoch 54 of 300. Elapsed time 4.19 sec\n",
      "SLIM_BPR_Recommender: Epoch 55 of 300. Elapsed time 4.26 sec\n",
      "SLIM_BPR_Recommender: Epoch 56 of 300. Elapsed time 4.33 sec\n",
      "SLIM_BPR_Recommender: Epoch 57 of 300. Elapsed time 4.40 sec\n",
      "SLIM_BPR_Recommender: Epoch 58 of 300. Elapsed time 4.48 sec\n",
      "SLIM_BPR_Recommender: Epoch 59 of 300. Elapsed time 4.55 sec\n",
      "SLIM_BPR_Recommender: Epoch 60 of 300. Elapsed time 4.64 sec\n",
      "SLIM_BPR_Recommender: Epoch 61 of 300. Elapsed time 4.73 sec\n",
      "SLIM_BPR_Recommender: Epoch 62 of 300. Elapsed time 4.80 sec\n",
      "SLIM_BPR_Recommender: Epoch 63 of 300. Elapsed time 4.87 sec\n",
      "SLIM_BPR_Recommender: Epoch 64 of 300. Elapsed time 4.94 sec\n",
      "SLIM_BPR_Recommender: Epoch 65 of 300. Elapsed time 5.01 sec\n",
      "SLIM_BPR_Recommender: Epoch 66 of 300. Elapsed time 5.08 sec\n",
      "SLIM_BPR_Recommender: Epoch 67 of 300. Elapsed time 5.15 sec\n",
      "SLIM_BPR_Recommender: Epoch 68 of 300. Elapsed time 5.22 sec\n",
      "SLIM_BPR_Recommender: Epoch 69 of 300. Elapsed time 5.29 sec\n",
      "SLIM_BPR_Recommender: Epoch 70 of 300. Elapsed time 5.36 sec\n",
      "SLIM_BPR_Recommender: Epoch 71 of 300. Elapsed time 5.43 sec\n",
      "SLIM_BPR_Recommender: Epoch 72 of 300. Elapsed time 5.49 sec\n",
      "SLIM_BPR_Recommender: Epoch 73 of 300. Elapsed time 5.57 sec\n",
      "SLIM_BPR_Recommender: Epoch 74 of 300. Elapsed time 5.64 sec\n",
      "SLIM_BPR_Recommender: Epoch 75 of 300. Elapsed time 5.71 sec\n",
      "SLIM_BPR_Recommender: Epoch 76 of 300. Elapsed time 5.78 sec\n",
      "SLIM_BPR_Recommender: Epoch 77 of 300. Elapsed time 5.85 sec\n",
      "SLIM_BPR_Recommender: Epoch 78 of 300. Elapsed time 5.92 sec\n",
      "SLIM_BPR_Recommender: Epoch 79 of 300. Elapsed time 5.99 sec\n",
      "SLIM_BPR_Recommender: Epoch 80 of 300. Elapsed time 6.06 sec\n",
      "SLIM_BPR_Recommender: Epoch 81 of 300. Elapsed time 6.13 sec\n",
      "SLIM_BPR_Recommender: Epoch 82 of 300. Elapsed time 6.19 sec\n",
      "SLIM_BPR_Recommender: Epoch 83 of 300. Elapsed time 6.26 sec\n",
      "SLIM_BPR_Recommender: Epoch 84 of 300. Elapsed time 6.33 sec\n",
      "SLIM_BPR_Recommender: Epoch 85 of 300. Elapsed time 6.40 sec\n",
      "SLIM_BPR_Recommender: Epoch 86 of 300. Elapsed time 6.47 sec\n",
      "SLIM_BPR_Recommender: Epoch 87 of 300. Elapsed time 6.55 sec\n",
      "SLIM_BPR_Recommender: Epoch 88 of 300. Elapsed time 6.63 sec\n",
      "SLIM_BPR_Recommender: Epoch 89 of 300. Elapsed time 6.70 sec\n",
      "SLIM_BPR_Recommender: Epoch 90 of 300. Elapsed time 6.77 sec\n",
      "SLIM_BPR_Recommender: Epoch 91 of 300. Elapsed time 6.87 sec\n",
      "SLIM_BPR_Recommender: Epoch 92 of 300. Elapsed time 6.99 sec\n",
      "SLIM_BPR_Recommender: Epoch 93 of 300. Elapsed time 7.10 sec\n",
      "SLIM_BPR_Recommender: Epoch 94 of 300. Elapsed time 7.21 sec\n",
      "SLIM_BPR_Recommender: Epoch 95 of 300. Elapsed time 7.32 sec\n",
      "SLIM_BPR_Recommender: Epoch 96 of 300. Elapsed time 7.39 sec\n",
      "SLIM_BPR_Recommender: Epoch 97 of 300. Elapsed time 7.46 sec\n",
      "SLIM_BPR_Recommender: Epoch 98 of 300. Elapsed time 7.53 sec\n",
      "SLIM_BPR_Recommender: Epoch 99 of 300. Elapsed time 7.60 sec\n",
      "SLIM_BPR_Recommender: Epoch 100 of 300. Elapsed time 7.70 sec\n",
      "SLIM_BPR_Recommender: Epoch 101 of 300. Elapsed time 7.81 sec\n",
      "SLIM_BPR_Recommender: Epoch 102 of 300. Elapsed time 7.92 sec\n",
      "SLIM_BPR_Recommender: Epoch 103 of 300. Elapsed time 8.04 sec\n",
      "SLIM_BPR_Recommender: Epoch 104 of 300. Elapsed time 8.12 sec\n",
      "SLIM_BPR_Recommender: Epoch 105 of 300. Elapsed time 8.19 sec\n",
      "SLIM_BPR_Recommender: Epoch 106 of 300. Elapsed time 8.27 sec\n",
      "SLIM_BPR_Recommender: Epoch 107 of 300. Elapsed time 8.34 sec\n",
      "SLIM_BPR_Recommender: Epoch 108 of 300. Elapsed time 8.42 sec\n",
      "SLIM_BPR_Recommender: Epoch 109 of 300. Elapsed time 8.55 sec\n",
      "SLIM_BPR_Recommender: Epoch 110 of 300. Elapsed time 8.70 sec\n",
      "SLIM_BPR_Recommender: Epoch 111 of 300. Elapsed time 8.80 sec\n",
      "SLIM_BPR_Recommender: Epoch 112 of 300. Elapsed time 8.89 sec\n",
      "SLIM_BPR_Recommender: Epoch 113 of 300. Elapsed time 8.97 sec\n",
      "SLIM_BPR_Recommender: Epoch 114 of 300. Elapsed time 9.05 sec\n",
      "SLIM_BPR_Recommender: Epoch 115 of 300. Elapsed time 9.12 sec\n",
      "SLIM_BPR_Recommender: Epoch 116 of 300. Elapsed time 9.20 sec\n",
      "SLIM_BPR_Recommender: Epoch 117 of 300. Elapsed time 9.34 sec\n",
      "SLIM_BPR_Recommender: Epoch 118 of 300. Elapsed time 9.47 sec\n",
      "SLIM_BPR_Recommender: Epoch 119 of 300. Elapsed time 9.60 sec\n",
      "SLIM_BPR_Recommender: Epoch 120 of 300. Elapsed time 9.71 sec\n",
      "SLIM_BPR_Recommender: Epoch 121 of 300. Elapsed time 9.83 sec\n",
      "SLIM_BPR_Recommender: Epoch 122 of 300. Elapsed time 9.95 sec\n",
      "SLIM_BPR_Recommender: Epoch 123 of 300. Elapsed time 10.07 sec\n",
      "SLIM_BPR_Recommender: Epoch 124 of 300. Elapsed time 10.16 sec\n",
      "SLIM_BPR_Recommender: Epoch 125 of 300. Elapsed time 10.28 sec\n",
      "SLIM_BPR_Recommender: Epoch 126 of 300. Elapsed time 10.39 sec\n",
      "SLIM_BPR_Recommender: Epoch 127 of 300. Elapsed time 10.50 sec\n",
      "SLIM_BPR_Recommender: Epoch 128 of 300. Elapsed time 10.60 sec\n",
      "SLIM_BPR_Recommender: Epoch 129 of 300. Elapsed time 10.70 sec\n",
      "SLIM_BPR_Recommender: Epoch 130 of 300. Elapsed time 10.79 sec\n",
      "SLIM_BPR_Recommender: Epoch 131 of 300. Elapsed time 10.87 sec\n",
      "SLIM_BPR_Recommender: Epoch 132 of 300. Elapsed time 10.94 sec\n",
      "SLIM_BPR_Recommender: Epoch 133 of 300. Elapsed time 11.02 sec\n"
     ]
    },
    {
     "name": "stdout",
     "output_type": "stream",
     "text": [
      "SLIM_BPR_Recommender: Epoch 134 of 300. Elapsed time 11.09 sec\n",
      "SLIM_BPR_Recommender: Epoch 135 of 300. Elapsed time 11.17 sec\n",
      "SLIM_BPR_Recommender: Epoch 136 of 300. Elapsed time 11.24 sec\n",
      "SLIM_BPR_Recommender: Epoch 137 of 300. Elapsed time 11.31 sec\n",
      "SLIM_BPR_Recommender: Epoch 138 of 300. Elapsed time 11.39 sec\n",
      "SLIM_BPR_Recommender: Epoch 139 of 300. Elapsed time 11.47 sec\n",
      "SLIM_BPR_Recommender: Epoch 140 of 300. Elapsed time 11.55 sec\n",
      "SLIM_BPR_Recommender: Epoch 141 of 300. Elapsed time 11.64 sec\n",
      "SLIM_BPR_Recommender: Epoch 142 of 300. Elapsed time 11.72 sec\n",
      "SLIM_BPR_Recommender: Epoch 143 of 300. Elapsed time 11.79 sec\n",
      "SLIM_BPR_Recommender: Epoch 144 of 300. Elapsed time 11.88 sec\n",
      "SLIM_BPR_Recommender: Epoch 145 of 300. Elapsed time 11.98 sec\n",
      "SLIM_BPR_Recommender: Epoch 146 of 300. Elapsed time 12.05 sec\n",
      "SLIM_BPR_Recommender: Epoch 147 of 300. Elapsed time 12.12 sec\n",
      "SLIM_BPR_Recommender: Epoch 148 of 300. Elapsed time 12.19 sec\n",
      "SLIM_BPR_Recommender: Epoch 149 of 300. Elapsed time 12.26 sec\n",
      "SLIM_BPR_Recommender: Epoch 150 of 300. Elapsed time 12.33 sec\n",
      "SLIM_BPR_Recommender: Epoch 151 of 300. Elapsed time 12.40 sec\n",
      "SLIM_BPR_Recommender: Epoch 152 of 300. Elapsed time 12.47 sec\n",
      "SLIM_BPR_Recommender: Epoch 153 of 300. Elapsed time 12.54 sec\n",
      "SLIM_BPR_Recommender: Epoch 154 of 300. Elapsed time 12.61 sec\n",
      "SLIM_BPR_Recommender: Epoch 155 of 300. Elapsed time 12.68 sec\n",
      "SLIM_BPR_Recommender: Epoch 156 of 300. Elapsed time 12.77 sec\n",
      "SLIM_BPR_Recommender: Epoch 157 of 300. Elapsed time 12.84 sec\n",
      "SLIM_BPR_Recommender: Epoch 158 of 300. Elapsed time 12.91 sec\n",
      "SLIM_BPR_Recommender: Epoch 159 of 300. Elapsed time 13.00 sec\n",
      "SLIM_BPR_Recommender: Epoch 160 of 300. Elapsed time 13.10 sec\n",
      "SLIM_BPR_Recommender: Epoch 161 of 300. Elapsed time 13.19 sec\n",
      "SLIM_BPR_Recommender: Epoch 162 of 300. Elapsed time 13.26 sec\n",
      "SLIM_BPR_Recommender: Epoch 163 of 300. Elapsed time 13.34 sec\n",
      "SLIM_BPR_Recommender: Epoch 164 of 300. Elapsed time 13.44 sec\n",
      "SLIM_BPR_Recommender: Epoch 165 of 300. Elapsed time 13.55 sec\n",
      "SLIM_BPR_Recommender: Epoch 166 of 300. Elapsed time 13.68 sec\n",
      "SLIM_BPR_Recommender: Epoch 167 of 300. Elapsed time 13.79 sec\n",
      "SLIM_BPR_Recommender: Epoch 168 of 300. Elapsed time 13.90 sec\n",
      "SLIM_BPR_Recommender: Epoch 169 of 300. Elapsed time 14.01 sec\n",
      "SLIM_BPR_Recommender: Epoch 170 of 300. Elapsed time 14.11 sec\n",
      "SLIM_BPR_Recommender: Epoch 171 of 300. Elapsed time 14.21 sec\n",
      "SLIM_BPR_Recommender: Epoch 172 of 300. Elapsed time 14.32 sec\n",
      "SLIM_BPR_Recommender: Epoch 173 of 300. Elapsed time 14.42 sec\n",
      "SLIM_BPR_Recommender: Epoch 174 of 300. Elapsed time 14.52 sec\n",
      "SLIM_BPR_Recommender: Epoch 175 of 300. Elapsed time 14.59 sec\n",
      "SLIM_BPR_Recommender: Epoch 176 of 300. Elapsed time 14.67 sec\n",
      "SLIM_BPR_Recommender: Epoch 177 of 300. Elapsed time 14.75 sec\n",
      "SLIM_BPR_Recommender: Epoch 178 of 300. Elapsed time 14.82 sec\n",
      "SLIM_BPR_Recommender: Epoch 179 of 300. Elapsed time 14.89 sec\n",
      "SLIM_BPR_Recommender: Epoch 180 of 300. Elapsed time 14.97 sec\n",
      "SLIM_BPR_Recommender: Epoch 181 of 300. Elapsed time 15.04 sec\n",
      "SLIM_BPR_Recommender: Epoch 182 of 300. Elapsed time 15.11 sec\n",
      "SLIM_BPR_Recommender: Epoch 183 of 300. Elapsed time 15.19 sec\n",
      "SLIM_BPR_Recommender: Epoch 184 of 300. Elapsed time 15.26 sec\n",
      "SLIM_BPR_Recommender: Epoch 185 of 300. Elapsed time 15.34 sec\n",
      "SLIM_BPR_Recommender: Epoch 186 of 300. Elapsed time 15.41 sec\n",
      "SLIM_BPR_Recommender: Epoch 187 of 300. Elapsed time 15.48 sec\n",
      "SLIM_BPR_Recommender: Epoch 188 of 300. Elapsed time 15.55 sec\n",
      "SLIM_BPR_Recommender: Epoch 189 of 300. Elapsed time 15.62 sec\n",
      "SLIM_BPR_Recommender: Epoch 190 of 300. Elapsed time 15.69 sec\n",
      "SLIM_BPR_Recommender: Epoch 191 of 300. Elapsed time 15.76 sec\n",
      "SLIM_BPR_Recommender: Epoch 192 of 300. Elapsed time 15.83 sec\n",
      "SLIM_BPR_Recommender: Epoch 193 of 300. Elapsed time 15.92 sec\n",
      "SLIM_BPR_Recommender: Epoch 194 of 300. Elapsed time 16.04 sec\n",
      "SLIM_BPR_Recommender: Epoch 195 of 300. Elapsed time 16.14 sec\n",
      "SLIM_BPR_Recommender: Epoch 196 of 300. Elapsed time 16.25 sec\n",
      "SLIM_BPR_Recommender: Epoch 197 of 300. Elapsed time 16.36 sec\n",
      "SLIM_BPR_Recommender: Epoch 198 of 300. Elapsed time 16.49 sec\n",
      "SLIM_BPR_Recommender: Epoch 199 of 300. Elapsed time 16.61 sec\n",
      "SLIM_BPR_Recommender: Epoch 200 of 300. Elapsed time 16.69 sec\n",
      "SLIM_BPR_Recommender: Epoch 201 of 300. Elapsed time 16.85 sec\n",
      "SLIM_BPR_Recommender: Epoch 202 of 300. Elapsed time 16.97 sec\n",
      "SLIM_BPR_Recommender: Epoch 203 of 300. Elapsed time 17.08 sec\n",
      "SLIM_BPR_Recommender: Epoch 204 of 300. Elapsed time 17.17 sec\n",
      "SLIM_BPR_Recommender: Epoch 205 of 300. Elapsed time 17.24 sec\n",
      "SLIM_BPR_Recommender: Epoch 206 of 300. Elapsed time 17.32 sec\n",
      "SLIM_BPR_Recommender: Epoch 207 of 300. Elapsed time 17.39 sec\n",
      "SLIM_BPR_Recommender: Epoch 208 of 300. Elapsed time 17.46 sec\n",
      "SLIM_BPR_Recommender: Epoch 209 of 300. Elapsed time 17.54 sec\n",
      "SLIM_BPR_Recommender: Epoch 210 of 300. Elapsed time 17.62 sec\n",
      "SLIM_BPR_Recommender: Epoch 211 of 300. Elapsed time 17.69 sec\n",
      "SLIM_BPR_Recommender: Epoch 212 of 300. Elapsed time 17.77 sec\n",
      "SLIM_BPR_Recommender: Epoch 213 of 300. Elapsed time 17.85 sec\n",
      "SLIM_BPR_Recommender: Epoch 214 of 300. Elapsed time 17.92 sec\n",
      "SLIM_BPR_Recommender: Epoch 215 of 300. Elapsed time 17.99 sec\n",
      "SLIM_BPR_Recommender: Epoch 216 of 300. Elapsed time 18.10 sec\n",
      "SLIM_BPR_Recommender: Epoch 217 of 300. Elapsed time 18.22 sec\n",
      "SLIM_BPR_Recommender: Epoch 218 of 300. Elapsed time 18.34 sec\n",
      "SLIM_BPR_Recommender: Epoch 219 of 300. Elapsed time 18.42 sec\n",
      "SLIM_BPR_Recommender: Epoch 220 of 300. Elapsed time 18.53 sec\n",
      "SLIM_BPR_Recommender: Epoch 221 of 300. Elapsed time 18.65 sec\n",
      "SLIM_BPR_Recommender: Epoch 222 of 300. Elapsed time 18.75 sec\n",
      "SLIM_BPR_Recommender: Epoch 223 of 300. Elapsed time 18.88 sec\n",
      "SLIM_BPR_Recommender: Epoch 224 of 300. Elapsed time 19.00 sec\n",
      "SLIM_BPR_Recommender: Epoch 225 of 300. Elapsed time 19.13 sec\n",
      "SLIM_BPR_Recommender: Epoch 226 of 300. Elapsed time 19.23 sec\n",
      "SLIM_BPR_Recommender: Epoch 227 of 300. Elapsed time 19.35 sec\n",
      "SLIM_BPR_Recommender: Epoch 228 of 300. Elapsed time 19.46 sec\n",
      "SLIM_BPR_Recommender: Epoch 229 of 300. Elapsed time 19.58 sec\n",
      "SLIM_BPR_Recommender: Epoch 230 of 300. Elapsed time 19.66 sec\n",
      "SLIM_BPR_Recommender: Epoch 231 of 300. Elapsed time 19.74 sec\n",
      "SLIM_BPR_Recommender: Epoch 232 of 300. Elapsed time 19.86 sec\n",
      "SLIM_BPR_Recommender: Epoch 233 of 300. Elapsed time 20.00 sec\n",
      "SLIM_BPR_Recommender: Epoch 234 of 300. Elapsed time 20.13 sec\n",
      "SLIM_BPR_Recommender: Epoch 235 of 300. Elapsed time 20.25 sec\n",
      "SLIM_BPR_Recommender: Epoch 236 of 300. Elapsed time 20.37 sec\n",
      "SLIM_BPR_Recommender: Epoch 237 of 300. Elapsed time 20.50 sec\n",
      "SLIM_BPR_Recommender: Epoch 238 of 300. Elapsed time 20.60 sec\n",
      "SLIM_BPR_Recommender: Epoch 239 of 300. Elapsed time 20.68 sec\n",
      "SLIM_BPR_Recommender: Epoch 240 of 300. Elapsed time 20.75 sec\n",
      "SLIM_BPR_Recommender: Epoch 241 of 300. Elapsed time 20.82 sec\n",
      "SLIM_BPR_Recommender: Epoch 242 of 300. Elapsed time 20.89 sec\n",
      "SLIM_BPR_Recommender: Epoch 243 of 300. Elapsed time 20.96 sec\n",
      "SLIM_BPR_Recommender: Epoch 244 of 300. Elapsed time 21.03 sec\n",
      "SLIM_BPR_Recommender: Epoch 245 of 300. Elapsed time 21.10 sec\n",
      "SLIM_BPR_Recommender: Epoch 246 of 300. Elapsed time 21.17 sec\n",
      "SLIM_BPR_Recommender: Epoch 247 of 300. Elapsed time 21.24 sec\n",
      "SLIM_BPR_Recommender: Epoch 248 of 300. Elapsed time 21.32 sec\n",
      "SLIM_BPR_Recommender: Epoch 249 of 300. Elapsed time 21.40 sec\n",
      "SLIM_BPR_Recommender: Epoch 250 of 300. Elapsed time 21.46 sec\n",
      "SLIM_BPR_Recommender: Epoch 251 of 300. Elapsed time 21.53 sec\n",
      "SLIM_BPR_Recommender: Epoch 252 of 300. Elapsed time 21.60 sec\n",
      "SLIM_BPR_Recommender: Epoch 253 of 300. Elapsed time 21.67 sec\n",
      "SLIM_BPR_Recommender: Epoch 254 of 300. Elapsed time 21.74 sec\n",
      "SLIM_BPR_Recommender: Epoch 255 of 300. Elapsed time 21.81 sec\n",
      "SLIM_BPR_Recommender: Epoch 256 of 300. Elapsed time 21.88 sec\n",
      "SLIM_BPR_Recommender: Epoch 257 of 300. Elapsed time 21.95 sec\n",
      "SLIM_BPR_Recommender: Epoch 258 of 300. Elapsed time 22.01 sec\n",
      "SLIM_BPR_Recommender: Epoch 259 of 300. Elapsed time 22.08 sec\n",
      "SLIM_BPR_Recommender: Epoch 260 of 300. Elapsed time 22.15 sec\n",
      "SLIM_BPR_Recommender: Epoch 261 of 300. Elapsed time 22.23 sec\n",
      "SLIM_BPR_Recommender: Epoch 262 of 300. Elapsed time 22.30 sec\n",
      "SLIM_BPR_Recommender: Epoch 263 of 300. Elapsed time 22.37 sec\n",
      "SLIM_BPR_Recommender: Epoch 264 of 300. Elapsed time 22.45 sec\n"
     ]
    },
    {
     "name": "stdout",
     "output_type": "stream",
     "text": [
      "SLIM_BPR_Recommender: Epoch 265 of 300. Elapsed time 22.58 sec\n",
      "SLIM_BPR_Recommender: Epoch 266 of 300. Elapsed time 22.70 sec\n",
      "SLIM_BPR_Recommender: Epoch 267 of 300. Elapsed time 22.82 sec\n",
      "SLIM_BPR_Recommender: Epoch 268 of 300. Elapsed time 22.94 sec\n",
      "SLIM_BPR_Recommender: Epoch 269 of 300. Elapsed time 23.02 sec\n",
      "SLIM_BPR_Recommender: Epoch 270 of 300. Elapsed time 23.09 sec\n",
      "SLIM_BPR_Recommender: Epoch 271 of 300. Elapsed time 23.16 sec\n",
      "SLIM_BPR_Recommender: Epoch 272 of 300. Elapsed time 23.22 sec\n",
      "SLIM_BPR_Recommender: Epoch 273 of 300. Elapsed time 23.29 sec\n",
      "SLIM_BPR_Recommender: Epoch 274 of 300. Elapsed time 23.36 sec\n",
      "SLIM_BPR_Recommender: Epoch 275 of 300. Elapsed time 23.43 sec\n",
      "SLIM_BPR_Recommender: Epoch 276 of 300. Elapsed time 23.50 sec\n",
      "SLIM_BPR_Recommender: Epoch 277 of 300. Elapsed time 23.57 sec\n",
      "SLIM_BPR_Recommender: Epoch 278 of 300. Elapsed time 23.65 sec\n",
      "SLIM_BPR_Recommender: Epoch 279 of 300. Elapsed time 23.72 sec\n",
      "SLIM_BPR_Recommender: Epoch 280 of 300. Elapsed time 23.80 sec\n",
      "SLIM_BPR_Recommender: Epoch 281 of 300. Elapsed time 23.86 sec\n",
      "SLIM_BPR_Recommender: Epoch 282 of 300. Elapsed time 23.93 sec\n",
      "SLIM_BPR_Recommender: Epoch 283 of 300. Elapsed time 24.00 sec\n",
      "SLIM_BPR_Recommender: Epoch 284 of 300. Elapsed time 24.07 sec\n",
      "SLIM_BPR_Recommender: Epoch 285 of 300. Elapsed time 24.14 sec\n",
      "SLIM_BPR_Recommender: Epoch 286 of 300. Elapsed time 24.21 sec\n",
      "SLIM_BPR_Recommender: Epoch 287 of 300. Elapsed time 24.28 sec\n",
      "SLIM_BPR_Recommender: Epoch 288 of 300. Elapsed time 24.35 sec\n",
      "SLIM_BPR_Recommender: Epoch 289 of 300. Elapsed time 24.42 sec\n",
      "SLIM_BPR_Recommender: Epoch 290 of 300. Elapsed time 24.48 sec\n",
      "SLIM_BPR_Recommender: Epoch 291 of 300. Elapsed time 24.55 sec\n",
      "SLIM_BPR_Recommender: Epoch 292 of 300. Elapsed time 24.62 sec\n",
      "SLIM_BPR_Recommender: Epoch 293 of 300. Elapsed time 24.69 sec\n",
      "SLIM_BPR_Recommender: Epoch 294 of 300. Elapsed time 24.76 sec\n",
      "SLIM_BPR_Recommender: Epoch 295 of 300. Elapsed time 24.83 sec\n",
      "SLIM_BPR_Recommender: Epoch 296 of 300. Elapsed time 24.90 sec\n",
      "SLIM_BPR_Recommender: Epoch 297 of 300. Elapsed time 24.97 sec\n",
      "SLIM_BPR_Recommender: Epoch 298 of 300. Elapsed time 25.04 sec\n",
      "SLIM_BPR_Recommender: Epoch 299 of 300. Elapsed time 25.11 sec\n",
      "SLIM_BPR_Recommender: Epoch 300 of 300. Elapsed time 25.18 sec\n",
      "SLIM_BPR_Recommender: Terminating at epoch 300. Elapsed time 31.81 sec\n",
      "Deallocating Cython objects\n"
     ]
    }
   ],
   "source": [
    "# SLIM BPR Recommender\n",
    "if True:\n",
    "    from SLIM_BPR.Cython.SLIM_BPR_Cython import SLIM_BPR_Cython \n",
    "    slim_rec = SLIM_BPR_Cython(URM_train, recompile_cython=False, verbose = False)\n",
    "    MAP_LIST = []\n",
    "    epochsList = [300]\n",
    "    batchSize = [50]\n",
    "    tklist = [10]\n",
    "    lrs = [1e-3]\n",
    "\n",
    "    for epochsN in epochsList:\n",
    "        for bs in batchSize:\n",
    "            for tk in tklist:\n",
    "                for lr in lrs:\n",
    "                    do_not_display_hystory = slim_rec.fit(epochs=epochsN, batch_size=bs, sgd_mode='adagrad', learning_rate=lr, topK = tk)\n",
    "                    if eval:\n",
    "                        dict_scores = (evaluator_validation.evaluateRecommender(slim_rec))[0][10]\n",
    "                        MAP_LIST.append(('epoch, batch, topK, lr :' + str(epochsN) + ' ' + str(bs)+ ' ' + str(tk) + ' ' + str(lr), dict_scores['MAP']))\n",
    "    if eval:\n",
    "        sortMap(MAP_LIST)"
   ]
  },
  {
   "cell_type": "code",
   "execution_count": 24,
   "metadata": {
    "pycharm": {
     "is_executing": false,
     "name": "#%%\n"
    }
   },
   "outputs": [
    {
     "name": "stdout",
     "output_type": "stream",
     "text": [
      "[269 109  86 ... 173 156 207]\n",
      "0 934 935 18490\n",
      "0 1020 1021 18493\n",
      "(18495, 3967)\n"
     ]
    }
   ],
   "source": [
    "# Load Item & User Content matrix\n",
    "ICM, UCM = contentMatrixLoad(URM_train, ICM_subclass, ICM_price, ICM_asset, UCM_age, UCM_region)"
   ]
  },
  {
   "cell_type": "code",
   "execution_count": 26,
   "metadata": {
    "pycharm": {
     "is_executing": false,
     "name": "#%%\n"
    }
   },
   "outputs": [
    {
     "name": "stdout",
     "output_type": "stream",
     "text": [
      "ItemKNNCBFRecommender: URM Detected 3656 (11.83 %) cold users.\n",
      "ItemKNNCBFRecommender: URM Detected 3218 (17.40 %) cold items.\n",
      "Similarity column 18495 ( 100 % ), 9614.20 column/sec, elapsed time 0.03 min\n"
     ]
    }
   ],
   "source": [
    "# ItemKNN Content Based Filtering\n",
    "if True:\n",
    "    from KNN.ItemKNNCBFRecommender import ItemKNNCBFRecommender \n",
    "    itemKNNCBF = ItemKNNCBFRecommender(URM_train, ICM)\n",
    "    MAP_LIST = []\n",
    "    tklist = [3]\n",
    "    shrinklist = [10]\n",
    "\n",
    "    for tk in tklist:\n",
    "        for sr in shrinklist:\n",
    "            itemKNNCBF.fit(shrink=sr, topK = tk, similarity = 'cosine')\n",
    "            if eval:\n",
    "                dict_scores = (evaluator_validation.evaluateRecommender(itemKNNCBF))[0][10]\n",
    "                MAP_LIST.append(('topK, shrink :' + str(tk) + ' ' + str(sr), dict_scores['MAP']))\n",
    "    if eval:\n",
    "        sortMap(MAP_LIST)"
   ]
  },
  {
   "cell_type": "code",
   "execution_count": 27,
   "metadata": {
    "pycharm": {
     "is_executing": false,
     "name": "#%%\n"
    }
   },
   "outputs": [
    {
     "name": "stdout",
     "output_type": "stream",
     "text": [
      "UserKNNCBFRecommender: URM Detected 3656 (11.83 %) cold users.\n",
      "UserKNNCBFRecommender: URM Detected 3218 (17.40 %) cold items.\n",
      "Similarity column 30911 ( 100 % ), 1623.39 column/sec, elapsed time 0.32 min\n"
     ]
    }
   ],
   "source": [
    "# UserKNN Content Based Filtering\n",
    "if True:\n",
    "    from KNN.UserKNNCBFRecommender import UserKNNCBFRecommender \n",
    "    userKNNCBF = UserKNNCBFRecommender(URM_train, UCM)\n",
    "    MAP_LIST = []\n",
    "    tklist = [2500]\n",
    "    shrinklist = [10]\n",
    "\n",
    "    for tk in tklist:\n",
    "        for sr in shrinklist:\n",
    "            userKNNCBF.fit(shrink=sr, topK = tk, similarity = 'cosine')\n",
    "            if eval:\n",
    "                dict_scores = (evaluator_validation.evaluateRecommender(userKNNCBF))[0][10]\n",
    "                MAP_LIST.append(('topK, shrink :' + str(tk) + ' ' + str(sr), dict_scores['MAP']))\n",
    "    if eval:\n",
    "        sortMap(MAP_LIST)\n",
    "        "
   ]
  },
  {
   "cell_type": "code",
   "execution_count": 28,
   "metadata": {
    "pycharm": {
     "is_executing": false,
     "name": "#%%\n"
    }
   },
   "outputs": [
    {
     "name": "stdout",
     "output_type": "stream",
     "text": [
      "UserKNNCFRecommender: URM Detected 3656 (11.83 %) cold users.\n",
      "UserKNNCFRecommender: URM Detected 3218 (17.40 %) cold items.\n",
      "Similarity column 30911 ( 100 % ), 3396.16 column/sec, elapsed time 0.15 min\n"
     ]
    }
   ],
   "source": [
    "# UserKNN Collaborative Filtering\n",
    "if True:\n",
    "    from KNN.UserKNNCFRecommender import UserKNNCFRecommender \n",
    "    userKNNCF = UserKNNCFRecommender(URM_train)\n",
    "    MAP_LIST = []\n",
    "    tklist = [600]\n",
    "    shrinklist = [5]\n",
    "\n",
    "    for tk in tklist:\n",
    "        for sr in shrinklist:\n",
    "            userKNNCF.fit(shrink=sr, topK = tk, similarity = 'cosine')\n",
    "            if eval:\n",
    "                dict_scores = (evaluator_validation.evaluateRecommender(userKNNCF))[0][10]\n",
    "                MAP_LIST.append(('topK, shrink :' + str(tk) + ' ' + str(sr), dict_scores['MAP']))\n",
    "    if eval:\n",
    "        sortMap(MAP_LIST)    "
   ]
  },
  {
   "cell_type": "code",
   "execution_count": 29,
   "metadata": {
    "colab": {
     "base_uri": "https://localhost:8080/",
     "height": 119
    },
    "colab_type": "code",
    "id": "Pm7oY2Zx6Soy",
    "outputId": "d56a6477-e677-4dbe-db85-49c119d4b348",
    "pycharm": {
     "is_executing": false
    }
   },
   "outputs": [
    {
     "name": "stdout",
     "output_type": "stream",
     "text": [
      "ItemKNNCFRecommender: URM Detected 3656 (11.83 %) cold users.\n",
      "ItemKNNCFRecommender: URM Detected 3218 (17.40 %) cold items.\n",
      "Similarity column 18495 ( 100 % ), 7201.17 column/sec, elapsed time 0.04 min\n"
     ]
    }
   ],
   "source": [
    "# ItemKNN Collaborative Filtering\n",
    "if True:\n",
    "    from KNN.ItemKNNCFRecommender import ItemKNNCFRecommender\n",
    "    itemKNN = ItemKNNCFRecommender(URM_train)\n",
    "    itemKNN.fit(shrink=50, topK=3)\n",
    "\n",
    "    if eval:\n",
    "        evaluator_validation = EvaluatorHoldout(URM_test, cutoff_list=[10])\n",
    "        results, _ = evaluator_validation.evaluateRecommender(itemKNN)\n",
    "        print('MAP: ' + str(results[10][\"MAP\"]))"
   ]
  },
  {
   "cell_type": "code",
   "execution_count": 30,
   "metadata": {
    "pycharm": {
     "is_executing": false
    },
    "scrolled": false
   },
   "outputs": [
    {
     "name": "stdout",
     "output_type": "stream",
     "text": [
      "HybridRecommender: URM Detected 3656 (11.83 %) cold users.\n",
      "HybridRecommender: URM Detected 3218 (17.40 %) cold items.\n",
      "TopPopRecommender: URM Detected 3656 (11.83 %) cold users.\n",
      "TopPopRecommender: URM Detected 3218 (17.40 %) cold items.\n",
      "ScoresRecommender: URM Detected 3656 (11.83 %) cold users.\n",
      "ScoresRecommender: URM Detected 3218 (17.40 %) cold items.\n",
      "ScoresRecommender: URM Detected 3656 (11.83 %) cold users.\n",
      "ScoresRecommender: URM Detected 3218 (17.40 %) cold items.\n"
     ]
    }
   ],
   "source": [
    "# Hybrid Recommender\n",
    "from RecLib.HybridRecommender import *\n",
    "if True:\n",
    "    params = [(1, 0.5, 0.1, 0.4, 0.)]\n",
    "    MAP_LIST = []\n",
    "    for param in params:\n",
    "                hybridrecommender = HybridRecommender(URM_train, userKNNCBF, itemKNN, itemKNNCBF, slim_rec, userKNNCF)\n",
    "                hybridrecommender.fit(*param)\n",
    "                if eval:\n",
    "                    dict_scores = (evaluator_validation.evaluateRecommender(hybridrecommender))[0][10]\n",
    "                    MAP_LIST.append(('alpha, beta, gamma, delta, epsilon :' + str(param), dict_scores['MAP']))\n",
    "    if eval:\n",
    "        sortMap(MAP_LIST)"
   ]
  },
  {
   "cell_type": "code",
   "execution_count": 31,
   "metadata": {
    "pycharm": {
     "is_executing": false
    },
    "scrolled": true
   },
   "outputs": [],
   "source": [
    "# Evaluate performance of a recommender against users with 0,1,...,itrMax interactions\n",
    "rec_to_eval = hybridrecommender\n",
    "itrMax = 0\n",
    "\n",
    "if eval:\n",
    "    evaluateAgainstUsers(rec_to_eval, itrMax, URM_train, URM_test)"
   ]
  },
  {
   "cell_type": "code",
   "execution_count": 32,
   "metadata": {
    "pycharm": {
     "is_executing": false
    }
   },
   "outputs": [],
   "source": [
    "# Compare different recommenders\n",
    "recommendersToCompare = [itemKNN, hybridrecommender, userKNNCF]\n",
    "\n",
    "if eval:\n",
    "    from RecLib.Evaluate import *\n",
    "    compare(URM_train, URM_test, recommendersToCompare)"
   ]
  },
  {
   "cell_type": "code",
   "execution_count": 33,
   "metadata": {
    "colab": {},
    "colab_type": "code",
    "id": "rYQRvvikMJVN",
    "pycharm": {
     "is_executing": false
    }
   },
   "outputs": [],
   "source": [
    "# Predict\n",
    "final_Rec = hybridrecommender\n",
    "\n",
    "if not eval:\n",
    "    output = []\n",
    "    for user_id in target_users:\n",
    "        output.append((user_id, final_Rec.recommend(user_id, cutoff=10)))"
   ]
  },
  {
   "cell_type": "code",
   "execution_count": 34,
   "metadata": {
    "colab": {},
    "colab_type": "code",
    "id": "o5TyQsg9TAwz",
    "pycharm": {
     "is_executing": false
    }
   },
   "outputs": [],
   "source": [
    "# Writedown results\n",
    "\n",
    "if not eval:\n",
    "    import csv\n",
    "    with open('submission.csv', 'w', newline='') as file:\n",
    "        writer = csv.writer(file)\n",
    "        writer.writerow([\"user_id\", \"item_list\"])\n",
    "        for row in output:\n",
    "          ranking = ''\n",
    "          for val in row[1]:\n",
    "            ranking = ranking + str(val) + ' '\n",
    "          writer.writerow([row[0], ranking[:-1]])"
   ]
  }
 ],
 "metadata": {
  "accelerator": "GPU",
  "colab": {
   "name": "sacajrota.ipynb",
   "provenance": []
  },
  "kernelspec": {
   "display_name": "Python 3",
   "language": "python",
   "name": "python3"
  },
  "language_info": {
   "codemirror_mode": {
    "name": "ipython",
    "version": 3
   },
   "file_extension": ".py",
   "mimetype": "text/x-python",
   "name": "python",
   "nbconvert_exporter": "python",
   "pygments_lexer": "ipython3",
   "version": "3.7.4"
  },
  "pycharm": {
   "stem_cell": {
    "cell_type": "raw",
    "source": [],
    "metadata": {
     "collapsed": false
    }
   }
  }
 },
 "nbformat": 4,
 "nbformat_minor": 1
}