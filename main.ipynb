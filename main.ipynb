{
 "cells": [
  {
   "cell_type": "code",
   "execution_count": 7,
   "metadata": {
    "_cell_guid": "b1076dfc-b9ad-4769-8c92-a6c4dae69d19",
    "_uuid": "8f2839f25d086af736a60e9eeb907d3b93b6e0e5",
    "colab": {},
    "colab_type": "code",
    "id": "7Ifkd08Lq3wR",
    "pycharm": {
     "is_executing": false
    }
   },
   "outputs": [],
   "source": [
    "# This Python 3 environment comes with many helpful analytics libraries installed\n",
    "# It is defined by the kaggle/python docker image: https://github.com/kaggle/docker-python\n",
    "# For example, here's several helpful packages to load in \n",
    "import numpy as np # linear algebra\n",
    "import pandas as pd # data processing, CSV file I/O (e.g. pd.read_csv)\n",
    "import csv\n",
    "import scipy as sp\n",
    "import scipy.sparse as sps\n",
    "from scipy.sparse import coo_matrix\n",
    "import os\n",
    "import matplotlib.pyplot as pyplot\n",
    "%matplotlib inline \n",
    "\n",
    "\n",
    "## Evaluation or scoring?\n",
    "eval = True"
   ]
  },
  {
   "cell_type": "code",
   "execution_count": 8,
   "metadata": {
    "colab": {},
    "colab_type": "code",
    "id": "6mDejDEXq3wW",
    "pycharm": {
     "is_executing": false
    }
   },
   "outputs": [
    {
     "name": "stdout",
     "output_type": "stream",
     "text": [
      "data_UCM_age.csv\n",
      "user data, ID: min 2, max 30909, length 30317, unique 30317, repetitions 0, missig 1.91 %\n",
      "age data, ID: min 1, max 10, length 30317, unique 10, repetitions 30307, missig 0.00 %\n",
      "\n",
      "data_ICM_sub_class.csv\n",
      "item data, ID: min 0, max 18494, length 18495, unique 18495, repetitions 0, missig 0.00 %\n",
      "subclass data, ID: min 1, max 2010, length 18495, unique 1905, repetitions 16590, missig 5.18 %\n",
      "\n",
      "data_ICM_asset.csv\n",
      "item data, ID: min 0, max 18494, length 18490, unique 18490, repetitions 0, missig 0.02 %\n",
      "asset data, ID: min 0, max 0, length 18490, unique 1, repetitions 18489, missig 0.00 %\n",
      "\n",
      "data_ICM_price.csv\n",
      "item data, ID: min 0, max 18494, length 18493, unique 18493, repetitions 0, missig 0.01 %\n",
      "price data, ID: min 0, max 0, length 18493, unique 1, repetitions 18492, missig 0.00 %\n",
      "\n",
      "data_UCM_region.csv\n",
      "user data, ID: min 0, max 30910, length 26609, unique 26375, repetitions 234, missig 14.67 %\n",
      "region data, ID: min 0, max 7, length 26609, unique 7, repetitions 26602, missig 0.00 %\n",
      "\n",
      "data_train.csv\n",
      "user data, ID: min 0, max 30910, length 398636, unique 27255, repetitions 371381, missig 11.82 %\n",
      "item data, ID: min 0, max 18494, length 398636, unique 15277, repetitions 383359, missig 17.39 %\n",
      "\n"
     ]
    }
   ],
   "source": [
    "from RecLib.DataLoad import *\n",
    "# Loading from CSV files...\n",
    "UCM_age = toCoo('data_UCM_age.csv', 'user', 'age')\n",
    "ICM_subclass = toCoo('data_ICM_sub_class.csv', 'item', 'subclass')\n",
    "ICM_asset = toCoo('data_ICM_asset.csv', 'item', 'asset')\n",
    "ICM_price = toCoo('data_ICM_price.csv', 'item', 'price')\n",
    "UCM_region = toCoo('data_UCM_region.csv', 'user', 'region')\n",
    "target_users = toNPArray('data_target_users_test.csv')\n",
    "URM = toCoo('data_train.csv', 'user', 'item')"
   ]
  },
  {
   "cell_type": "code",
   "execution_count": 9,
   "metadata": {
    "colab": {},
    "colab_type": "code",
    "id": "m4FzKl-xq3wc",
    "pycharm": {
     "is_executing": false
    }
   },
   "outputs": [],
   "source": [
    "URM = URM.tocsr()"
   ]
  },
  {
   "cell_type": "code",
   "execution_count": 10,
   "metadata": {
    "colab": {},
    "colab_type": "code",
    "id": "aODXsh3XsyJA",
    "pycharm": {
     "is_executing": false
    }
   },
   "outputs": [],
   "source": [
    "## Split dataset (train % of .9999 gives similar performance on test set and competition set)\n",
    "from Notebooks_utils.data_splitter import train_test_holdout\n",
    "URM_train, URM_test = train_test_holdout(URM, train_perc = 0.8)\n",
    "\n",
    "\n",
    "if not eval:\n",
    "    URM_train = URM\n",
    "else:\n",
    "    from Base.Evaluation.Evaluator import EvaluatorHoldout\n",
    "    evaluator_validation = EvaluatorHoldout(URM_test, cutoff_list=[10])"
   ]
  },
  {
   "cell_type": "code",
   "execution_count": 11,
   "metadata": {
    "pycharm": {
     "is_executing": false,
     "name": "#%%\n"
    }
   },
   "outputs": [],
   "source": [
    "## SLIM BPR Recommender - MAP 0.41 on test set\n",
    "## set True if you want to train and compile SLIM BPR Recommender\n",
    "if False:\n",
    "    from SLIM_BPR.Cython.SLIM_BPR_Cython import SLIM_BPR_Cython \n",
    "    slim_rec = SLIM_BPR_Cython(URM_train, recompile_cython=False, verbose = False)\n",
    "    MAP_LIST = []\n",
    "    epochsList = [300]\n",
    "    batchSize = [50]\n",
    "    tklist = [10]\n",
    "    lrs = [1e-3]\n",
    "\n",
    "    for epochsN in epochsList:\n",
    "        for bs in batchSize:\n",
    "            for tk in tklist:\n",
    "                for lr in lrs:\n",
    "                    do_not_display_hystory = slim_rec.fit(epochs=epochsN, batch_size=bs, sgd_mode='adagrad', learning_rate=lr, topK = tk)\n",
    "                    if eval:\n",
    "                        dict_scores = (evaluator_validation.evaluateRecommender(slim_rec))[0][10]\n",
    "                        MAP_LIST.append(('epoch, batch, topK, lr :' + str(epochsN) + ' ' + str(bs)+ ' ' + str(tk) + ' ' + str(lr), dict_scores['MAP']))\n",
    "    if eval:\n",
    "        print(MAP_LIST)"
   ]
  },
  {
   "cell_type": "code",
   "execution_count": 12,
   "metadata": {
    "pycharm": {
     "is_executing": false,
     "name": "#%%\n"
    }
   },
   "outputs": [
    {
     "name": "stdout",
     "output_type": "stream",
     "text": [
      "[269 109  86 ... 173 156 207]\n",
      "0 934 935 18490\n",
      "0 1020 1021 18493\n"
     ]
    },
    {
     "data": {
      "text/plain": [
       "<18495x3967 sparse matrix of type '<class 'numpy.float64'>'\n",
       "\twith 55478 stored elements in Compressed Sparse Row format>"
      ]
     },
     "execution_count": 12,
     "metadata": {},
     "output_type": "execute_result"
    }
   ],
   "source": [
    "from RecLib.DataLoad import ICMbuilder \n",
    "ICM = ICMbuilder(URM_train, ICM_subclass, ICM_price, ICM_asset)\n",
    "ICM = sps.csr_matrix(ICM)\n",
    "ICM"
   ]
  },
  {
   "cell_type": "code",
   "execution_count": 13,
   "metadata": {
    "pycharm": {
     "is_executing": false,
     "name": "#%%\n"
    }
   },
   "outputs": [
    {
     "data": {
      "text/plain": [
       "<30911x19 sparse matrix of type '<class 'numpy.float64'>'\n",
       "\twith 56926 stored elements in Compressed Sparse Row format>"
      ]
     },
     "execution_count": 13,
     "metadata": {},
     "output_type": "execute_result"
    }
   ],
   "source": [
    "from RecLib.DataLoad import UCMbuilder \n",
    "UCM = UCMbuilder(URM_train, UCM_age, UCM_region)\n",
    "UCM = sps.csr_matrix(UCM)\n",
    "UCM"
   ]
  },
  {
   "cell_type": "code",
   "execution_count": 14,
   "metadata": {
    "pycharm": {
     "is_executing": false,
     "name": "#%%\n"
    }
   },
   "outputs": [],
   "source": [
    "if False:\n",
    "    from KNN.ItemKNNCBFRecommender import ItemKNNCBFRecommender \n",
    "    itemKNNCBF = ItemKNNCBFRecommender(URM_train, ICM)\n",
    "    MAP_LIST = []\n",
    "    tklist = [3]\n",
    "    shrinklist = [10]\n",
    "\n",
    "    for tk in tklist:\n",
    "        for sr in shrinklist:\n",
    "            itemKNNCBF.fit(shrink=sr, topK = tk, similarity = 'cosine')\n",
    "            if eval:\n",
    "                dict_scores = (evaluator_validation.evaluateRecommender(itemKNNCBF))[0][10]\n",
    "                MAP_LIST.append(('topK, shrink :' + str(tk) + ' ' + str(sr), dict_scores['MAP']))\n",
    "    if eval:\n",
    "        print(MAP_LIST)"
   ]
  },
  {
   "cell_type": "code",
   "execution_count": 32,
   "metadata": {
    "pycharm": {
     "is_executing": false,
     "name": "#%%\n"
    }
   },
   "outputs": [
    {
     "name": "stdout",
     "output_type": "stream",
     "text": [
      "UserKNNCBFRecommender: URM Detected 4326 (14.00 %) cold users.\n",
      "UserKNNCBFRecommender: URM Detected 3696 (19.98 %) cold items.\n",
      "Unable to load Cython Compute_Similarity, reverting to Python\n",
      "Similarity column 19400 ( 63 % ), 645.71 column/sec, elapsed time 0.50 min\n",
      "Similarity column 30911 ( 100 % ), 625.86 column/sec, elapsed time 0.82 min\n",
      "EvaluatorHoldout: Processed 20416 ( 100.00% ) in 27.51 sec. Users per second: 742\n",
      "[('topK, shrink :2500 10', 0.008825532392166316)]\n"
     ]
    }
   ],
   "source": [
    "if True:\n",
    "    from KNN.UserKNNCBFRecommender import UserKNNCBFRecommender \n",
    "    userKNNCBF = UserKNNCBFRecommender(URM_train, UCM)\n",
    "    MAP_LIST = []\n",
    "    tklist = [2500]\n",
    "    shrinklist = [10]\n",
    "\n",
    "    for tk in tklist:\n",
    "        for sr in shrinklist:\n",
    "            userKNNCBF.fit(shrink=sr, topK = tk, similarity = 'cosine')\n",
    "            if eval:\n",
    "                dict_scores = (evaluator_validation.evaluateRecommender(userKNNCBF))[0][10]\n",
    "                MAP_LIST.append(('topK, shrink :' + str(tk) + ' ' + str(sr), dict_scores['MAP']))\n",
    "    if eval:\n",
    "        print(MAP_LIST)\n",
    "        "
   ]
  },
  {
   "cell_type": "code",
   "execution_count": 41,
   "metadata": {
    "pycharm": {
     "is_executing": false,
     "name": "#%%\n"
    }
   },
   "outputs": [
    {
     "name": "stdout",
     "output_type": "stream",
     "text": [
      "UserKNNCFRecommender: URM Detected 4326 (14.00 %) cold users.\n",
      "UserKNNCFRecommender: URM Detected 3696 (19.98 %) cold items.\n",
      "Unable to load Cython Compute_Similarity, reverting to Python\n",
      "Similarity column 25600 ( 83 % ), 850.91 column/sec, elapsed time 0.50 min\n",
      "Similarity column 30911 ( 100 % ), 863.70 column/sec, elapsed time 0.60 min\n",
      "EvaluatorHoldout: Processed 20416 ( 100.00% ) in 19.77 sec. Users per second: 1032\n",
      "[('topK, shrink :600 5', 0.03691236805807318)]\n"
     ]
    }
   ],
   "source": [
    "if True:\n",
    "    from KNN.UserKNNCFRecommender import UserKNNCFRecommender \n",
    "    userKNNCF = UserKNNCFRecommender(URM_train)\n",
    "    MAP_LIST = []\n",
    "    tklist = [600]\n",
    "    shrinklist = [5]\n",
    "\n",
    "    for tk in tklist:\n",
    "        for sr in shrinklist:\n",
    "            userKNNCF.fit(shrink=sr, topK = tk, similarity = 'cosine')\n",
    "            if eval:\n",
    "                dict_scores = (evaluator_validation.evaluateRecommender(userKNNCF))[0][10]\n",
    "                MAP_LIST.append(('topK, shrink :' + str(tk) + ' ' + str(sr), dict_scores['MAP']))\n",
    "    if eval:\n",
    "        print(MAP_LIST)     "
   ]
  },
  {
   "cell_type": "code",
   "execution_count": 40,
   "metadata": {
    "colab": {
     "base_uri": "https://localhost:8080/",
     "height": 119
    },
    "colab_type": "code",
    "id": "Pm7oY2Zx6Soy",
    "outputId": "d56a6477-e677-4dbe-db85-49c119d4b348",
    "pycharm": {
     "is_executing": false
    }
   },
   "outputs": [
    {
     "name": "stdout",
     "output_type": "stream",
     "text": [
      "ItemKNNCFRecommender: URM Detected 4326 (14.00 %) cold users.\n",
      "ItemKNNCFRecommender: URM Detected 3696 (19.98 %) cold items.\n",
      "Unable to load Cython Compute_Similarity, reverting to Python\n",
      "Similarity column 18495 ( 100 % ), 1153.45 column/sec, elapsed time 0.27 min\n",
      "EvaluatorHoldout: Processed 20416 ( 100.00% ) in 14.11 sec. Users per second: 1447\n",
      "MAP: 0.044962265971348635\n"
     ]
    }
   ],
   "source": [
    "## ItemCFKNNRecommender - MAP 0.47 on test set\n",
    "# If you want to compile and train KNN set to True\n",
    "if True:\n",
    "    from KNN.ItemKNNCFRecommender import ItemKNNCFRecommender\n",
    "    itemKNN = ItemKNNCFRecommender(URM_train)\n",
    "    itemKNN.fit(shrink=50, topK=3)\n",
    "\n",
    "    if eval:\n",
    "        evaluator_validation = EvaluatorHoldout(URM_test, cutoff_list=[10])\n",
    "        results, _ = evaluator_validation.evaluateRecommender(itemKNN)\n",
    "        print('MAP: ' + str(results[10][\"MAP\"]))"
   ]
  },
  {
   "cell_type": "code",
   "execution_count": 34,
   "metadata": {
    "pycharm": {
     "is_executing": false
    },
    "scrolled": false
   },
   "outputs": [],
   "source": [
    "## HYBRID: KNN + SLIM BPR\n",
    "# Set to True if you want to compile and train this hybrid rec\n",
    "from RecLib.HybridRecommender import *\n",
    "if False: \n",
    "    hybridrecommender = HybridRecommender(URM_train, itemKNN, itemKNNCBF, slim_rec)\n",
    "    hybridrecommender.fit(0.5, 0.1, 0.4)\n",
    "    \n",
    "    if eval:\n",
    "        results, _ = evaluator_validation.evaluateRecommender(hybridrecommender)\n",
    "        print('MAP: ' + str(results[10][\"MAP\"]))"
   ]
  },
  {
   "cell_type": "code",
   "execution_count": 35,
   "metadata": {
    "pycharm": {
     "is_executing": false
    },
    "scrolled": true
   },
   "outputs": [
    {
     "name": "stdout",
     "output_type": "stream",
     "text": [
      "EvaluatorHoldout: Ignoring 26585 Users\n"
     ]
    },
    {
     "ename": "NameError",
     "evalue": "name 'hybridrecommender' is not defined",
     "output_type": "error",
     "traceback": [
      "\u001b[0;31m---------------------------------------------------------------------------\u001b[0m",
      "\u001b[0;31mNameError\u001b[0m                                 Traceback (most recent call last)",
      "\u001b[0;32m<ipython-input-35-b7ad8457c2a7>\u001b[0m in \u001b[0;36m<module>\u001b[0;34m\u001b[0m\n\u001b[1;32m      6\u001b[0m         \u001b[0;32mif\u001b[0m \u001b[0mlen\u001b[0m\u001b[0;34m(\u001b[0m\u001b[0mto_ignore\u001b[0m\u001b[0;34m)\u001b[0m \u001b[0;34m!=\u001b[0m \u001b[0mURM_train\u001b[0m\u001b[0;34m.\u001b[0m\u001b[0mshape\u001b[0m\u001b[0;34m[\u001b[0m\u001b[0;36m0\u001b[0m\u001b[0;34m]\u001b[0m\u001b[0;34m:\u001b[0m\u001b[0;34m\u001b[0m\u001b[0;34m\u001b[0m\u001b[0m\n\u001b[1;32m      7\u001b[0m             \u001b[0mevaluator_validation\u001b[0m \u001b[0;34m=\u001b[0m \u001b[0mEvaluatorHoldout\u001b[0m\u001b[0;34m(\u001b[0m\u001b[0mURM_test\u001b[0m\u001b[0;34m,\u001b[0m \u001b[0mcutoff_list\u001b[0m\u001b[0;34m=\u001b[0m\u001b[0;34m[\u001b[0m\u001b[0;36m10\u001b[0m\u001b[0;34m]\u001b[0m\u001b[0;34m,\u001b[0m \u001b[0mignore_users\u001b[0m \u001b[0;34m=\u001b[0m \u001b[0mto_ignore\u001b[0m\u001b[0;34m)\u001b[0m\u001b[0;34m\u001b[0m\u001b[0;34m\u001b[0m\u001b[0m\n\u001b[0;32m----> 8\u001b[0;31m             \u001b[0mresults\u001b[0m\u001b[0;34m,\u001b[0m \u001b[0m_\u001b[0m \u001b[0;34m=\u001b[0m \u001b[0mevaluator_validation\u001b[0m\u001b[0;34m.\u001b[0m\u001b[0mevaluateRecommender\u001b[0m\u001b[0;34m(\u001b[0m\u001b[0mhybridrecommender\u001b[0m\u001b[0;34m)\u001b[0m\u001b[0;34m\u001b[0m\u001b[0;34m\u001b[0m\u001b[0m\n\u001b[0m\u001b[1;32m      9\u001b[0m             \u001b[0mprint\u001b[0m\u001b[0;34m(\u001b[0m\u001b[0;34m'MAP at '\u001b[0m \u001b[0;34m+\u001b[0m \u001b[0mstr\u001b[0m\u001b[0;34m(\u001b[0m\u001b[0mitr\u001b[0m\u001b[0;34m)\u001b[0m \u001b[0;34m+\u001b[0m\u001b[0;34m' interactions: '\u001b[0m \u001b[0;34m+\u001b[0m \u001b[0mstr\u001b[0m\u001b[0;34m(\u001b[0m\u001b[0mresults\u001b[0m\u001b[0;34m[\u001b[0m\u001b[0;36m10\u001b[0m\u001b[0;34m]\u001b[0m\u001b[0;34m[\u001b[0m\u001b[0;34m\"MAP\"\u001b[0m\u001b[0;34m]\u001b[0m\u001b[0;34m)\u001b[0m\u001b[0;34m)\u001b[0m\u001b[0;34m\u001b[0m\u001b[0;34m\u001b[0m\u001b[0m\n",
      "\u001b[0;31mNameError\u001b[0m: name 'hybridrecommender' is not defined"
     ]
    }
   ],
   "source": [
    "if eval:\n",
    "    for itr in range(300):\n",
    "        to_compute_mask = np.ediff1d(URM_train.tocsr().indptr) == itr\n",
    "        to_ignore_mask = np.invert(to_compute_mask)\n",
    "        to_ignore = np.arange(URM_train.shape[0])[to_ignore_mask]\n",
    "        if len(to_ignore) != URM_train.shape[0]:\n",
    "            evaluator_validation = EvaluatorHoldout(URM_test, cutoff_list=[10], ignore_users = to_ignore)\n",
    "            results, _ = evaluator_validation.evaluateRecommender(hybridrecommender)\n",
    "            print('MAP at ' + str(itr) +' interactions: ' + str(results[10][\"MAP\"]))\n",
    "        evaluator_validation = EvaluatorHoldout(URM_test, cutoff_list=[10])    "
   ]
  },
  {
   "cell_type": "code",
   "execution_count": 42,
   "metadata": {
    "pycharm": {
     "is_executing": false
    },
    "scrolled": false
   },
   "outputs": [
    {
     "name": "stdout",
     "output_type": "stream",
     "text": [
      "PureSVDRecommender: URM Detected 4326 (14.00 %) cold users.\n",
      "PureSVDRecommender: URM Detected 3696 (19.98 %) cold items.\n",
      "PureSVDRecommender: Computing SVD decomposition...\n",
      "PureSVDRecommender: Computing SVD decomposition... Done!\n",
      "TopPopRecommender: URM Detected 4326 (14.00 %) cold users.\n",
      "TopPopRecommender: URM Detected 3696 (19.98 %) cold items.\n",
      "Group 0, average p.len 0.00, min 0, max 0\n",
      "EvaluatorHoldout: Ignoring 29366 Users\n",
      "EvaluatorHoldout: Processed 242 ( 100.00% ) in 0.22 sec. Users per second: 1117\n",
      "EvaluatorHoldout: Processed 242 ( 100.00% ) in 0.18 sec. Users per second: 1379\n",
      "EvaluatorHoldout: Processed 242 ( 100.00% ) in 0.30 sec. Users per second: 802\n",
      "EvaluatorHoldout: Processed 242 ( 100.00% ) in 0.19 sec. Users per second: 1249\n",
      "EvaluatorHoldout: Processed 242 ( 100.00% ) in 0.19 sec. Users per second: 1265\n",
      "Group 1, average p.len 0.00, min 0, max 0\n",
      "EvaluatorHoldout: Ignoring 29366 Users\n",
      "EvaluatorHoldout: Processed 213 ( 100.00% ) in 0.19 sec. Users per second: 1147\n",
      "EvaluatorHoldout: Processed 213 ( 100.00% ) in 0.15 sec. Users per second: 1453\n",
      "EvaluatorHoldout: Processed 213 ( 100.00% ) in 0.31 sec. Users per second: 689\n",
      "EvaluatorHoldout: Processed 213 ( 100.00% ) in 0.21 sec. Users per second: 1017\n",
      "EvaluatorHoldout: Processed 213 ( 100.00% ) in 0.31 sec. Users per second: 685\n",
      "Group 2, average p.len 0.20, min 0, max 1\n",
      "EvaluatorHoldout: Ignoring 29366 Users\n",
      "EvaluatorHoldout: Processed 293 ( 100.00% ) in 0.33 sec. Users per second: 885\n",
      "EvaluatorHoldout: Processed 293 ( 100.00% ) in 0.21 sec. Users per second: 1370\n",
      "EvaluatorHoldout: Processed 293 ( 100.00% ) in 0.42 sec. Users per second: 701\n",
      "EvaluatorHoldout: Processed 293 ( 100.00% ) in 0.25 sec. Users per second: 1159\n",
      "EvaluatorHoldout: Processed 293 ( 100.00% ) in 0.22 sec. Users per second: 1315\n",
      "Group 3, average p.len 1.00, min 1, max 1\n",
      "EvaluatorHoldout: Ignoring 29366 Users\n",
      "EvaluatorHoldout: Processed 405 ( 100.00% ) in 0.32 sec. Users per second: 1266\n",
      "EvaluatorHoldout: Processed 405 ( 100.00% ) in 0.36 sec. Users per second: 1140\n",
      "EvaluatorHoldout: Processed 405 ( 100.00% ) in 0.51 sec. Users per second: 793\n",
      "EvaluatorHoldout: Processed 405 ( 100.00% ) in 0.37 sec. Users per second: 1083\n",
      "EvaluatorHoldout: Processed 405 ( 100.00% ) in 0.44 sec. Users per second: 926\n",
      "Group 4, average p.len 1.23, min 1, max 2\n",
      "EvaluatorHoldout: Ignoring 29366 Users\n",
      "EvaluatorHoldout: Processed 481 ( 100.00% ) in 0.54 sec. Users per second: 889\n",
      "EvaluatorHoldout: Processed 481 ( 100.00% ) in 0.41 sec. Users per second: 1162\n",
      "EvaluatorHoldout: Processed 481 ( 100.00% ) in 0.67 sec. Users per second: 716\n",
      "EvaluatorHoldout: Processed 481 ( 100.00% ) in 0.44 sec. Users per second: 1100\n",
      "EvaluatorHoldout: Processed 481 ( 100.00% ) in 0.65 sec. Users per second: 737\n",
      "Group 5, average p.len 2.00, min 2, max 2\n",
      "EvaluatorHoldout: Ignoring 29366 Users\n",
      "EvaluatorHoldout: Processed 705 ( 100.00% ) in 0.65 sec. Users per second: 1090\n",
      "EvaluatorHoldout: Processed 705 ( 100.00% ) in 0.65 sec. Users per second: 1091\n",
      "EvaluatorHoldout: Processed 705 ( 100.00% ) in 0.88 sec. Users per second: 799\n",
      "EvaluatorHoldout: Processed 705 ( 100.00% ) in 0.63 sec. Users per second: 1119\n",
      "EvaluatorHoldout: Processed 705 ( 100.00% ) in 0.52 sec. Users per second: 1367\n",
      "Group 6, average p.len 2.75, min 2, max 3\n",
      "EvaluatorHoldout: Ignoring 29366 Users\n",
      "EvaluatorHoldout: Processed 827 ( 100.00% ) in 0.62 sec. Users per second: 1339\n",
      "EvaluatorHoldout: Processed 827 ( 100.00% ) in 0.77 sec. Users per second: 1079\n",
      "EvaluatorHoldout: Processed 827 ( 100.00% ) in 1.08 sec. Users per second: 769\n",
      "EvaluatorHoldout: Processed 827 ( 100.00% ) in 0.71 sec. Users per second: 1172\n",
      "EvaluatorHoldout: Processed 827 ( 100.00% ) in 0.60 sec. Users per second: 1371\n",
      "Group 7, average p.len 3.39, min 3, max 4\n",
      "EvaluatorHoldout: Ignoring 29366 Users\n",
      "EvaluatorHoldout: Processed 922 ( 100.00% ) in 0.71 sec. Users per second: 1291\n",
      "EvaluatorHoldout: Processed 922 ( 100.00% ) in 0.90 sec. Users per second: 1028\n",
      "EvaluatorHoldout: Processed 922 ( 100.00% ) in 1.42 sec. Users per second: 649\n",
      "EvaluatorHoldout: Processed 922 ( 100.00% ) in 0.89 sec. Users per second: 1038\n",
      "EvaluatorHoldout: Processed 922 ( 100.00% ) in 0.76 sec. Users per second: 1216\n",
      "Group 8, average p.len 4.20, min 4, max 5\n",
      "EvaluatorHoldout: Ignoring 29366 Users\n",
      "EvaluatorHoldout: Processed 1011 ( 100.00% ) in 0.78 sec. Users per second: 1302\n",
      "EvaluatorHoldout: Processed 1011 ( 100.00% ) in 0.99 sec. Users per second: 1024\n",
      "EvaluatorHoldout: Processed 1011 ( 100.00% ) in 1.32 sec. Users per second: 765\n",
      "EvaluatorHoldout: Processed 1011 ( 100.00% ) in 0.94 sec. Users per second: 1075\n",
      "EvaluatorHoldout: Processed 1011 ( 100.00% ) in 0.82 sec. Users per second: 1233\n",
      "Group 9, average p.len 5.14, min 5, max 6\n",
      "EvaluatorHoldout: Ignoring 29366 Users\n",
      "EvaluatorHoldout: Processed 1109 ( 100.00% ) in 0.84 sec. Users per second: 1327\n",
      "EvaluatorHoldout: Processed 1109 ( 100.00% ) in 1.07 sec. Users per second: 1040\n",
      "EvaluatorHoldout: Processed 1109 ( 100.00% ) in 1.46 sec. Users per second: 760\n",
      "EvaluatorHoldout: Processed 1109 ( 100.00% ) in 1.05 sec. Users per second: 1058\n",
      "EvaluatorHoldout: Processed 1109 ( 100.00% ) in 0.92 sec. Users per second: 1206\n",
      "Group 10, average p.len 6.23, min 6, max 7\n",
      "EvaluatorHoldout: Ignoring 29366 Users\n",
      "EvaluatorHoldout: Processed 1166 ( 100.00% ) in 0.90 sec. Users per second: 1296\n",
      "EvaluatorHoldout: Processed 1166 ( 100.00% ) in 1.13 sec. Users per second: 1029\n",
      "EvaluatorHoldout: Processed 1166 ( 100.00% ) in 1.53 sec. Users per second: 764\n",
      "EvaluatorHoldout: Processed 1166 ( 100.00% ) in 1.08 sec. Users per second: 1076\n",
      "EvaluatorHoldout: Processed 1166 ( 100.00% ) in 0.97 sec. Users per second: 1196\n",
      "Group 11, average p.len 7.39, min 7, max 8\n",
      "EvaluatorHoldout: Ignoring 29366 Users\n",
      "EvaluatorHoldout: Processed 1238 ( 100.00% ) in 0.96 sec. Users per second: 1287\n",
      "EvaluatorHoldout: Processed 1238 ( 100.00% ) in 1.18 sec. Users per second: 1053\n",
      "EvaluatorHoldout: Processed 1238 ( 100.00% ) in 1.63 sec. Users per second: 761\n",
      "EvaluatorHoldout: Processed 1238 ( 100.00% ) in 1.20 sec. Users per second: 1035\n",
      "EvaluatorHoldout: Processed 1238 ( 100.00% ) in 1.03 sec. Users per second: 1197\n",
      "Group 12, average p.len 8.71, min 8, max 10\n",
      "EvaluatorHoldout: Ignoring 29366 Users\n",
      "EvaluatorHoldout: Processed 1331 ( 100.00% ) in 1.00 sec. Users per second: 1330\n",
      "EvaluatorHoldout: Processed 1331 ( 100.00% ) in 1.35 sec. Users per second: 985\n",
      "EvaluatorHoldout: Processed 1331 ( 100.00% ) in 2.14 sec. Users per second: 623\n",
      "EvaluatorHoldout: Processed 1331 ( 100.00% ) in 1.22 sec. Users per second: 1094\n",
      "EvaluatorHoldout: Processed 1331 ( 100.00% ) in 1.13 sec. Users per second: 1178\n",
      "Group 13, average p.len 10.44, min 10, max 11\n",
      "EvaluatorHoldout: Ignoring 29366 Users\n",
      "EvaluatorHoldout: Processed 1394 ( 100.00% ) in 1.04 sec. Users per second: 1336\n",
      "EvaluatorHoldout: Processed 1394 ( 100.00% ) in 1.41 sec. Users per second: 992\n",
      "EvaluatorHoldout: Processed 1394 ( 100.00% ) in 1.78 sec. Users per second: 785\n",
      "EvaluatorHoldout: Processed 1394 ( 100.00% ) in 1.31 sec. Users per second: 1063\n",
      "EvaluatorHoldout: Processed 1394 ( 100.00% ) in 1.24 sec. Users per second: 1121\n",
      "Group 14, average p.len 12.37, min 11, max 14\n",
      "EvaluatorHoldout: Ignoring 29366 Users\n",
      "EvaluatorHoldout: Processed 1444 ( 100.00% ) in 1.19 sec. Users per second: 1212\n",
      "EvaluatorHoldout: Processed 1444 ( 100.00% ) in 1.87 sec. Users per second: 771\n",
      "EvaluatorHoldout: Processed 1444 ( 100.00% ) in 2.32 sec. Users per second: 622\n",
      "EvaluatorHoldout: Processed 1444 ( 100.00% ) in 1.68 sec. Users per second: 858\n",
      "EvaluatorHoldout: Processed 1444 ( 100.00% ) in 1.65 sec. Users per second: 876\n",
      "Group 15, average p.len 14.97, min 14, max 16\n",
      "EvaluatorHoldout: Ignoring 29366 Users\n",
      "EvaluatorHoldout: Processed 1487 ( 100.00% ) in 1.41 sec. Users per second: 1058\n",
      "EvaluatorHoldout: Processed 1487 ( 100.00% ) in 2.17 sec. Users per second: 686\n",
      "EvaluatorHoldout: Processed 1487 ( 100.00% ) in 2.38 sec. Users per second: 624\n",
      "EvaluatorHoldout: Processed 1487 ( 100.00% ) in 1.87 sec. Users per second: 797\n",
      "EvaluatorHoldout: Processed 1487 ( 100.00% ) in 1.39 sec. Users per second: 1067\n",
      "Group 16, average p.len 18.08, min 16, max 20\n",
      "EvaluatorHoldout: Ignoring 29366 Users\n",
      "EvaluatorHoldout: Processed 1510 ( 100.00% ) in 1.16 sec. Users per second: 1296\n"
     ]
    },
    {
     "name": "stdout",
     "output_type": "stream",
     "text": [
      "EvaluatorHoldout: Processed 1510 ( 100.00% ) in 1.47 sec. Users per second: 1028\n",
      "EvaluatorHoldout: Processed 1510 ( 100.00% ) in 1.99 sec. Users per second: 760\n",
      "EvaluatorHoldout: Processed 1510 ( 100.00% ) in 1.40 sec. Users per second: 1076\n",
      "EvaluatorHoldout: Processed 1510 ( 100.00% ) in 1.47 sec. Users per second: 1024\n",
      "Group 17, average p.len 22.69, min 20, max 26\n",
      "EvaluatorHoldout: Ignoring 29366 Users\n",
      "EvaluatorHoldout: Processed 1541 ( 100.00% ) in 1.21 sec. Users per second: 1271\n",
      "EvaluatorHoldout: Processed 1541 ( 100.00% ) in 1.59 sec. Users per second: 972\n",
      "EvaluatorHoldout: Processed 1541 ( 100.00% ) in 2.45 sec. Users per second: 629\n",
      "EvaluatorHoldout: Processed 1541 ( 100.00% ) in 1.88 sec. Users per second: 821\n",
      "EvaluatorHoldout: Processed 1541 ( 100.00% ) in 1.54 sec. Users per second: 1003\n",
      "Group 18, average p.len 30.15, min 26, max 36\n",
      "EvaluatorHoldout: Ignoring 29366 Users\n",
      "EvaluatorHoldout: Processed 1541 ( 100.00% ) in 1.37 sec. Users per second: 1122\n",
      "EvaluatorHoldout: Processed 1541 ( 100.00% ) in 2.09 sec. Users per second: 736\n",
      "EvaluatorHoldout: Processed 1541 ( 100.00% ) in 2.53 sec. Users per second: 610\n",
      "EvaluatorHoldout: Processed 1541 ( 100.00% ) in 1.59 sec. Users per second: 966\n",
      "EvaluatorHoldout: Processed 1541 ( 100.00% ) in 1.82 sec. Users per second: 846\n",
      "Group 19, average p.len 53.45, min 36, max 200\n",
      "EvaluatorHoldout: Ignoring 29366 Users\n",
      "EvaluatorHoldout: Processed 1545 ( 100.00% ) in 1.66 sec. Users per second: 933\n",
      "EvaluatorHoldout: Processed 1545 ( 100.00% ) in 2.28 sec. Users per second: 677\n",
      "EvaluatorHoldout: Processed 1545 ( 100.00% ) in 2.32 sec. Users per second: 666\n",
      "EvaluatorHoldout: Processed 1545 ( 100.00% ) in 1.61 sec. Users per second: 958\n",
      "EvaluatorHoldout: Processed 1545 ( 100.00% ) in 1.46 sec. Users per second: 1056\n"
     ]
    },
    {
     "data": {
      "image/png": "[encoded data removed]",
      "text/plain": [
       "<Figure size 432x288 with 1 Axes>"
      ]
     },
     "metadata": {
      "needs_background": "light"
     },
     "output_type": "display_data"
    }
   ],
   "source": [
    "## TEST & VISUALIZE DIFFERENT RECSYS PERFORMANCE BASED ON N° OF INTERACTIONS HELD BY USERS\n",
    "# Please, fill empty list with pretrained recommenders you want to compare\n",
    "\n",
    "if eval:\n",
    "    recommendersToCompare = [itemKNN, userKNNCF, userKNNCBF]\n",
    "    from RecLib.PerUserGroupTesting import *\n",
    "    compare(URM_train, URM_test, recommendersToCompare)"
   ]
  },
  {
   "cell_type": "code",
   "execution_count": 37,
   "metadata": {
    "colab": {},
    "colab_type": "code",
    "id": "rYQRvvikMJVN",
    "pycharm": {
     "is_executing": false
    }
   },
   "outputs": [
    {
     "ename": "NameError",
     "evalue": "name 'hybridrecommender' is not defined",
     "output_type": "error",
     "traceback": [
      "\u001b[0;31m---------------------------------------------------------------------------\u001b[0m",
      "\u001b[0;31mNameError\u001b[0m                                 Traceback (most recent call last)",
      "\u001b[0;32m<ipython-input-37-cf91c5a8dfc6>\u001b[0m in \u001b[0;36m<module>\u001b[0;34m\u001b[0m\n\u001b[1;32m      1\u001b[0m \u001b[0;31m## Predict\u001b[0m\u001b[0;34m\u001b[0m\u001b[0;34m\u001b[0m\u001b[0;34m\u001b[0m\u001b[0m\n\u001b[1;32m      2\u001b[0m \u001b[0;31m## SET WHICH RECOMMENDER YOU WANNA USE\u001b[0m\u001b[0;34m\u001b[0m\u001b[0;34m\u001b[0m\u001b[0;34m\u001b[0m\u001b[0m\n\u001b[0;32m----> 3\u001b[0;31m \u001b[0mfinal_Rec\u001b[0m \u001b[0;34m=\u001b[0m \u001b[0mhybridrecommender\u001b[0m\u001b[0;34m\u001b[0m\u001b[0;34m\u001b[0m\u001b[0m\n\u001b[0m\u001b[1;32m      4\u001b[0m \u001b[0;32mif\u001b[0m \u001b[0;32mnot\u001b[0m \u001b[0meval\u001b[0m\u001b[0;34m:\u001b[0m\u001b[0;34m\u001b[0m\u001b[0;34m\u001b[0m\u001b[0m\n\u001b[1;32m      5\u001b[0m     \u001b[0moutput\u001b[0m \u001b[0;34m=\u001b[0m \u001b[0;34m[\u001b[0m\u001b[0;34m]\u001b[0m\u001b[0;34m\u001b[0m\u001b[0;34m\u001b[0m\u001b[0m\n",
      "\u001b[0;31mNameError\u001b[0m: name 'hybridrecommender' is not defined"
     ]
    }
   ],
   "source": [
    "## Predict\n",
    "## SET WHICH RECOMMENDER YOU WANNA USE\n",
    "final_Rec = hybridrecommender\n",
    "if not eval:\n",
    "    output = []\n",
    "    for user_id in target_users:\n",
    "        output.append((user_id, final_Rec.recommend(user_id, cutoff=10)))"
   ]
  },
  {
   "cell_type": "code",
   "execution_count": 38,
   "metadata": {
    "colab": {},
    "colab_type": "code",
    "id": "o5TyQsg9TAwz",
    "pycharm": {
     "is_executing": false
    }
   },
   "outputs": [],
   "source": [
    "#Writedown results\n",
    "if not eval:\n",
    "    with open('submission.csv', 'w', newline='') as file:\n",
    "        writer = csv.writer(file)\n",
    "        writer.writerow([\"user_id\", \"item_list\"])\n",
    "        for row in output:\n",
    "          ranking = ''\n",
    "          for val in row[1]:\n",
    "            ranking = ranking + str(val) + ' '\n",
    "          writer.writerow([row[0], ranking[:-1]])"
   ]
  },
  {
   "cell_type": "code",
   "execution_count": null,
   "metadata": {
    "pycharm": {
     "is_executing": false
    }
   },
   "outputs": [],
   "source": []
  }
 ],
 "metadata": {
  "accelerator": "GPU",
  "colab": {
   "name": "sacajrota.ipynb",
   "provenance": []
  },
  "kernelspec": {
   "display_name": "Python 3",
   "language": "python",
   "name": "python3"
  },
  "language_info": {
   "codemirror_mode": {
    "name": "ipython",
    "version": 3
   },
   "file_extension": ".py",
   "mimetype": "text/x-python",
   "name": "python",
   "nbconvert_exporter": "python",
   "pygments_lexer": "ipython3",
   "version": "3.7.3"
  },
  "pycharm": {
   "stem_cell": {
    "cell_type": "raw",
    "metadata": {
     "collapsed": false
    },
    "source": []
   }
  }
 },
 "nbformat": 4,
 "nbformat_minor": 1
}
