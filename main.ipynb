{
 "cells": [
  {
   "cell_type": "code",
   "execution_count": 1,
   "metadata": {
    "_cell_guid": "b1076dfc-b9ad-4769-8c92-a6c4dae69d19",
    "_uuid": "8f2839f25d086af736a60e9eeb907d3b93b6e0e5",
    "colab": {},
    "colab_type": "code",
    "id": "7Ifkd08Lq3wR",
    "pycharm": {
     "is_executing": false
    }
   },
   "outputs": [],
   "source": [
    "# This Python 3 environment comes with many helpful analytics libraries installed\n",
    "# It is defined by the kaggle/python docker image: https://github.com/kaggle/docker-python\n",
    "# For example, here's several helpful packages to load in \n",
    "import numpy as np # linear algebra\n",
    "import pandas as pd # data processing, CSV file I/O (e.g. pd.read_csv)\n",
    "import csv\n",
    "import scipy as sp\n",
    "import scipy.sparse as sps\n",
    "from scipy.sparse import coo_matrix\n",
    "import os\n",
    "import matplotlib.pyplot as pyplot\n",
    "%matplotlib inline \n",
    "\n",
    "\n",
    "## Evaluation or scoring?\n",
    "eval = True"
   ]
  },
  {
   "cell_type": "code",
   "execution_count": 2,
   "metadata": {
    "colab": {},
    "colab_type": "code",
    "id": "6mDejDEXq3wW",
    "pycharm": {
     "is_executing": false
    }
   },
   "outputs": [
    {
     "name": "stdout",
     "text": [
      "data_UCM_age.csv\n",
      "user data, ID: min 2, max 30909, length 30317, unique 30317, repetitions 0, missig 1.91 %\n",
      "age data, ID: min 1, max 10, length 30317, unique 10, repetitions 30307, missig 0.00 %\n",
      "\n",
      "data_ICM_sub_class.csv\n",
      "item data, ID: min 0, max 18494, length 18495, unique 18495, repetitions 0, missig 0.00 %\n",
      "subclass data, ID: min 1, max 2010, length 18495, unique 1905, repetitions 16590, missig 5.18 %\n",
      "\n",
      "data_ICM_asset.csv\n",
      "item data, ID: min 0, max 18494, length 18490, unique 18490, repetitions 0, missig 0.02 %\n",
      "asset data, ID: min 0, max 0, length 18490, unique 1, repetitions 18489, missig 0.00 %\n",
      "\n",
      "data_ICM_price.csv\n",
      "item data, ID: min 0, max 18494, length 18493, unique 18493, repetitions 0, missig 0.01 %\n",
      "price data, ID: min 0, max 0, length 18493, unique 1, repetitions 18492, missig 0.00 %\n",
      "\n",
      "data_UCM_region.csv\n",
      "user data, ID: min 0, max 30910, length 26609, unique 26375, repetitions 234, missig 14.67 %\n",
      "region data, ID: min 0, max 7, length 26609, unique 7, repetitions 26602, missig 0.00 %\n",
      "\n",
      "data_train.csv\n",
      "user data, ID: min 0, max 30910, length 398636, unique 27255, repetitions 371381, missig 11.82 %\n",
      "item data, ID: min 0, max 18494, length 398636, unique 15277, repetitions 383359, missig 17.39 %\n",
      "\n"
     ],
     "output_type": "stream"
    }
   ],
   "source": [
    "from RecLib.DataLoad import *\n",
    "# Loading from CSV files...\n",
    "UCM_age = toCoo('data_UCM_age.csv', 'user', 'age')\n",
    "ICM_subclass = toCoo('data_ICM_sub_class.csv', 'item', 'subclass')\n",
    "ICM_asset = toCoo('data_ICM_asset.csv', 'item', 'asset')\n",
    "ICM_price = toCoo('data_ICM_price.csv', 'item', 'price')\n",
    "UCM_region = toCoo('data_UCM_region.csv', 'user', 'region')\n",
    "target_users = toNPArray('data_target_users_test.csv')\n",
    "URM = toCoo('data_train.csv', 'user', 'item')"
   ]
  },
  {
   "cell_type": "code",
   "execution_count": 3,
   "metadata": {
    "colab": {},
    "colab_type": "code",
    "id": "m4FzKl-xq3wc",
    "pycharm": {
     "is_executing": false
    }
   },
   "outputs": [],
   "source": [
    "URM = URM.tocsr()"
   ]
  },
  {
   "cell_type": "code",
   "execution_count": 4,
   "metadata": {
    "colab": {},
    "colab_type": "code",
    "id": "aODXsh3XsyJA",
    "pycharm": {
     "is_executing": false
    }
   },
   "outputs": [],
   "source": [
    "## Split dataset (train % of .9999 gives similar performance on test set and competition set)\n",
    "from Notebooks_utils.data_splitter import train_test_holdout\n",
    "URM_train, URM_test = train_test_holdout(URM, train_perc = 0.8)\n",
    "\n",
    "\n",
    "if not eval:\n",
    "    URM_train = URM\n",
    "else:\n",
    "    from Base.Evaluation.Evaluator import EvaluatorHoldout\n",
    "    evaluator_validation = EvaluatorHoldout(URM_test, cutoff_list=[10])"
   ]
  },
  {
   "cell_type": "code",
   "execution_count": 5,
   "metadata": {
    "pycharm": {
     "is_executing": false,
     "name": "#%%\n"
    }
   },
   "outputs": [],
   "source": [
    "## SLIM BPR Recommender - MAP 0.41 on test set\n",
    "## set True if you want to train and compile SLIM BPR Recommender\n",
    "if False:\n",
    "    from SLIM_BPR.Cython.SLIM_BPR_Cython import SLIM_BPR_Cython \n",
    "    slim_rec = SLIM_BPR_Cython(URM_train, recompile_cython=False, verbose = False)\n",
    "    MAP_LIST = []\n",
    "    epochsList = [300]\n",
    "    batchSize = [50]\n",
    "    tklist = [10]\n",
    "    lrs = [1e-3]\n",
    "\n",
    "    for epochsN in epochsList:\n",
    "        for bs in batchSize:\n",
    "            for tk in tklist:\n",
    "                for lr in lrs:\n",
    "                    do_not_display_hystory = slim_rec.fit(epochs=epochsN, batch_size=bs, sgd_mode='adagrad', learning_rate=lr, topK = tk)\n",
    "                    if eval:\n",
    "                        dict_scores = (evaluator_validation.evaluateRecommender(slim_rec))[0][10]\n",
    "                        MAP_LIST.append(('epoch, batch, topK, lr :' + str(epochsN) + ' ' + str(bs)+ ' ' + str(tk) + ' ' + str(lr), dict_scores['MAP']))\n",
    "    if eval:\n",
    "        MAP_LIST"
   ]
  },
  {
   "cell_type": "code",
   "execution_count": 6,
   "metadata": {
    "pycharm": {
     "is_executing": false
    }
   },
   "outputs": [],
   "source": [
    "\n",
    "if False:\n",
    "    from KNN.ItemKNNCBFRecommender import ItemKNNCBFRecommender \n",
    "    itemKNNCBF = ItemKNNCBFRecommender(URM_train, ICM_subclass)\n",
    "    MAP_LIST = []\n",
    "    tklist = [1]\n",
    "    shrinklist = [0]\n",
    "\n",
    "    for tk in tklist:\n",
    "        for sr in shrinklist:\n",
    "            itemKNNCBF.fit(shrink=sr, topK = tk, similarity = 'cosine')\n",
    "            if eval:\n",
    "                dict_scores = (evaluator_validation.evaluateRecommender(itemKNNCBF))[0][10]\n",
    "                MAP_LIST.append(('topK, shrink :' + str(tk) + ' ' + str(sr), dict_scores['MAP']))\n",
    "    if eval:\n",
    "        print(MAP_LIST)\n",
    "\n"
   ]
  },
  {
   "cell_type": "code",
   "execution_count": 15,
   "metadata": {
    "colab": {
     "base_uri": "https://localhost:8080/",
     "height": 119
    },
    "colab_type": "code",
    "id": "Pm7oY2Zx6Soy",
    "outputId": "d56a6477-e677-4dbe-db85-49c119d4b348",
    "pycharm": {
     "is_executing": false
    }
   },
   "outputs": [
    {
     "name": "stdout",
     "text": [
      "ItemKNNCFRecommender: URM Detected 4338 (14.03 %) cold users.\n",
      "ItemKNNCFRecommender: URM Detected 3648 (19.72 %) cold items.\n",
      "Similarity column 18495 ( 100 % ), 6127.86 column/sec, elapsed time 0.05 min\n",
      "EvaluatorHoldout: Processed 20395 ( 100.00% ) in 11.02 sec. Users per second: 1851\n",
      "MAP: 0.04653038327004885\n"
     ],
     "output_type": "stream"
    }
   ],
   "source": [
    "## ItemCFKNNRecommender - MAP 0.47 on test set\n",
    "# If you want to compile and train KNN set to True\n",
    "if True:\n",
    "    from KNN.ItemKNNCFRecommender import ItemKNNCFRecommender\n",
    "    itemKNN = ItemKNNCFRecommender(URM_train)\n",
    "    itemKNN.fit(shrink=50, topK=5)\n",
    "\n",
    "    if eval:\n",
    "        results, _ = evaluator_validation.evaluateRecommender(itemKNN)\n",
    "        print('MAP: ' + str(results[10][\"MAP\"]))"
   ]
  },
  {
   "cell_type": "code",
   "execution_count": 8,
   "metadata": {
    "pycharm": {
     "is_executing": false
    }
   },
   "outputs": [],
   "source": [
    "## HYBRID: KNN + SLIM BPR\n",
    "# Set to True if you want to compile and train this hybrid rec\n",
    "from RecLib.ItemKNNScoresHybridRecommender import *\n",
    "if False: \n",
    "    hybridrecommender = ItemKNNScoresHybridRecommender(URM_test, itemKNN, slim_rec)\n",
    "    hybridrecommender.fit(alpha = 0.5)\n",
    "    \n",
    "    if eval:\n",
    "        evaluator_validation.evaluateRecommender(hybridrecommender)"
   ]
  },
  {
   "cell_type": "code",
   "execution_count": 16,
   "metadata": {
    "pycharm": {
     "is_executing": false
    }
   },
   "outputs": [
    {
     "name": "stdout",
     "text": [
      "PureSVDRecommender: URM Detected 4338 (14.03 %) cold users.\n",
      "PureSVDRecommender: URM Detected 3648 (19.72 %) cold items.\n",
      "PureSVDRecommender: Computing SVD decomposition...\n",
      "PureSVDRecommender: Computing SVD decomposition... Done!\n",
      "TopPopRecommender: URM Detected 4338 (14.03 %) cold users.\n",
      "TopPopRecommender: URM Detected 3648 (19.72 %) cold items.\n",
      "Group 0, average p.len 0.00, min 0, max 0\n",
      "EvaluatorHoldout: Ignoring 29366 Users\n",
      "EvaluatorHoldout: Processed 223 ( 100.00% ) in 0.13 sec. Users per second: 1677\n",
      "EvaluatorHoldout: Processed 223 ( 100.00% ) in 0.18 sec. Users per second: 1222\n",
      "EvaluatorHoldout: Processed 223 ( 100.00% ) in 0.49 sec. Users per second: 456\n",
      "Group 1, average p.len 0.00, min 0, max 0\n",
      "EvaluatorHoldout: Ignoring 29366 Users\n",
      "EvaluatorHoldout: Processed 237 ( 100.00% ) in 0.55 sec. Users per second: 434\n",
      "EvaluatorHoldout: Processed 237 ( 100.00% ) in 0.26 sec. Users per second: 915\n",
      "EvaluatorHoldout: Processed 237 ( 100.00% ) in 0.71 sec. Users per second: 336\n",
      "Group 2, average p.len 0.19, min 0, max 1\n",
      "EvaluatorHoldout: Ignoring 29366 Users\n",
      "EvaluatorHoldout: Processed 298 ( 100.00% ) in 0.57 sec. Users per second: 526\n",
      "EvaluatorHoldout: Processed 298 ( 100.00% ) in 0.70 sec. Users per second: 428\n",
      "EvaluatorHoldout: Processed 298 ( 100.00% ) in 0.29 sec. Users per second: 1024\n",
      "Group 3, average p.len 1.00, min 1, max 1\n",
      "EvaluatorHoldout: Ignoring 29366 Users\n",
      "EvaluatorHoldout: Processed 416 ( 100.00% ) in 0.61 sec. Users per second: 686\n",
      "EvaluatorHoldout: Processed 416 ( 100.00% ) in 0.73 sec. Users per second: 571\n",
      "EvaluatorHoldout: Processed 416 ( 100.00% ) in 0.66 sec. Users per second: 628\n",
      "Group 4, average p.len 1.22, min 1, max 2\n",
      "EvaluatorHoldout: Ignoring 29366 Users\n",
      "EvaluatorHoldout: Processed 459 ( 100.00% ) in 0.64 sec. Users per second: 722\n",
      "EvaluatorHoldout: Processed 459 ( 100.00% ) in 0.78 sec. Users per second: 588\n",
      "EvaluatorHoldout: Processed 459 ( 100.00% ) in 0.69 sec. Users per second: 661\n",
      "Group 5, average p.len 2.00, min 2, max 2\n",
      "EvaluatorHoldout: Ignoring 29366 Users\n",
      "EvaluatorHoldout: Processed 693 ( 100.00% ) in 0.88 sec. Users per second: 787\n",
      "EvaluatorHoldout: Processed 693 ( 100.00% ) in 0.97 sec. Users per second: 716\n",
      "EvaluatorHoldout: Processed 693 ( 100.00% ) in 0.87 sec. Users per second: 796\n",
      "Group 6, average p.len 2.76, min 2, max 3\n",
      "EvaluatorHoldout: Ignoring 29366 Users\n",
      "EvaluatorHoldout: Processed 847 ( 100.00% ) in 0.89 sec. Users per second: 948\n",
      "EvaluatorHoldout: Processed 847 ( 100.00% ) in 1.02 sec. Users per second: 834\n",
      "EvaluatorHoldout: Processed 847 ( 100.00% ) in 0.85 sec. Users per second: 1000\n",
      "Group 7, average p.len 3.43, min 3, max 4\n",
      "EvaluatorHoldout: Ignoring 29366 Users\n",
      "EvaluatorHoldout: Processed 883 ( 100.00% ) in 0.91 sec. Users per second: 973\n",
      "EvaluatorHoldout: Processed 883 ( 100.00% ) in 1.04 sec. Users per second: 853\n",
      "EvaluatorHoldout: Processed 883 ( 100.00% ) in 1.43 sec. Users per second: 619\n",
      "Group 8, average p.len 4.21, min 4, max 5\n",
      "EvaluatorHoldout: Ignoring 29366 Users\n",
      "EvaluatorHoldout: Processed 1002 ( 100.00% ) in 0.94 sec. Users per second: 1064\n",
      "EvaluatorHoldout: Processed 1002 ( 100.00% ) in 1.18 sec. Users per second: 851\n",
      "EvaluatorHoldout: Processed 1002 ( 100.00% ) in 1.08 sec. Users per second: 924\n",
      "Group 9, average p.len 5.17, min 5, max 6\n",
      "EvaluatorHoldout: Ignoring 29366 Users\n",
      "EvaluatorHoldout: Processed 1100 ( 100.00% ) in 1.08 sec. Users per second: 1017\n",
      "EvaluatorHoldout: Processed 1100 ( 100.00% ) in 1.31 sec. Users per second: 839\n",
      "EvaluatorHoldout: Processed 1100 ( 100.00% ) in 1.04 sec. Users per second: 1056\n",
      "Group 10, average p.len 6.20, min 6, max 7\n",
      "EvaluatorHoldout: Ignoring 29366 Users\n",
      "EvaluatorHoldout: Processed 1176 ( 100.00% ) in 1.03 sec. Users per second: 1141\n",
      "EvaluatorHoldout: Processed 1176 ( 100.00% ) in 1.26 sec. Users per second: 932\n",
      "EvaluatorHoldout: Processed 1176 ( 100.00% ) in 1.10 sec. Users per second: 1070\n",
      "Group 11, average p.len 7.37, min 7, max 8\n",
      "EvaluatorHoldout: Ignoring 29366 Users\n",
      "EvaluatorHoldout: Processed 1270 ( 100.00% ) in 1.48 sec. Users per second: 855\n",
      "EvaluatorHoldout: Processed 1270 ( 100.00% ) in 1.64 sec. Users per second: 773\n",
      "EvaluatorHoldout: Processed 1270 ( 100.00% ) in 1.22 sec. Users per second: 1043\n",
      "Group 12, average p.len 8.68, min 8, max 10\n",
      "EvaluatorHoldout: Ignoring 29366 Users\n",
      "EvaluatorHoldout: Processed 1318 ( 100.00% ) in 1.53 sec. Users per second: 860\n",
      "EvaluatorHoldout: Processed 1318 ( 100.00% ) in 1.46 sec. Users per second: 903\n",
      "EvaluatorHoldout: Processed 1318 ( 100.00% ) in 1.28 sec. Users per second: 1032\n",
      "Group 13, average p.len 10.43, min 10, max 11\n",
      "EvaluatorHoldout: Ignoring 29366 Users\n",
      "EvaluatorHoldout: Processed 1386 ( 100.00% ) in 1.16 sec. Users per second: 1190\n",
      "EvaluatorHoldout: Processed 1386 ( 100.00% ) in 1.44 sec. Users per second: 966\n",
      "EvaluatorHoldout: Processed 1386 ( 100.00% ) in 1.37 sec. Users per second: 1015\n",
      "Group 14, average p.len 12.38, min 11, max 14\n",
      "EvaluatorHoldout: Ignoring 29366 Users\n",
      "EvaluatorHoldout: Processed 1457 ( 100.00% ) in 1.23 sec. Users per second: 1183\n",
      "EvaluatorHoldout: Processed 1457 ( 100.00% ) in 1.56 sec. Users per second: 934\n",
      "EvaluatorHoldout: Processed 1457 ( 100.00% ) in 1.18 sec. Users per second: 1235\n",
      "Group 15, average p.len 14.87, min 14, max 16\n",
      "EvaluatorHoldout: Ignoring 29366 Users\n",
      "EvaluatorHoldout: Processed 1487 ( 100.00% ) in 1.12 sec. Users per second: 1324\n",
      "EvaluatorHoldout: Processed 1487 ( 100.00% ) in 1.47 sec. Users per second: 1012\n",
      "EvaluatorHoldout: Processed 1487 ( 100.00% ) in 1.24 sec. Users per second: 1203\n",
      "Group 16, average p.len 17.99, min 16, max 20\n",
      "EvaluatorHoldout: Ignoring 29366 Users\n",
      "EvaluatorHoldout: Processed 1510 ( 100.00% ) in 1.23 sec. Users per second: 1228\n",
      "EvaluatorHoldout: Processed 1510 ( 100.00% ) in 1.53 sec. Users per second: 984\n",
      "EvaluatorHoldout: Processed 1510 ( 100.00% ) in 1.28 sec. Users per second: 1182\n",
      "Group 17, average p.len 22.70, min 20, max 26\n",
      "EvaluatorHoldout: Ignoring 29366 Users\n",
      "EvaluatorHoldout: Processed 1535 ( 100.00% ) in 1.42 sec. Users per second: 1079\n",
      "EvaluatorHoldout: Processed 1535 ( 100.00% ) in 1.48 sec. Users per second: 1036\n",
      "EvaluatorHoldout: Processed 1535 ( 100.00% ) in 1.26 sec. Users per second: 1217\n",
      "Group 18, average p.len 30.13, min 26, max 36\n",
      "EvaluatorHoldout: Ignoring 29366 Users\n",
      "EvaluatorHoldout: Processed 1542 ( 100.00% ) in 1.21 sec. Users per second: 1272\n",
      "EvaluatorHoldout: Processed 1542 ( 100.00% ) in 1.49 sec. Users per second: 1032\n",
      "EvaluatorHoldout: Processed 1542 ( 100.00% ) in 1.35 sec. Users per second: 1142\n",
      "Group 19, average p.len 53.41, min 36, max 196\n",
      "EvaluatorHoldout: Ignoring 29366 Users\n",
      "EvaluatorHoldout: Processed 1545 ( 100.00% ) in 1.36 sec. Users per second: 1135\n",
      "EvaluatorHoldout: Processed 1545 ( 100.00% ) in 1.54 sec. Users per second: 1000\n",
      "EvaluatorHoldout: Processed 1545 ( 100.00% ) in 1.29 sec. Users per second: 1193\n"
     ],
     "output_type": "stream"
    },
    {
     "data": {
      "text/plain": "<Figure size 432x288 with 1 Axes>",
      "image/png": "[encoded data removed]"
     },
     "metadata": {
      "needs_background": "light"
     },
     "output_type": "display_data"
    }
   ],
   "source": [
    "## TEST & VISUALIZE DIFFERENT RECSYS PERFORMANCE BASED ON N° OF INTERACTIONS HELD BY USERS\n",
    "# Please, fill empty list with pretrained recommenders you want to compare\n",
    "recommendersToCompare = [itemKNN]\n",
    "if eval:\n",
    "    from RecLib.PerUserGroupTesting import *\n",
    "    compare(URM_train, URM_test, recommendersToCompare)"
   ]
  },
  {
   "cell_type": "code",
   "execution_count": 10,
   "metadata": {
    "colab": {},
    "colab_type": "code",
    "id": "rYQRvvikMJVN",
    "pycharm": {
     "is_executing": false
    }
   },
   "outputs": [],
   "source": [
    "## Predict\n",
    "## SET WHICH RECOMMENDER YOU WANNA USE\n",
    "final_Rec = itemKNN\n",
    "if not eval:\n",
    "    output = []\n",
    "    for user_id in target_users:\n",
    "        output.append((user_id, final_Rec.recommend(user_id, cutoff=10)))"
   ]
  },
  {
   "cell_type": "code",
   "execution_count": 11,
   "metadata": {
    "colab": {},
    "colab_type": "code",
    "id": "o5TyQsg9TAwz",
    "pycharm": {
     "is_executing": false
    }
   },
   "outputs": [],
   "source": [
    "#Writedown results\n",
    "if not eval:\n",
    "    with open('submission.csv', 'w', newline='') as file:\n",
    "        writer = csv.writer(file)\n",
    "        writer.writerow([\"user_id\", \"item_list\"])\n",
    "        for row in output:\n",
    "          ranking = ''\n",
    "          for val in row[1]:\n",
    "            ranking = ranking + str(val) + ' '\n",
    "          writer.writerow([row[0], ranking[:-1]])"
   ]
  }
 ],
 "metadata": {
  "accelerator": "GPU",
  "colab": {
   "name": "sacajrota.ipynb",
   "provenance": []
  },
  "kernelspec": {
   "display_name": "Python 3",
   "language": "python",
   "name": "python3"
  },
  "language_info": {
   "codemirror_mode": {
    "name": "ipython",
    "version": 3
   },
   "file_extension": ".py",
   "mimetype": "text/x-python",
   "name": "python",
   "nbconvert_exporter": "python",
   "pygments_lexer": "ipython3",
   "version": "3.7.4"
  },
  "pycharm": {
   "stem_cell": {
    "cell_type": "raw",
    "source": [],
    "metadata": {
     "collapsed": false
    }
   }
  }
 },
 "nbformat": 4,
 "nbformat_minor": 1
}