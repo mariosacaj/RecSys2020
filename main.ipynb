{
 "cells": [
  {
   "cell_type": "code",
   "execution_count": 11,
   "metadata": {
    "_cell_guid": "b1076dfc-b9ad-4769-8c92-a6c4dae69d19",
    "_uuid": "8f2839f25d086af736a60e9eeb907d3b93b6e0e5",
    "colab": {},
    "colab_type": "code",
    "id": "7Ifkd08Lq3wR",
    "pycharm": {
     "is_executing": false
    }
   },
   "outputs": [],
   "source": [
    "# This Python 3 environment comes with many helpful analytics libraries installed\n",
    "# It is defined by the kaggle/python docker image: https://github.com/kaggle/docker-python\n",
    "# For example, here's several helpful packages to load in \n",
    "import numpy as np # linear algebra\n",
    "import pandas as pd # data processing, CSV file I/O (e.g. pd.read_csv)\n",
    "import csv\n",
    "import scipy as sp\n",
    "import scipy.sparse as sps\n",
    "from scipy.sparse import coo_matrix\n",
    "import os\n",
    "import matplotlib.pyplot as pyplot\n",
    "%matplotlib inline \n",
    "\n",
    "\n",
    "## Evaluation or scoring?\n",
    "eval = True"
   ]
  },
  {
   "cell_type": "code",
   "execution_count": 12,
   "metadata": {
    "colab": {},
    "colab_type": "code",
    "id": "6mDejDEXq3wW",
    "pycharm": {
     "is_executing": false
    }
   },
   "outputs": [
    {
     "name": "stdout",
     "output_type": "stream",
     "text": [
      "data_UCM_age.csv\n",
      "user data, ID: min 2, max 30909, length 30317, unique 30317, repetitions 0, missig 1.91 %\n",
      "age data, ID: min 1, max 10, length 30317, unique 10, repetitions 30307, missig 0.00 %\n",
      "\n",
      "data_ICM_sub_class.csv\n",
      "item data, ID: min 0, max 18494, length 18495, unique 18495, repetitions 0, missig 0.00 %\n",
      "subclass data, ID: min 1, max 2010, length 18495, unique 1905, repetitions 16590, missig 5.18 %\n",
      "\n",
      "data_ICM_asset.csv\n",
      "item data, ID: min 0, max 18494, length 18490, unique 18490, repetitions 0, missig 0.02 %\n",
      "asset data, ID: min 0, max 0, length 18490, unique 1, repetitions 18489, missig 0.00 %\n",
      "\n",
      "data_ICM_price.csv\n",
      "item data, ID: min 0, max 18494, length 18493, unique 18493, repetitions 0, missig 0.01 %\n",
      "price data, ID: min 0, max 0, length 18493, unique 1, repetitions 18492, missig 0.00 %\n",
      "\n",
      "data_UCM_region.csv\n",
      "user data, ID: min 0, max 30910, length 26609, unique 26375, repetitions 234, missig 14.67 %\n",
      "region data, ID: min 0, max 7, length 26609, unique 7, repetitions 26602, missig 0.00 %\n",
      "\n",
      "data_train.csv\n",
      "user data, ID: min 0, max 30910, length 398636, unique 27255, repetitions 371381, missig 11.82 %\n",
      "item data, ID: min 0, max 18494, length 398636, unique 15277, repetitions 383359, missig 17.39 %\n",
      "\n"
     ]
    }
   ],
   "source": [
    "from RecLib.DataLoad import *\n",
    "# Loading from CSV files...\n",
    "UCM_age = toCoo('data_UCM_age.csv', 'user', 'age')\n",
    "ICM_subclass = toCoo('data_ICM_sub_class.csv', 'item', 'subclass')\n",
    "ICM_asset = toCoo('data_ICM_asset.csv', 'item', 'asset')\n",
    "ICM_price = toCoo('data_ICM_price.csv', 'item', 'price')\n",
    "UCM_region = toCoo('data_UCM_region.csv', 'user', 'region')\n",
    "target_users = toNPArray('data_target_users_test.csv')\n",
    "URM = toCoo('data_train.csv', 'user', 'item')"
   ]
  },
  {
   "cell_type": "code",
   "execution_count": 13,
   "metadata": {
    "colab": {},
    "colab_type": "code",
    "id": "m4FzKl-xq3wc",
    "pycharm": {
     "is_executing": false
    }
   },
   "outputs": [],
   "source": [
    "URM = URM.tocsr()"
   ]
  },
  {
   "cell_type": "code",
   "execution_count": 14,
   "metadata": {
    "colab": {},
    "colab_type": "code",
    "id": "aODXsh3XsyJA",
    "pycharm": {
     "is_executing": false
    }
   },
   "outputs": [],
   "source": [
    "## Split dataset (train % of .9999 gives similar performance on test set and competition set)\n",
    "from Notebooks_utils.data_splitter import train_test_holdout\n",
    "URM_train, URM_test = train_test_holdout(URM, train_perc = 0.8)\n",
    "\n",
    "\n",
    "if not eval:\n",
    "    URM_train = URM\n",
    "else:\n",
    "    from Base.Evaluation.Evaluator import EvaluatorHoldout\n",
    "    evaluator_validation = EvaluatorHoldout(URM_test, cutoff_list=[10])"
   ]
  },
  {
   "cell_type": "code",
   "execution_count": 15,
   "metadata": {
    "pycharm": {
     "is_executing": false,
     "name": "#%%\n"
    }
   },
   "outputs": [
    {
     "name": "stdout",
     "output_type": "stream",
     "text": [
      "Unable to read memory status: list index out of range\n",
      "SLIM_BPR_Recommender: Epoch 1 of 300. Elapsed time 0.21 sec\n",
      "SLIM_BPR_Recommender: Epoch 2 of 300. Elapsed time 0.33 sec\n",
      "SLIM_BPR_Recommender: Epoch 3 of 300. Elapsed time 0.43 sec\n",
      "SLIM_BPR_Recommender: Epoch 4 of 300. Elapsed time 0.51 sec\n",
      "SLIM_BPR_Recommender: Epoch 5 of 300. Elapsed time 0.58 sec\n",
      "SLIM_BPR_Recommender: Epoch 6 of 300. Elapsed time 0.66 sec\n",
      "SLIM_BPR_Recommender: Epoch 7 of 300. Elapsed time 0.73 sec\n",
      "SLIM_BPR_Recommender: Epoch 8 of 300. Elapsed time 0.80 sec\n",
      "SLIM_BPR_Recommender: Epoch 9 of 300. Elapsed time 0.86 sec\n",
      "SLIM_BPR_Recommender: Epoch 10 of 300. Elapsed time 0.94 sec\n",
      "SLIM_BPR_Recommender: Epoch 11 of 300. Elapsed time 1.00 sec\n",
      "SLIM_BPR_Recommender: Epoch 12 of 300. Elapsed time 1.07 sec\n",
      "SLIM_BPR_Recommender: Epoch 13 of 300. Elapsed time 1.14 sec\n",
      "SLIM_BPR_Recommender: Epoch 14 of 300. Elapsed time 1.20 sec\n",
      "SLIM_BPR_Recommender: Epoch 15 of 300. Elapsed time 1.27 sec\n",
      "SLIM_BPR_Recommender: Epoch 16 of 300. Elapsed time 1.33 sec\n",
      "SLIM_BPR_Recommender: Epoch 17 of 300. Elapsed time 1.40 sec\n",
      "SLIM_BPR_Recommender: Epoch 18 of 300. Elapsed time 1.47 sec\n",
      "SLIM_BPR_Recommender: Epoch 19 of 300. Elapsed time 1.53 sec\n",
      "SLIM_BPR_Recommender: Epoch 20 of 300. Elapsed time 1.60 sec\n",
      "SLIM_BPR_Recommender: Epoch 21 of 300. Elapsed time 1.66 sec\n",
      "SLIM_BPR_Recommender: Epoch 22 of 300. Elapsed time 1.73 sec\n",
      "SLIM_BPR_Recommender: Epoch 23 of 300. Elapsed time 1.80 sec\n",
      "SLIM_BPR_Recommender: Epoch 24 of 300. Elapsed time 1.87 sec\n",
      "SLIM_BPR_Recommender: Epoch 25 of 300. Elapsed time 1.93 sec\n",
      "SLIM_BPR_Recommender: Epoch 26 of 300. Elapsed time 2.00 sec\n",
      "SLIM_BPR_Recommender: Epoch 27 of 300. Elapsed time 2.06 sec\n",
      "SLIM_BPR_Recommender: Epoch 28 of 300. Elapsed time 2.13 sec\n",
      "SLIM_BPR_Recommender: Epoch 29 of 300. Elapsed time 2.20 sec\n",
      "SLIM_BPR_Recommender: Epoch 30 of 300. Elapsed time 2.26 sec\n",
      "SLIM_BPR_Recommender: Epoch 31 of 300. Elapsed time 2.34 sec\n",
      "SLIM_BPR_Recommender: Epoch 32 of 300. Elapsed time 2.43 sec\n",
      "SLIM_BPR_Recommender: Epoch 33 of 300. Elapsed time 2.51 sec\n",
      "SLIM_BPR_Recommender: Epoch 34 of 300. Elapsed time 2.57 sec\n",
      "SLIM_BPR_Recommender: Epoch 35 of 300. Elapsed time 2.64 sec\n",
      "SLIM_BPR_Recommender: Epoch 36 of 300. Elapsed time 2.71 sec\n",
      "SLIM_BPR_Recommender: Epoch 37 of 300. Elapsed time 2.77 sec\n",
      "SLIM_BPR_Recommender: Epoch 38 of 300. Elapsed time 2.84 sec\n",
      "SLIM_BPR_Recommender: Epoch 39 of 300. Elapsed time 2.90 sec\n",
      "SLIM_BPR_Recommender: Epoch 40 of 300. Elapsed time 2.97 sec\n",
      "SLIM_BPR_Recommender: Epoch 41 of 300. Elapsed time 3.03 sec\n",
      "SLIM_BPR_Recommender: Epoch 42 of 300. Elapsed time 3.10 sec\n",
      "SLIM_BPR_Recommender: Epoch 43 of 300. Elapsed time 3.16 sec\n",
      "SLIM_BPR_Recommender: Epoch 44 of 300. Elapsed time 3.23 sec\n",
      "SLIM_BPR_Recommender: Epoch 45 of 300. Elapsed time 3.29 sec\n",
      "SLIM_BPR_Recommender: Epoch 46 of 300. Elapsed time 3.36 sec\n",
      "SLIM_BPR_Recommender: Epoch 47 of 300. Elapsed time 3.42 sec\n",
      "SLIM_BPR_Recommender: Epoch 48 of 300. Elapsed time 3.49 sec\n",
      "SLIM_BPR_Recommender: Epoch 49 of 300. Elapsed time 3.55 sec\n",
      "SLIM_BPR_Recommender: Epoch 50 of 300. Elapsed time 3.62 sec\n",
      "SLIM_BPR_Recommender: Epoch 51 of 300. Elapsed time 3.68 sec\n",
      "SLIM_BPR_Recommender: Epoch 52 of 300. Elapsed time 3.75 sec\n",
      "SLIM_BPR_Recommender: Epoch 53 of 300. Elapsed time 3.81 sec\n",
      "SLIM_BPR_Recommender: Epoch 54 of 300. Elapsed time 3.88 sec\n",
      "SLIM_BPR_Recommender: Epoch 55 of 300. Elapsed time 3.94 sec\n",
      "SLIM_BPR_Recommender: Epoch 56 of 300. Elapsed time 4.01 sec\n",
      "SLIM_BPR_Recommender: Epoch 57 of 300. Elapsed time 4.07 sec\n",
      "SLIM_BPR_Recommender: Epoch 58 of 300. Elapsed time 4.13 sec\n",
      "SLIM_BPR_Recommender: Epoch 59 of 300. Elapsed time 4.20 sec\n",
      "SLIM_BPR_Recommender: Epoch 60 of 300. Elapsed time 4.26 sec\n",
      "SLIM_BPR_Recommender: Epoch 61 of 300. Elapsed time 4.33 sec\n",
      "SLIM_BPR_Recommender: Epoch 62 of 300. Elapsed time 4.39 sec\n",
      "SLIM_BPR_Recommender: Epoch 63 of 300. Elapsed time 4.46 sec\n",
      "SLIM_BPR_Recommender: Epoch 64 of 300. Elapsed time 4.52 sec\n",
      "SLIM_BPR_Recommender: Epoch 65 of 300. Elapsed time 4.59 sec\n",
      "SLIM_BPR_Recommender: Epoch 66 of 300. Elapsed time 4.65 sec\n",
      "SLIM_BPR_Recommender: Epoch 67 of 300. Elapsed time 4.71 sec\n",
      "SLIM_BPR_Recommender: Epoch 68 of 300. Elapsed time 4.78 sec\n",
      "SLIM_BPR_Recommender: Epoch 69 of 300. Elapsed time 4.85 sec\n",
      "SLIM_BPR_Recommender: Epoch 70 of 300. Elapsed time 4.91 sec\n",
      "SLIM_BPR_Recommender: Epoch 71 of 300. Elapsed time 4.97 sec\n",
      "SLIM_BPR_Recommender: Epoch 72 of 300. Elapsed time 5.04 sec\n",
      "SLIM_BPR_Recommender: Epoch 73 of 300. Elapsed time 5.10 sec\n",
      "SLIM_BPR_Recommender: Epoch 74 of 300. Elapsed time 5.17 sec\n",
      "SLIM_BPR_Recommender: Epoch 75 of 300. Elapsed time 5.23 sec\n",
      "SLIM_BPR_Recommender: Epoch 76 of 300. Elapsed time 5.29 sec\n",
      "SLIM_BPR_Recommender: Epoch 77 of 300. Elapsed time 5.36 sec\n",
      "SLIM_BPR_Recommender: Epoch 78 of 300. Elapsed time 5.42 sec\n",
      "SLIM_BPR_Recommender: Epoch 79 of 300. Elapsed time 5.49 sec\n",
      "SLIM_BPR_Recommender: Epoch 80 of 300. Elapsed time 5.55 sec\n",
      "SLIM_BPR_Recommender: Epoch 81 of 300. Elapsed time 5.62 sec\n",
      "SLIM_BPR_Recommender: Epoch 82 of 300. Elapsed time 5.68 sec\n",
      "SLIM_BPR_Recommender: Epoch 83 of 300. Elapsed time 5.75 sec\n",
      "SLIM_BPR_Recommender: Epoch 84 of 300. Elapsed time 5.81 sec\n",
      "SLIM_BPR_Recommender: Epoch 85 of 300. Elapsed time 5.88 sec\n",
      "SLIM_BPR_Recommender: Epoch 86 of 300. Elapsed time 5.94 sec\n",
      "SLIM_BPR_Recommender: Epoch 87 of 300. Elapsed time 6.00 sec\n",
      "SLIM_BPR_Recommender: Epoch 88 of 300. Elapsed time 6.07 sec\n",
      "SLIM_BPR_Recommender: Epoch 89 of 300. Elapsed time 6.13 sec\n",
      "SLIM_BPR_Recommender: Epoch 90 of 300. Elapsed time 6.19 sec\n",
      "SLIM_BPR_Recommender: Epoch 91 of 300. Elapsed time 6.26 sec\n",
      "SLIM_BPR_Recommender: Epoch 92 of 300. Elapsed time 6.32 sec\n",
      "SLIM_BPR_Recommender: Epoch 93 of 300. Elapsed time 6.39 sec\n",
      "SLIM_BPR_Recommender: Epoch 94 of 300. Elapsed time 6.45 sec\n",
      "SLIM_BPR_Recommender: Epoch 95 of 300. Elapsed time 6.51 sec\n",
      "SLIM_BPR_Recommender: Epoch 96 of 300. Elapsed time 6.58 sec\n",
      "SLIM_BPR_Recommender: Epoch 97 of 300. Elapsed time 6.65 sec\n",
      "SLIM_BPR_Recommender: Epoch 98 of 300. Elapsed time 6.71 sec\n",
      "SLIM_BPR_Recommender: Epoch 99 of 300. Elapsed time 6.78 sec\n",
      "SLIM_BPR_Recommender: Epoch 100 of 300. Elapsed time 6.84 sec\n",
      "SLIM_BPR_Recommender: Epoch 101 of 300. Elapsed time 6.91 sec\n",
      "SLIM_BPR_Recommender: Epoch 102 of 300. Elapsed time 6.97 sec\n",
      "SLIM_BPR_Recommender: Epoch 103 of 300. Elapsed time 7.04 sec\n",
      "SLIM_BPR_Recommender: Epoch 104 of 300. Elapsed time 7.10 sec\n",
      "SLIM_BPR_Recommender: Epoch 105 of 300. Elapsed time 7.16 sec\n",
      "SLIM_BPR_Recommender: Epoch 106 of 300. Elapsed time 7.23 sec\n",
      "SLIM_BPR_Recommender: Epoch 107 of 300. Elapsed time 7.29 sec\n",
      "SLIM_BPR_Recommender: Epoch 108 of 300. Elapsed time 7.35 sec\n",
      "SLIM_BPR_Recommender: Epoch 109 of 300. Elapsed time 7.41 sec\n",
      "SLIM_BPR_Recommender: Epoch 110 of 300. Elapsed time 7.47 sec\n",
      "SLIM_BPR_Recommender: Epoch 111 of 300. Elapsed time 7.53 sec\n",
      "SLIM_BPR_Recommender: Epoch 112 of 300. Elapsed time 7.60 sec\n",
      "SLIM_BPR_Recommender: Epoch 113 of 300. Elapsed time 7.66 sec\n",
      "SLIM_BPR_Recommender: Epoch 114 of 300. Elapsed time 7.72 sec\n",
      "SLIM_BPR_Recommender: Epoch 115 of 300. Elapsed time 7.78 sec\n",
      "SLIM_BPR_Recommender: Epoch 116 of 300. Elapsed time 7.85 sec\n",
      "SLIM_BPR_Recommender: Epoch 117 of 300. Elapsed time 7.91 sec\n",
      "SLIM_BPR_Recommender: Epoch 118 of 300. Elapsed time 7.97 sec\n",
      "SLIM_BPR_Recommender: Epoch 119 of 300. Elapsed time 8.03 sec\n",
      "SLIM_BPR_Recommender: Epoch 120 of 300. Elapsed time 8.09 sec\n",
      "SLIM_BPR_Recommender: Epoch 121 of 300. Elapsed time 8.15 sec\n",
      "SLIM_BPR_Recommender: Epoch 122 of 300. Elapsed time 8.21 sec\n",
      "SLIM_BPR_Recommender: Epoch 123 of 300. Elapsed time 8.27 sec\n",
      "SLIM_BPR_Recommender: Epoch 124 of 300. Elapsed time 8.33 sec\n",
      "SLIM_BPR_Recommender: Epoch 125 of 300. Elapsed time 8.39 sec\n",
      "SLIM_BPR_Recommender: Epoch 126 of 300. Elapsed time 8.45 sec\n",
      "SLIM_BPR_Recommender: Epoch 127 of 300. Elapsed time 8.52 sec\n",
      "SLIM_BPR_Recommender: Epoch 128 of 300. Elapsed time 8.58 sec\n",
      "SLIM_BPR_Recommender: Epoch 129 of 300. Elapsed time 8.64 sec\n",
      "SLIM_BPR_Recommender: Epoch 130 of 300. Elapsed time 8.71 sec\n",
      "SLIM_BPR_Recommender: Epoch 131 of 300. Elapsed time 8.77 sec\n",
      "SLIM_BPR_Recommender: Epoch 132 of 300. Elapsed time 8.82 sec\n",
      "SLIM_BPR_Recommender: Epoch 133 of 300. Elapsed time 8.88 sec\n",
      "SLIM_BPR_Recommender: Epoch 134 of 300. Elapsed time 8.94 sec\n"
     ]
    },
    {
     "name": "stdout",
     "output_type": "stream",
     "text": [
      "SLIM_BPR_Recommender: Epoch 135 of 300. Elapsed time 9.01 sec\n",
      "SLIM_BPR_Recommender: Epoch 136 of 300. Elapsed time 9.07 sec\n",
      "SLIM_BPR_Recommender: Epoch 137 of 300. Elapsed time 9.13 sec\n",
      "SLIM_BPR_Recommender: Epoch 138 of 300. Elapsed time 9.19 sec\n",
      "SLIM_BPR_Recommender: Epoch 139 of 300. Elapsed time 9.25 sec\n",
      "SLIM_BPR_Recommender: Epoch 140 of 300. Elapsed time 9.31 sec\n",
      "SLIM_BPR_Recommender: Epoch 141 of 300. Elapsed time 9.37 sec\n",
      "SLIM_BPR_Recommender: Epoch 142 of 300. Elapsed time 9.43 sec\n",
      "SLIM_BPR_Recommender: Epoch 143 of 300. Elapsed time 9.49 sec\n",
      "SLIM_BPR_Recommender: Epoch 144 of 300. Elapsed time 9.55 sec\n",
      "SLIM_BPR_Recommender: Epoch 145 of 300. Elapsed time 9.61 sec\n",
      "SLIM_BPR_Recommender: Epoch 146 of 300. Elapsed time 9.67 sec\n",
      "SLIM_BPR_Recommender: Epoch 147 of 300. Elapsed time 9.73 sec\n",
      "SLIM_BPR_Recommender: Epoch 148 of 300. Elapsed time 9.79 sec\n",
      "SLIM_BPR_Recommender: Epoch 149 of 300. Elapsed time 9.85 sec\n",
      "SLIM_BPR_Recommender: Epoch 150 of 300. Elapsed time 9.91 sec\n",
      "SLIM_BPR_Recommender: Epoch 151 of 300. Elapsed time 9.97 sec\n",
      "SLIM_BPR_Recommender: Epoch 152 of 300. Elapsed time 10.04 sec\n",
      "SLIM_BPR_Recommender: Epoch 153 of 300. Elapsed time 10.10 sec\n",
      "SLIM_BPR_Recommender: Epoch 154 of 300. Elapsed time 10.16 sec\n",
      "SLIM_BPR_Recommender: Epoch 155 of 300. Elapsed time 10.22 sec\n",
      "SLIM_BPR_Recommender: Epoch 156 of 300. Elapsed time 10.28 sec\n",
      "SLIM_BPR_Recommender: Epoch 157 of 300. Elapsed time 10.34 sec\n",
      "SLIM_BPR_Recommender: Epoch 158 of 300. Elapsed time 10.40 sec\n",
      "SLIM_BPR_Recommender: Epoch 159 of 300. Elapsed time 10.46 sec\n",
      "SLIM_BPR_Recommender: Epoch 160 of 300. Elapsed time 10.52 sec\n",
      "SLIM_BPR_Recommender: Epoch 161 of 300. Elapsed time 10.58 sec\n",
      "SLIM_BPR_Recommender: Epoch 162 of 300. Elapsed time 10.64 sec\n",
      "SLIM_BPR_Recommender: Epoch 163 of 300. Elapsed time 10.69 sec\n",
      "SLIM_BPR_Recommender: Epoch 164 of 300. Elapsed time 10.76 sec\n",
      "SLIM_BPR_Recommender: Epoch 165 of 300. Elapsed time 10.82 sec\n",
      "SLIM_BPR_Recommender: Epoch 166 of 300. Elapsed time 10.88 sec\n",
      "SLIM_BPR_Recommender: Epoch 167 of 300. Elapsed time 10.94 sec\n",
      "SLIM_BPR_Recommender: Epoch 168 of 300. Elapsed time 11.00 sec\n",
      "SLIM_BPR_Recommender: Epoch 169 of 300. Elapsed time 11.06 sec\n",
      "SLIM_BPR_Recommender: Epoch 170 of 300. Elapsed time 11.12 sec\n",
      "SLIM_BPR_Recommender: Epoch 171 of 300. Elapsed time 11.18 sec\n",
      "SLIM_BPR_Recommender: Epoch 172 of 300. Elapsed time 11.24 sec\n",
      "SLIM_BPR_Recommender: Epoch 173 of 300. Elapsed time 11.30 sec\n",
      "SLIM_BPR_Recommender: Epoch 174 of 300. Elapsed time 11.36 sec\n",
      "SLIM_BPR_Recommender: Epoch 175 of 300. Elapsed time 11.43 sec\n",
      "SLIM_BPR_Recommender: Epoch 176 of 300. Elapsed time 11.49 sec\n",
      "SLIM_BPR_Recommender: Epoch 177 of 300. Elapsed time 11.55 sec\n",
      "SLIM_BPR_Recommender: Epoch 178 of 300. Elapsed time 11.61 sec\n",
      "SLIM_BPR_Recommender: Epoch 179 of 300. Elapsed time 11.66 sec\n",
      "SLIM_BPR_Recommender: Epoch 180 of 300. Elapsed time 11.72 sec\n",
      "SLIM_BPR_Recommender: Epoch 181 of 300. Elapsed time 11.79 sec\n",
      "SLIM_BPR_Recommender: Epoch 182 of 300. Elapsed time 11.85 sec\n",
      "SLIM_BPR_Recommender: Epoch 183 of 300. Elapsed time 11.91 sec\n",
      "SLIM_BPR_Recommender: Epoch 184 of 300. Elapsed time 11.97 sec\n",
      "SLIM_BPR_Recommender: Epoch 185 of 300. Elapsed time 12.03 sec\n",
      "SLIM_BPR_Recommender: Epoch 186 of 300. Elapsed time 12.09 sec\n",
      "SLIM_BPR_Recommender: Epoch 187 of 300. Elapsed time 12.15 sec\n",
      "SLIM_BPR_Recommender: Epoch 188 of 300. Elapsed time 12.21 sec\n",
      "SLIM_BPR_Recommender: Epoch 189 of 300. Elapsed time 12.27 sec\n",
      "SLIM_BPR_Recommender: Epoch 190 of 300. Elapsed time 12.33 sec\n",
      "SLIM_BPR_Recommender: Epoch 191 of 300. Elapsed time 12.39 sec\n",
      "SLIM_BPR_Recommender: Epoch 192 of 300. Elapsed time 12.45 sec\n",
      "SLIM_BPR_Recommender: Epoch 193 of 300. Elapsed time 12.51 sec\n",
      "SLIM_BPR_Recommender: Epoch 194 of 300. Elapsed time 12.58 sec\n",
      "SLIM_BPR_Recommender: Epoch 195 of 300. Elapsed time 12.63 sec\n",
      "SLIM_BPR_Recommender: Epoch 196 of 300. Elapsed time 12.69 sec\n",
      "SLIM_BPR_Recommender: Epoch 197 of 300. Elapsed time 12.75 sec\n",
      "SLIM_BPR_Recommender: Epoch 198 of 300. Elapsed time 12.81 sec\n",
      "SLIM_BPR_Recommender: Epoch 199 of 300. Elapsed time 12.87 sec\n",
      "SLIM_BPR_Recommender: Epoch 200 of 300. Elapsed time 12.93 sec\n",
      "SLIM_BPR_Recommender: Epoch 201 of 300. Elapsed time 12.99 sec\n",
      "SLIM_BPR_Recommender: Epoch 202 of 300. Elapsed time 13.05 sec\n",
      "SLIM_BPR_Recommender: Epoch 203 of 300. Elapsed time 13.11 sec\n",
      "SLIM_BPR_Recommender: Epoch 204 of 300. Elapsed time 13.17 sec\n",
      "SLIM_BPR_Recommender: Epoch 205 of 300. Elapsed time 13.23 sec\n",
      "SLIM_BPR_Recommender: Epoch 206 of 300. Elapsed time 13.29 sec\n",
      "SLIM_BPR_Recommender: Epoch 207 of 300. Elapsed time 13.35 sec\n",
      "SLIM_BPR_Recommender: Epoch 208 of 300. Elapsed time 13.41 sec\n",
      "SLIM_BPR_Recommender: Epoch 209 of 300. Elapsed time 13.47 sec\n",
      "SLIM_BPR_Recommender: Epoch 210 of 300. Elapsed time 13.54 sec\n",
      "SLIM_BPR_Recommender: Epoch 211 of 300. Elapsed time 13.60 sec\n",
      "SLIM_BPR_Recommender: Epoch 212 of 300. Elapsed time 13.66 sec\n",
      "SLIM_BPR_Recommender: Epoch 213 of 300. Elapsed time 13.72 sec\n",
      "SLIM_BPR_Recommender: Epoch 214 of 300. Elapsed time 13.78 sec\n",
      "SLIM_BPR_Recommender: Epoch 215 of 300. Elapsed time 13.84 sec\n",
      "SLIM_BPR_Recommender: Epoch 216 of 300. Elapsed time 13.90 sec\n",
      "SLIM_BPR_Recommender: Epoch 217 of 300. Elapsed time 13.96 sec\n",
      "SLIM_BPR_Recommender: Epoch 218 of 300. Elapsed time 14.02 sec\n",
      "SLIM_BPR_Recommender: Epoch 219 of 300. Elapsed time 14.08 sec\n",
      "SLIM_BPR_Recommender: Epoch 220 of 300. Elapsed time 14.14 sec\n",
      "SLIM_BPR_Recommender: Epoch 221 of 300. Elapsed time 14.20 sec\n",
      "SLIM_BPR_Recommender: Epoch 222 of 300. Elapsed time 14.26 sec\n",
      "SLIM_BPR_Recommender: Epoch 223 of 300. Elapsed time 14.33 sec\n",
      "SLIM_BPR_Recommender: Epoch 224 of 300. Elapsed time 14.38 sec\n",
      "SLIM_BPR_Recommender: Epoch 225 of 300. Elapsed time 14.44 sec\n",
      "SLIM_BPR_Recommender: Epoch 226 of 300. Elapsed time 14.51 sec\n",
      "SLIM_BPR_Recommender: Epoch 227 of 300. Elapsed time 14.57 sec\n",
      "SLIM_BPR_Recommender: Epoch 228 of 300. Elapsed time 14.63 sec\n",
      "SLIM_BPR_Recommender: Epoch 229 of 300. Elapsed time 14.69 sec\n",
      "SLIM_BPR_Recommender: Epoch 230 of 300. Elapsed time 14.75 sec\n",
      "SLIM_BPR_Recommender: Epoch 231 of 300. Elapsed time 14.81 sec\n",
      "SLIM_BPR_Recommender: Epoch 232 of 300. Elapsed time 14.87 sec\n",
      "SLIM_BPR_Recommender: Epoch 233 of 300. Elapsed time 14.93 sec\n",
      "SLIM_BPR_Recommender: Epoch 234 of 300. Elapsed time 15.00 sec\n",
      "SLIM_BPR_Recommender: Epoch 235 of 300. Elapsed time 15.06 sec\n",
      "SLIM_BPR_Recommender: Epoch 236 of 300. Elapsed time 15.12 sec\n",
      "SLIM_BPR_Recommender: Epoch 237 of 300. Elapsed time 15.18 sec\n",
      "SLIM_BPR_Recommender: Epoch 238 of 300. Elapsed time 15.24 sec\n",
      "SLIM_BPR_Recommender: Epoch 239 of 300. Elapsed time 15.30 sec\n",
      "SLIM_BPR_Recommender: Epoch 240 of 300. Elapsed time 15.36 sec\n",
      "SLIM_BPR_Recommender: Epoch 241 of 300. Elapsed time 15.42 sec\n",
      "SLIM_BPR_Recommender: Epoch 242 of 300. Elapsed time 15.48 sec\n",
      "SLIM_BPR_Recommender: Epoch 243 of 300. Elapsed time 15.54 sec\n",
      "SLIM_BPR_Recommender: Epoch 244 of 300. Elapsed time 15.60 sec\n",
      "SLIM_BPR_Recommender: Epoch 245 of 300. Elapsed time 15.66 sec\n",
      "SLIM_BPR_Recommender: Epoch 246 of 300. Elapsed time 15.72 sec\n",
      "SLIM_BPR_Recommender: Epoch 247 of 300. Elapsed time 15.78 sec\n",
      "SLIM_BPR_Recommender: Epoch 248 of 300. Elapsed time 15.85 sec\n",
      "SLIM_BPR_Recommender: Epoch 249 of 300. Elapsed time 15.91 sec\n",
      "SLIM_BPR_Recommender: Epoch 250 of 300. Elapsed time 15.97 sec\n",
      "SLIM_BPR_Recommender: Epoch 251 of 300. Elapsed time 16.03 sec\n",
      "SLIM_BPR_Recommender: Epoch 252 of 300. Elapsed time 16.09 sec\n",
      "SLIM_BPR_Recommender: Epoch 253 of 300. Elapsed time 16.15 sec\n",
      "SLIM_BPR_Recommender: Epoch 254 of 300. Elapsed time 16.21 sec\n",
      "SLIM_BPR_Recommender: Epoch 255 of 300. Elapsed time 16.27 sec\n",
      "SLIM_BPR_Recommender: Epoch 256 of 300. Elapsed time 16.34 sec\n",
      "SLIM_BPR_Recommender: Epoch 257 of 300. Elapsed time 16.40 sec\n",
      "SLIM_BPR_Recommender: Epoch 258 of 300. Elapsed time 16.46 sec\n",
      "SLIM_BPR_Recommender: Epoch 259 of 300. Elapsed time 16.52 sec\n",
      "SLIM_BPR_Recommender: Epoch 260 of 300. Elapsed time 16.58 sec\n",
      "SLIM_BPR_Recommender: Epoch 261 of 300. Elapsed time 16.65 sec\n",
      "SLIM_BPR_Recommender: Epoch 262 of 300. Elapsed time 16.71 sec\n",
      "SLIM_BPR_Recommender: Epoch 263 of 300. Elapsed time 16.77 sec\n",
      "SLIM_BPR_Recommender: Epoch 264 of 300. Elapsed time 16.83 sec\n",
      "SLIM_BPR_Recommender: Epoch 265 of 300. Elapsed time 16.89 sec\n"
     ]
    },
    {
     "name": "stdout",
     "output_type": "stream",
     "text": [
      "SLIM_BPR_Recommender: Epoch 266 of 300. Elapsed time 16.95 sec\n",
      "SLIM_BPR_Recommender: Epoch 267 of 300. Elapsed time 17.01 sec\n",
      "SLIM_BPR_Recommender: Epoch 268 of 300. Elapsed time 17.07 sec\n",
      "SLIM_BPR_Recommender: Epoch 269 of 300. Elapsed time 17.13 sec\n",
      "SLIM_BPR_Recommender: Epoch 270 of 300. Elapsed time 17.19 sec\n",
      "SLIM_BPR_Recommender: Epoch 271 of 300. Elapsed time 17.25 sec\n",
      "SLIM_BPR_Recommender: Epoch 272 of 300. Elapsed time 17.31 sec\n",
      "SLIM_BPR_Recommender: Epoch 273 of 300. Elapsed time 17.37 sec\n",
      "SLIM_BPR_Recommender: Epoch 274 of 300. Elapsed time 17.43 sec\n",
      "SLIM_BPR_Recommender: Epoch 275 of 300. Elapsed time 17.49 sec\n",
      "SLIM_BPR_Recommender: Epoch 276 of 300. Elapsed time 17.55 sec\n",
      "SLIM_BPR_Recommender: Epoch 277 of 300. Elapsed time 17.61 sec\n",
      "SLIM_BPR_Recommender: Epoch 278 of 300. Elapsed time 17.68 sec\n",
      "SLIM_BPR_Recommender: Epoch 279 of 300. Elapsed time 17.74 sec\n",
      "SLIM_BPR_Recommender: Epoch 280 of 300. Elapsed time 17.80 sec\n",
      "SLIM_BPR_Recommender: Epoch 281 of 300. Elapsed time 17.87 sec\n",
      "SLIM_BPR_Recommender: Epoch 282 of 300. Elapsed time 17.92 sec\n",
      "SLIM_BPR_Recommender: Epoch 283 of 300. Elapsed time 17.98 sec\n",
      "SLIM_BPR_Recommender: Epoch 284 of 300. Elapsed time 18.05 sec\n",
      "SLIM_BPR_Recommender: Epoch 285 of 300. Elapsed time 18.10 sec\n",
      "SLIM_BPR_Recommender: Epoch 286 of 300. Elapsed time 18.17 sec\n",
      "SLIM_BPR_Recommender: Epoch 287 of 300. Elapsed time 18.23 sec\n",
      "SLIM_BPR_Recommender: Epoch 288 of 300. Elapsed time 18.29 sec\n",
      "SLIM_BPR_Recommender: Epoch 289 of 300. Elapsed time 18.35 sec\n",
      "SLIM_BPR_Recommender: Epoch 290 of 300. Elapsed time 18.41 sec\n",
      "SLIM_BPR_Recommender: Epoch 291 of 300. Elapsed time 18.47 sec\n",
      "SLIM_BPR_Recommender: Epoch 292 of 300. Elapsed time 18.53 sec\n",
      "SLIM_BPR_Recommender: Epoch 293 of 300. Elapsed time 18.59 sec\n",
      "SLIM_BPR_Recommender: Epoch 294 of 300. Elapsed time 18.65 sec\n",
      "SLIM_BPR_Recommender: Epoch 295 of 300. Elapsed time 18.71 sec\n",
      "SLIM_BPR_Recommender: Epoch 296 of 300. Elapsed time 18.77 sec\n",
      "SLIM_BPR_Recommender: Epoch 297 of 300. Elapsed time 18.83 sec\n",
      "SLIM_BPR_Recommender: Epoch 298 of 300. Elapsed time 18.91 sec\n",
      "SLIM_BPR_Recommender: Epoch 299 of 300. Elapsed time 18.97 sec\n",
      "SLIM_BPR_Recommender: Epoch 300 of 300. Elapsed time 19.03 sec\n",
      "SLIM_BPR_Recommender: Terminating at epoch 300. Elapsed time 25.92 sec\n",
      "Deallocating Cython objects\n",
      "EvaluatorHoldout: Processed 20363 ( 100.00% ) in 10.28 sec. Users per second: 1981\n",
      "[('epoch, batch, topK, lr :300 50 10 0.001', 0.0404356249098391)]\n"
     ]
    }
   ],
   "source": [
    "## SLIM BPR Recommender - MAP 0.41 on test set\n",
    "## set True if you want to train and compile SLIM BPR Recommender\n",
    "if True:\n",
    "    from SLIM_BPR.Cython.SLIM_BPR_Cython import SLIM_BPR_Cython \n",
    "    slim_rec = SLIM_BPR_Cython(URM_train, recompile_cython=False, verbose = False)\n",
    "    MAP_LIST = []\n",
    "    epochsList = [300]\n",
    "    batchSize = [50]\n",
    "    tklist = [10]\n",
    "    lrs = [1e-3]\n",
    "\n",
    "    for epochsN in epochsList:\n",
    "        for bs in batchSize:\n",
    "            for tk in tklist:\n",
    "                for lr in lrs:\n",
    "                    do_not_display_hystory = slim_rec.fit(epochs=epochsN, batch_size=bs, sgd_mode='adagrad', learning_rate=lr, topK = tk)\n",
    "                    if eval:\n",
    "                        dict_scores = (evaluator_validation.evaluateRecommender(slim_rec))[0][10]\n",
    "                        MAP_LIST.append(('epoch, batch, topK, lr :' + str(epochsN) + ' ' + str(bs)+ ' ' + str(tk) + ' ' + str(lr), dict_scores['MAP']))\n",
    "    if eval:\n",
    "        print(MAP_LIST)"
   ]
  },
  {
   "cell_type": "code",
   "execution_count": 16,
   "metadata": {
    "pycharm": {
     "name": "#%%\n"
    }
   },
   "outputs": [],
   "source": [
    "from RecLib.DataLoad import ICMbuilder \n",
    "ICM = ICMbuilder(URM_train, ICM_subclass, ICM_price, ICM_subclass)\n",
    "ICM = sps.csr_matrix(ICM)"
   ]
  },
  {
   "cell_type": "code",
   "execution_count": 17,
   "metadata": {
    "pycharm": {
     "name": "#%%\n"
    }
   },
   "outputs": [
    {
     "name": "stdout",
     "output_type": "stream",
     "text": [
      "ItemKNNCBFRecommender: URM Detected 4314 (13.96 %) cold users.\n",
      "ItemKNNCBFRecommender: URM Detected 3710 (20.06 %) cold items.\n",
      "Similarity column 18495 ( 100 % ), 4658.37 column/sec, elapsed time 0.07 min\n",
      "EvaluatorHoldout: Processed 20363 ( 100.00% ) in 10.61 sec. Users per second: 1920\n",
      "[('topK, shrink :3 10', 0.010180203504862421)]\n"
     ]
    }
   ],
   "source": [
    "if True:\n",
    "    from KNN.ItemKNNCBFRecommender import ItemKNNCBFRecommender \n",
    "    itemKNNCBF = ItemKNNCBFRecommender(URM_train, ICM)\n",
    "    MAP_LIST = []\n",
    "    tklist = [3]\n",
    "    shrinklist = [10]\n",
    "\n",
    "    for tk in tklist:\n",
    "        for sr in shrinklist:\n",
    "            itemKNNCBF.fit(shrink=sr, topK = tk, similarity = 'cosine')\n",
    "            if eval:\n",
    "                dict_scores = (evaluator_validation.evaluateRecommender(itemKNNCBF))[0][10]\n",
    "                MAP_LIST.append(('topK, shrink :' + str(tk) + ' ' + str(sr), dict_scores['MAP']))\n",
    "    if eval:\n",
    "        print(MAP_LIST)\n",
    "\n"
   ]
  },
  {
   "cell_type": "code",
   "execution_count": 18,
   "metadata": {
    "colab": {
     "base_uri": "https://localhost:8080/",
     "height": 119
    },
    "colab_type": "code",
    "id": "Pm7oY2Zx6Soy",
    "outputId": "d56a6477-e677-4dbe-db85-49c119d4b348",
    "pycharm": {
     "is_executing": false
    }
   },
   "outputs": [
    {
     "name": "stdout",
     "output_type": "stream",
     "text": [
      "ItemKNNCFRecommender: URM Detected 4314 (13.96 %) cold users.\n",
      "ItemKNNCFRecommender: URM Detected 3710 (20.06 %) cold items.\n",
      "Similarity column 18495 ( 100 % ), 9630.63 column/sec, elapsed time 0.03 min\n",
      "EvaluatorHoldout: Processed 20363 ( 100.00% ) in 10.27 sec. Users per second: 1982\n",
      "MAP: 0.04501446583233149\n"
     ]
    }
   ],
   "source": [
    "## ItemCFKNNRecommender - MAP 0.47 on test set\n",
    "# If you want to compile and train KNN set to True\n",
    "if True:\n",
    "    from KNN.ItemKNNCFRecommender import ItemKNNCFRecommender\n",
    "    itemKNN = ItemKNNCFRecommender(URM_train)\n",
    "    itemKNN.fit(shrink=50, topK=3)\n",
    "\n",
    "    if eval:\n",
    "        results, _ = evaluator_validation.evaluateRecommender(itemKNN)\n",
    "        print('MAP: ' + str(results[10][\"MAP\"]))"
   ]
  },
  {
   "cell_type": "code",
   "execution_count": 19,
   "metadata": {
    "pycharm": {
     "is_executing": false
    },
    "scrolled": false
   },
   "outputs": [
    {
     "name": "stdout",
     "output_type": "stream",
     "text": [
      "HybridRecommender: URM Detected 4314 (13.96 %) cold users.\n",
      "HybridRecommender: URM Detected 3710 (20.06 %) cold items.\n",
      "TopPopRecommender: URM Detected 4314 (13.96 %) cold users.\n",
      "TopPopRecommender: URM Detected 3710 (20.06 %) cold items.\n",
      "ScoresRecommender: URM Detected 4314 (13.96 %) cold users.\n",
      "ScoresRecommender: URM Detected 3710 (20.06 %) cold items.\n",
      "(3, 1)\n"
     ]
    },
    {
     "ename": "Exception",
     "evalue": "ERROR: parameters insufficient or wrong in number",
     "output_type": "error",
     "traceback": [
      "\u001b[0;31m---------------------------------------------------------------------------\u001b[0m",
      "\u001b[0;31mException\u001b[0m                                 Traceback (most recent call last)",
      "\u001b[0;32m<ipython-input-19-5a93c2954a0b>\u001b[0m in \u001b[0;36m<module>\u001b[0;34m\u001b[0m\n\u001b[1;32m      4\u001b[0m \u001b[0;32mif\u001b[0m \u001b[0;32mTrue\u001b[0m\u001b[0;34m:\u001b[0m\u001b[0;34m\u001b[0m\u001b[0;34m\u001b[0m\u001b[0m\n\u001b[1;32m      5\u001b[0m     \u001b[0mhybridrecommender\u001b[0m \u001b[0;34m=\u001b[0m \u001b[0mHybridRecommender\u001b[0m\u001b[0;34m(\u001b[0m\u001b[0mURM_train\u001b[0m\u001b[0;34m,\u001b[0m \u001b[0mitemKNN\u001b[0m\u001b[0;34m,\u001b[0m \u001b[0mitemKNNCBF\u001b[0m\u001b[0;34m,\u001b[0m \u001b[0mslim_rec\u001b[0m\u001b[0;34m)\u001b[0m\u001b[0;34m\u001b[0m\u001b[0;34m\u001b[0m\u001b[0m\n\u001b[0;32m----> 6\u001b[0;31m     \u001b[0mhybridrecommender\u001b[0m\u001b[0;34m.\u001b[0m\u001b[0mfit\u001b[0m\u001b[0;34m(\u001b[0m\u001b[0;36m0.5\u001b[0m\u001b[0;34m,\u001b[0m \u001b[0;36m0.1\u001b[0m\u001b[0;34m,\u001b[0m \u001b[0;36m0.4\u001b[0m\u001b[0;34m)\u001b[0m\u001b[0;34m\u001b[0m\u001b[0;34m\u001b[0m\u001b[0m\n\u001b[0m\u001b[1;32m      7\u001b[0m \u001b[0;34m\u001b[0m\u001b[0m\n\u001b[1;32m      8\u001b[0m     \u001b[0;32mif\u001b[0m \u001b[0meval\u001b[0m\u001b[0;34m:\u001b[0m\u001b[0;34m\u001b[0m\u001b[0;34m\u001b[0m\u001b[0m\n",
      "\u001b[0;32m~/Documents/PycharmProjects/RecSys_Course_AT_PoliMi/RecLib/HybridRecommender.py\u001b[0m in \u001b[0;36mfit\u001b[0;34m(self, *otherParam)\u001b[0m\n\u001b[1;32m     17\u001b[0m     \u001b[0;32mdef\u001b[0m \u001b[0mfit\u001b[0m\u001b[0;34m(\u001b[0m\u001b[0mself\u001b[0m\u001b[0;34m,\u001b[0m \u001b[0;34m*\u001b[0m\u001b[0motherParam\u001b[0m\u001b[0;34m)\u001b[0m\u001b[0;34m:\u001b[0m\u001b[0;34m\u001b[0m\u001b[0;34m\u001b[0m\u001b[0m\n\u001b[1;32m     18\u001b[0m         \u001b[0mself\u001b[0m\u001b[0;34m.\u001b[0m\u001b[0mtopPop\u001b[0m\u001b[0;34m.\u001b[0m\u001b[0mfit\u001b[0m\u001b[0;34m(\u001b[0m\u001b[0;34m)\u001b[0m\u001b[0;34m\u001b[0m\u001b[0;34m\u001b[0m\u001b[0m\n\u001b[0;32m---> 19\u001b[0;31m         \u001b[0mself\u001b[0m\u001b[0;34m.\u001b[0m\u001b[0mItemHybrid\u001b[0m\u001b[0;34m.\u001b[0m\u001b[0mfit\u001b[0m\u001b[0;34m(\u001b[0m\u001b[0motherParam\u001b[0m\u001b[0;34m)\u001b[0m\u001b[0;34m\u001b[0m\u001b[0;34m\u001b[0m\u001b[0m\n\u001b[0m\u001b[1;32m     20\u001b[0m \u001b[0;34m\u001b[0m\u001b[0m\n\u001b[1;32m     21\u001b[0m     \"\"\"\n",
      "\u001b[0;32m~/Documents/PycharmProjects/RecSys_Course_AT_PoliMi/RecLib/ScoresRecommender.py\u001b[0m in \u001b[0;36mfit\u001b[0;34m(self, *otherParam)\u001b[0m\n\u001b[1;32m     25\u001b[0m         \u001b[0;32mif\u001b[0m \u001b[0mself\u001b[0m\u001b[0;34m.\u001b[0m\u001b[0mrecLen\u001b[0m \u001b[0;32mis\u001b[0m \u001b[0;32mnot\u001b[0m \u001b[0;36m2\u001b[0m \u001b[0;32mand\u001b[0m \u001b[0mself\u001b[0m\u001b[0;34m.\u001b[0m\u001b[0mrecLen\u001b[0m \u001b[0;32mis\u001b[0m \u001b[0;32mnot\u001b[0m \u001b[0mlen\u001b[0m\u001b[0;34m(\u001b[0m\u001b[0mself\u001b[0m\u001b[0;34m.\u001b[0m\u001b[0mparams\u001b[0m\u001b[0;34m)\u001b[0m\u001b[0;34m:\u001b[0m\u001b[0;34m\u001b[0m\u001b[0;34m\u001b[0m\u001b[0m\n\u001b[1;32m     26\u001b[0m             \u001b[0mprint\u001b[0m\u001b[0;34m(\u001b[0m\u001b[0;34m(\u001b[0m\u001b[0mself\u001b[0m\u001b[0;34m.\u001b[0m\u001b[0mrecLen\u001b[0m\u001b[0;34m,\u001b[0m \u001b[0mlen\u001b[0m\u001b[0;34m(\u001b[0m\u001b[0mself\u001b[0m\u001b[0;34m.\u001b[0m\u001b[0mparams\u001b[0m\u001b[0;34m)\u001b[0m\u001b[0;34m)\u001b[0m\u001b[0;34m)\u001b[0m\u001b[0;34m\u001b[0m\u001b[0;34m\u001b[0m\u001b[0m\n\u001b[0;32m---> 27\u001b[0;31m             \u001b[0;32mraise\u001b[0m \u001b[0mException\u001b[0m\u001b[0;34m(\u001b[0m\u001b[0;34m'ERROR: parameters insufficient or wrong in number'\u001b[0m\u001b[0;34m)\u001b[0m\u001b[0;34m\u001b[0m\u001b[0;34m\u001b[0m\u001b[0m\n\u001b[0m\u001b[1;32m     28\u001b[0m         \u001b[0;32mif\u001b[0m \u001b[0mself\u001b[0m\u001b[0;34m.\u001b[0m\u001b[0mrecLen\u001b[0m \u001b[0;32mis\u001b[0m \u001b[0;36m2\u001b[0m\u001b[0;34m:\u001b[0m\u001b[0;34m\u001b[0m\u001b[0;34m\u001b[0m\u001b[0m\n\u001b[1;32m     29\u001b[0m             \u001b[0;32mif\u001b[0m \u001b[0mlen\u001b[0m\u001b[0;34m(\u001b[0m\u001b[0mself\u001b[0m\u001b[0;34m.\u001b[0m\u001b[0mparams\u001b[0m\u001b[0;34m)\u001b[0m \u001b[0;32mis\u001b[0m \u001b[0;36m1\u001b[0m\u001b[0;34m:\u001b[0m\u001b[0;34m\u001b[0m\u001b[0;34m\u001b[0m\u001b[0m\n",
      "\u001b[0;31mException\u001b[0m: ERROR: parameters insufficient or wrong in number"
     ]
    }
   ],
   "source": [
    "## HYBRID: KNN + SLIM BPR\n",
    "# Set to True if you want to compile and train this hybrid rec\n",
    "from RecLib.HybridRecommender import *\n",
    "if True: \n",
    "    hybridrecommender = HybridRecommender(URM_train, itemKNN, itemKNNCBF, slim_rec)\n",
    "    hybridrecommender.fit(0.5, 0.1, 0.4)\n",
    "    \n",
    "    if eval:\n",
    "        results, _ = evaluator_validation.evaluateRecommender(hybridrecommender)\n",
    "        print('MAP: ' + str(results[10][\"MAP\"]))"
   ]
  },
  {
   "cell_type": "code",
   "execution_count": null,
   "metadata": {
    "scrolled": true
   },
   "outputs": [],
   "source": [
    "if eval:\n",
    "    for itr in range(300):\n",
    "        to_compute_mask = np.ediff1d(URM_train.tocsr().indptr) == itr\n",
    "        to_ignore_mask = np.invert(to_compute_mask)\n",
    "        to_ignore = np.arange(URM_train.shape[0])[to_ignore_mask]\n",
    "        if len(to_ignore) != URM_train.shape[0]:\n",
    "            evaluator_validation = EvaluatorHoldout(URM_test, cutoff_list=[10], ignore_users = to_ignore)\n",
    "            results, _ = evaluator_validation.evaluateRecommender(hybridrecommender)\n",
    "            print('MAP at ' + str(itr) +' interactions: ' + str(results[10][\"MAP\"]))"
   ]
  },
  {
   "cell_type": "code",
   "execution_count": null,
   "metadata": {
    "pycharm": {
     "is_executing": false
    }
   },
   "outputs": [],
   "source": [
    "## TEST & VISUALIZE DIFFERENT RECSYS PERFORMANCE BASED ON N° OF INTERACTIONS HELD BY USERS\n",
    "# Please, fill empty list with pretrained recommenders you want to compare\n",
    "\n",
    "if eval:\n",
    "    recommendersToCompare = [itemKNN, hybridrecommender]\n",
    "    from RecLib.PerUserGroupTesting import *\n",
    "    compare(URM_train, URM_test, recommendersToCompare)"
   ]
  },
  {
   "cell_type": "code",
   "execution_count": null,
   "metadata": {
    "colab": {},
    "colab_type": "code",
    "id": "rYQRvvikMJVN",
    "pycharm": {
     "is_executing": false
    }
   },
   "outputs": [],
   "source": [
    "## Predict\n",
    "## SET WHICH RECOMMENDER YOU WANNA USE\n",
    "final_Rec = hybridrecommender\n",
    "if not eval:\n",
    "    output = []\n",
    "    for user_id in target_users:\n",
    "        output.append((user_id, final_Rec.recommend(user_id, cutoff=10)))"
   ]
  },
  {
   "cell_type": "code",
   "execution_count": null,
   "metadata": {
    "colab": {},
    "colab_type": "code",
    "id": "o5TyQsg9TAwz",
    "pycharm": {
     "is_executing": false
    }
   },
   "outputs": [],
   "source": [
    "#Writedown results\n",
    "if not eval:\n",
    "    with open('submission.csv', 'w', newline='') as file:\n",
    "        writer = csv.writer(file)\n",
    "        writer.writerow([\"user_id\", \"item_list\"])\n",
    "        for row in output:\n",
    "          ranking = ''\n",
    "          for val in row[1]:\n",
    "            ranking = ranking + str(val) + ' '\n",
    "          writer.writerow([row[0], ranking[:-1]])"
   ]
  },
  {
   "cell_type": "code",
   "execution_count": null,
   "metadata": {},
   "outputs": [],
   "source": []
  }
 ],
 "metadata": {
  "accelerator": "GPU",
  "colab": {
   "name": "sacajrota.ipynb",
   "provenance": []
  },
  "kernelspec": {
   "display_name": "Python 3",
   "language": "python",
   "name": "python3"
  },
  "language_info": {
   "codemirror_mode": {
    "name": "ipython",
    "version": 3
   },
   "file_extension": ".py",
   "mimetype": "text/x-python",
   "name": "python",
   "nbconvert_exporter": "python",
   "pygments_lexer": "ipython3",
   "version": "3.7.4"
  },
  "pycharm": {
   "stem_cell": {
    "cell_type": "raw",
    "metadata": {
     "collapsed": false
    },
    "source": []
   }
  }
 },
 "nbformat": 4,
 "nbformat_minor": 1
}
