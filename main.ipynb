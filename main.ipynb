{
 "cells": [
  {
   "cell_type": "code",
   "execution_count": 13,
   "metadata": {
    "_cell_guid": "b1076dfc-b9ad-4769-8c92-a6c4dae69d19",
    "_uuid": "8f2839f25d086af736a60e9eeb907d3b93b6e0e5",
    "colab": {},
    "colab_type": "code",
    "id": "7Ifkd08Lq3wR",
    "pycharm": {
     "is_executing": false
    }
   },
   "outputs": [],
   "source": [
    "## RECSYS CHALLENGE 2020 ##\n",
    "# Evaluation or scoring?\n",
    "eval = True"
   ]
  },
  {
   "cell_type": "code",
   "execution_count": 14,
   "metadata": {
    "colab": {},
    "colab_type": "code",
    "id": "6mDejDEXq3wW",
    "pycharm": {
     "is_executing": false
    }
   },
   "outputs": [],
   "source": [
    "# Loading from CSV files...\n",
    "from RecLib.DataLoad import *\n",
    "UCM_age, ICM_subclass, ICM_asset, ICM_price, UCM_region, target_users, URM = dataLoad()"
   ]
  },
  {
   "cell_type": "code",
   "execution_count": 15,
   "metadata": {
    "colab": {},
    "colab_type": "code",
    "id": "m4FzKl-xq3wc",
    "pycharm": {
     "is_executing": false
    }
   },
   "outputs": [],
   "source": [
    "import scipy.sparse as sps\n",
    "URM = URM.tocsr()"
   ]
  },
  {
   "cell_type": "code",
   "execution_count": 16,
   "metadata": {
    "colab": {},
    "colab_type": "code",
    "id": "aODXsh3XsyJA",
    "pycharm": {
     "is_executing": false
    }
   },
   "outputs": [],
   "source": [
    "# Split dataset (train % of .9999 gives similar performance on test set and competition set)\n",
    "from Notebooks_utils.data_splitter import train_test_holdout\n",
    "URM_train, URM_test = train_test_holdout(URM, train_perc = 0.8)\n",
    "\n",
    "\n",
    "if not eval:\n",
    "    URM_train = URM\n",
    "else:\n",
    "    from Base.Evaluation.Evaluator import EvaluatorHoldout\n",
    "    from RecLib.Evaluate import *\n",
    "    evaluator_validation = EvaluatorHoldout(URM_test, cutoff_list=[10])"
   ]
  },
  {
   "cell_type": "code",
   "execution_count": 17,
   "metadata": {
    "pycharm": {
     "name": "#%%\n"
    }
   },
   "outputs": [],
   "source": [
    "# Load Item & User Content matrix\n",
    "ICM, UCM = contentMatrixLoad(URM_train, ICM_subclass, ICM_price, ICM_asset, UCM_age, UCM_region)"
   ]
  },
  {
   "cell_type": "code",
   "execution_count": 18,
   "metadata": {
    "scrolled": false
   },
   "outputs": [
    {
     "name": "stdout",
     "output_type": "stream",
     "text": [
      "SLIMElasticNetRecommender: Processed 6952 ( 37.59% ) in 5.00 min. Items per second: 23.16\n",
      "SLIMElasticNetRecommender: Processed 15636 ( 84.54% ) in 10.00 min. Items per second: 26.05\n",
      "SLIMElasticNetRecommender: Processed 18495 ( 100.00% ) in 11.69 min. Items per second: 26.37\n",
      "EvaluatorHoldout: Processed 20418 ( 100.00% ) in 8.12 sec. Users per second: 2514\n",
      "SLIMElasticNetRecommender: Processed 8149 ( 44.06% ) in 5.00 min. Items per second: 27.15\n",
      "SLIMElasticNetRecommender: Processed 17886 ( 96.71% ) in 10.00 min. Items per second: 29.79\n",
      "SLIMElasticNetRecommender: Processed 18495 ( 100.00% ) in 10.38 min. Items per second: 29.68\n",
      "EvaluatorHoldout: Processed 20418 ( 100.00% ) in 8.09 sec. Users per second: 2525\n",
      "SLIMElasticNetRecommender: Processed 6952 ( 37.59% ) in 5.00 min. Items per second: 23.17\n",
      "SLIMElasticNetRecommender: Processed 15532 ( 83.98% ) in 10.00 min. Items per second: 25.88\n",
      "SLIMElasticNetRecommender: Processed 18495 ( 100.00% ) in 11.75 min. Items per second: 26.23\n",
      "EvaluatorHoldout: Processed 20418 ( 100.00% ) in 8.07 sec. Users per second: 2529\n",
      "SLIMElasticNetRecommender: Processed 8149 ( 44.06% ) in 5.00 min. Items per second: 27.15\n",
      "SLIMElasticNetRecommender: Processed 17885 ( 96.70% ) in 10.00 min. Items per second: 29.80\n",
      "SLIMElasticNetRecommender: Processed 18495 ( 100.00% ) in 10.39 min. Items per second: 29.68\n",
      "EvaluatorHoldout: Processed 20418 ( 100.00% ) in 8.05 sec. Users per second: 2536\n",
      "SLIMElasticNetRecommender: Processed 6987 ( 37.78% ) in 5.00 min. Items per second: 23.29\n",
      "SLIMElasticNetRecommender: Processed 15568 ( 84.17% ) in 10.00 min. Items per second: 25.94\n",
      "SLIMElasticNetRecommender: Processed 18495 ( 100.00% ) in 11.77 min. Items per second: 26.19\n",
      "EvaluatorHoldout: Processed 20418 ( 100.00% ) in 8.58 sec. Users per second: 2379\n",
      "SLIMElasticNetRecommender: Processed 8014 ( 43.33% ) in 5.00 min. Items per second: 26.70\n",
      "SLIMElasticNetRecommender: Processed 17722 ( 95.82% ) in 10.00 min. Items per second: 29.53\n",
      "SLIMElasticNetRecommender: Processed 18495 ( 100.00% ) in 10.49 min. Items per second: 29.38\n",
      "EvaluatorHoldout: Processed 20418 ( 100.00% ) in 8.05 sec. Users per second: 2535\n",
      "SLIMElasticNetRecommender: Processed 6916 ( 37.39% ) in 5.00 min. Items per second: 23.05\n",
      "SLIMElasticNetRecommender: Processed 15485 ( 83.73% ) in 10.00 min. Items per second: 25.80\n",
      "SLIMElasticNetRecommender: Processed 18495 ( 100.00% ) in 11.81 min. Items per second: 26.10\n",
      "EvaluatorHoldout: Processed 20418 ( 100.00% ) in 8.10 sec. Users per second: 2522\n",
      "SLIMElasticNetRecommender: Processed 8121 ( 43.91% ) in 5.00 min. Items per second: 27.06\n",
      "SLIMElasticNetRecommender: Processed 17845 ( 96.49% ) in 10.00 min. Items per second: 29.74\n",
      "SLIMElasticNetRecommender: Processed 18495 ( 100.00% ) in 10.41 min. Items per second: 29.61\n",
      "EvaluatorHoldout: Processed 20418 ( 100.00% ) in 8.05 sec. Users per second: 2537\n",
      "SLIMElasticNetRecommender: Processed 6967 ( 37.67% ) in 5.00 min. Items per second: 23.22\n",
      "SLIMElasticNetRecommender: Processed 15544 ( 84.04% ) in 10.00 min. Items per second: 25.90\n",
      "SLIMElasticNetRecommender: Processed 18495 ( 100.00% ) in 11.74 min. Items per second: 26.26\n",
      "EvaluatorHoldout: Processed 20418 ( 100.00% ) in 8.09 sec. Users per second: 2525\n",
      "SLIMElasticNetRecommender: Processed 8113 ( 43.87% ) in 5.00 min. Items per second: 27.04\n",
      "SLIMElasticNetRecommender: Processed 17843 ( 96.47% ) in 10.00 min. Items per second: 29.73\n",
      "SLIMElasticNetRecommender: Processed 18495 ( 100.00% ) in 10.41 min. Items per second: 29.60\n",
      "EvaluatorHoldout: Processed 20418 ( 100.00% ) in 8.12 sec. Users per second: 2513\n",
      "SLIMElasticNetRecommender: Processed 6936 ( 37.50% ) in 5.00 min. Items per second: 23.12\n",
      "SLIMElasticNetRecommender: Processed 15517 ( 83.90% ) in 10.00 min. Items per second: 25.85\n",
      "SLIMElasticNetRecommender: Processed 18495 ( 100.00% ) in 11.78 min. Items per second: 26.17\n",
      "EvaluatorHoldout: Processed 20418 ( 100.00% ) in 8.08 sec. Users per second: 2525\n",
      "SLIMElasticNetRecommender: Processed 8140 ( 44.01% ) in 5.00 min. Items per second: 27.12\n",
      "SLIMElasticNetRecommender: Processed 17875 ( 96.65% ) in 10.00 min. Items per second: 29.78\n",
      "SLIMElasticNetRecommender: Processed 18495 ( 100.00% ) in 10.39 min. Items per second: 29.67\n",
      "EvaluatorHoldout: Processed 20418 ( 100.00% ) in 8.10 sec. Users per second: 2521\n",
      "SLIMElasticNetRecommender: Processed 6987 ( 37.78% ) in 5.00 min. Items per second: 23.28\n",
      "SLIMElasticNetRecommender: Processed 15611 ( 84.41% ) in 10.00 min. Items per second: 26.01\n",
      "SLIMElasticNetRecommender: Processed 18495 ( 100.00% ) in 11.71 min. Items per second: 26.33\n",
      "EvaluatorHoldout: Processed 20418 ( 100.00% ) in 8.07 sec. Users per second: 2531\n",
      "SLIMElasticNetRecommender: Processed 8178 ( 44.22% ) in 5.00 min. Items per second: 27.25\n",
      "SLIMElasticNetRecommender: Processed 17936 ( 96.98% ) in 10.00 min. Items per second: 29.89\n",
      "SLIMElasticNetRecommender: Processed 18495 ( 100.00% ) in 10.36 min. Items per second: 29.76\n",
      "EvaluatorHoldout: Processed 20418 ( 100.00% ) in 8.07 sec. Users per second: 2529\n",
      "SLIMElasticNetRecommender: Processed 6935 ( 37.50% ) in 5.00 min. Items per second: 23.11\n",
      "SLIMElasticNetRecommender: Processed 15523 ( 83.93% ) in 10.00 min. Items per second: 25.86\n",
      "SLIMElasticNetRecommender: Processed 18495 ( 100.00% ) in 11.77 min. Items per second: 26.19\n",
      "EvaluatorHoldout: Processed 20418 ( 100.00% ) in 8.10 sec. Users per second: 2521\n",
      "SLIMElasticNetRecommender: Processed 8156 ( 44.10% ) in 5.00 min. Items per second: 27.18\n",
      "SLIMElasticNetRecommender: Processed 17886 ( 96.71% ) in 10.00 min. Items per second: 29.81\n",
      "SLIMElasticNetRecommender: Processed 18495 ( 100.00% ) in 10.38 min. Items per second: 29.69\n",
      "EvaluatorHoldout: Processed 20418 ( 100.00% ) in 8.12 sec. Users per second: 2514\n",
      "SLIMElasticNetRecommender: Processed 6973 ( 37.70% ) in 5.00 min. Items per second: 23.23\n",
      "SLIMElasticNetRecommender: Processed 15547 ( 84.06% ) in 10.00 min. Items per second: 25.90\n",
      "SLIMElasticNetRecommender: Processed 18495 ( 100.00% ) in 11.74 min. Items per second: 26.27\n",
      "EvaluatorHoldout: Processed 20418 ( 100.00% ) in 8.08 sec. Users per second: 2527\n",
      "SLIMElasticNetRecommender: Processed 8173 ( 44.19% ) in 5.00 min. Items per second: 27.24\n",
      "SLIMElasticNetRecommender: Processed 17917 ( 96.87% ) in 10.00 min. Items per second: 29.86\n",
      "SLIMElasticNetRecommender: Processed 18495 ( 100.00% ) in 10.37 min. Items per second: 29.72\n",
      "EvaluatorHoldout: Processed 20418 ( 100.00% ) in 8.05 sec. Users per second: 2537\n",
      "SLIMElasticNetRecommender: Processed 6795 ( 36.74% ) in 5.00 min. Items per second: 22.65\n",
      "SLIMElasticNetRecommender: Processed 15312 ( 82.79% ) in 10.00 min. Items per second: 25.52\n",
      "SLIMElasticNetRecommender: Processed 18495 ( 100.00% ) in 11.88 min. Items per second: 25.94\n",
      "EvaluatorHoldout: Processed 20418 ( 100.00% ) in 8.10 sec. Users per second: 2520\n",
      "SLIMElasticNetRecommender: Processed 8155 ( 44.09% ) in 5.00 min. Items per second: 27.18\n",
      "SLIMElasticNetRecommender: Processed 17911 ( 96.84% ) in 10.00 min. Items per second: 29.85\n",
      "SLIMElasticNetRecommender: Processed 18495 ( 100.00% ) in 10.37 min. Items per second: 29.71\n",
      "EvaluatorHoldout: Processed 20418 ( 100.00% ) in 8.09 sec. Users per second: 2523\n",
      "SLIMElasticNetRecommender: Processed 6987 ( 37.78% ) in 5.00 min. Items per second: 23.28\n",
      "SLIMElasticNetRecommender: Processed 15564 ( 84.15% ) in 10.00 min. Items per second: 25.93\n",
      "SLIMElasticNetRecommender: Processed 18495 ( 100.00% ) in 11.77 min. Items per second: 26.19\n",
      "EvaluatorHoldout: Processed 20418 ( 100.00% ) in 8.71 sec. Users per second: 2344\n",
      "SLIMElasticNetRecommender: Processed 8109 ( 43.84% ) in 5.00 min. Items per second: 27.02\n",
      "SLIMElasticNetRecommender: Processed 17857 ( 96.55% ) in 10.00 min. Items per second: 29.75\n",
      "SLIMElasticNetRecommender: Processed 18495 ( 100.00% ) in 10.40 min. Items per second: 29.64\n",
      "EvaluatorHoldout: Processed 20418 ( 100.00% ) in 8.07 sec. Users per second: 2532\n",
      "SLIMElasticNetRecommender: Processed 6935 ( 37.50% ) in 5.00 min. Items per second: 23.10\n",
      "SLIMElasticNetRecommender: Processed 15523 ( 83.93% ) in 10.00 min. Items per second: 25.86\n",
      "SLIMElasticNetRecommender: Processed 18495 ( 100.00% ) in 11.77 min. Items per second: 26.18\n",
      "EvaluatorHoldout: Processed 20418 ( 100.00% ) in 8.06 sec. Users per second: 2534\n"
     ]
    },
    {
     "name": "stdout",
     "output_type": "stream",
     "text": [
      "SLIMElasticNetRecommender: Processed 8109 ( 43.84% ) in 5.00 min. Items per second: 27.02\n",
      "SLIMElasticNetRecommender: Processed 17825 ( 96.38% ) in 10.00 min. Items per second: 29.70\n",
      "SLIMElasticNetRecommender: Processed 18495 ( 100.00% ) in 10.43 min. Items per second: 29.57\n",
      "EvaluatorHoldout: Processed 20418 ( 100.00% ) in 8.11 sec. Users per second: 2518\n",
      "('tol, positives, warm_start, iterations :1e-05 False False 1000', 0.047344801233274725)\n",
      "('tol, positives, warm_start, iterations :0.001 False False 100', 0.047347978868321296)\n",
      "('tol, positives, warm_start, iterations :0.0001 False False 100', 0.047347978868321296)\n",
      "('tol, positives, warm_start, iterations :1e-05 False False 100', 0.04735036436203184)\n",
      "('tol, positives, warm_start, iterations :0.001 False False 1000', 0.047350976566949074)\n",
      "('tol, positives, warm_start, iterations :0.0001 False False 1000', 0.04738298338503313)\n",
      "('tol, positives, warm_start, iterations :0.001 True False 100', 0.04738984910353462)\n",
      "('tol, positives, warm_start, iterations :0.0001 True False 100', 0.04740473489154776)\n",
      "('tol, positives, warm_start, iterations :1e-05 False True 1000', 0.047407846678703354)\n",
      "('tol, positives, warm_start, iterations :0.0001 False True 1000', 0.047409638592778545)\n",
      "('tol, positives, warm_start, iterations :1e-05 False True 100', 0.0474100570947643)\n",
      "('tol, positives, warm_start, iterations :0.001 False True 100', 0.04741039073024829)\n",
      "('tol, positives, warm_start, iterations :0.001 False True 1000', 0.04741047818809361)\n",
      "('tol, positives, warm_start, iterations :0.0001 False True 100', 0.04741049956667802)\n",
      "('tol, positives, warm_start, iterations :0.0001 True False 1000', 0.047412308278212426)\n",
      "('tol, positives, warm_start, iterations :1e-05 True False 100', 0.04741585129270166)\n",
      "('tol, positives, warm_start, iterations :1e-05 True False 1000', 0.047418327321478014)\n",
      "('tol, positives, warm_start, iterations :0.001 True False 1000', 0.047419234291725766)\n",
      "('tol, positives, warm_start, iterations :0.001 True True 100', 0.04747795154556497)\n",
      "('tol, positives, warm_start, iterations :0.0001 True True 100', 0.0474785268238364)\n",
      "('tol, positives, warm_start, iterations :1e-05 True True 1000', 0.04747855403294383)\n",
      "('tol, positives, warm_start, iterations :0.0001 True True 1000', 0.047478771705803294)\n",
      "('tol, positives, warm_start, iterations :0.001 True True 1000', 0.0474819175968912)\n",
      "('tol, positives, warm_start, iterations :1e-05 True True 100', 0.047486465219751785)\n"
     ]
    }
   ],
   "source": [
    "if True:\n",
    "    from SLIM_ElasticNet.SLIMElasticNetRecommender import SLIMElasticNetRecommender\n",
    "    SLIMElasticNet = SLIMElasticNetRecommender(URM_train)\n",
    "    MAP_LIST = []\n",
    "    tklist = [60]\n",
    "    penalties = [1]\n",
    "    alphas = [1e-4]\n",
    "    tol = [1e-3,1e-4,1e-5]\n",
    "    max_iter = [100, 1000]\n",
    "    positives = [False, True]\n",
    "    warm_start = [True, False]\n",
    "    for tk in tklist:\n",
    "        for penalty in penalties:\n",
    "            for alpha in alphas:\n",
    "                for t in tol:\n",
    "                    for iters in max_iter:\n",
    "                        for positivity in positives:\n",
    "                            for ws in warm_start:\n",
    "                                SLIMElasticNet.fit(l1_ratio=penalty, alpha = alpha, positive_only=positivity, topK = tk, warm_start = ws,tol = 1e-4, max_iter=100)\n",
    "                                if eval:\n",
    "                                    dict_scores = (evaluator_validation.evaluateRecommender(SLIMElasticNet))[0][10]\n",
    "                                    MAP_LIST.append(('tol, positives, warm_start, iterations :' + str(t) + ' ' + str(positivity) + ' ' + str(ws) + ' ' + str(iters), dict_scores['MAP']))\n",
    "    if eval:\n",
    "        sortMap(MAP_LIST)"
   ]
  },
  {
   "cell_type": "code",
   "execution_count": 45,
   "metadata": {
    "pycharm": {
     "is_executing": false,
     "name": "#%%\n"
    }
   },
   "outputs": [
    {
     "name": "stdout",
     "output_type": "stream",
     "text": [
      "Unable to read memory status: list index out of range\n",
      "SLIM_BPR_Recommender: Epoch 1 of 300. Elapsed time 0.05 sec\n",
      "SLIM_BPR_Recommender: Epoch 76 of 300. Elapsed time 4.29 sec\n",
      "SLIM_BPR_Recommender: Epoch 151 of 300. Elapsed time 8.79 sec\n",
      "SLIM_BPR_Recommender: Epoch 226 of 300. Elapsed time 12.78 sec\n",
      "SLIM_BPR_Recommender: Terminating at epoch 300. Elapsed time 23.41 sec\n",
      "Deallocating Cython objects\n",
      "EvaluatorHoldout: Processed 20328 ( 100.00% ) in 12.52 sec. Users per second: 1624\n",
      "('epoch, batch, topK, lr :300 50 10 0.001', 0.040918383661020505)\n"
     ]
    }
   ],
   "source": [
    "# SLIM BPR Recommender\n",
    "if True:\n",
    "    from SLIM_BPR.Cython.SLIM_BPR_Cython import SLIM_BPR_Cython \n",
    "    slim_rec = SLIM_BPR_Cython(URM_train, recompile_cython=False, verbose = False)\n",
    "    MAP_LIST = []\n",
    "    epochsList = [300]\n",
    "    batchSize = [50]\n",
    "    tklist = [10]\n",
    "    lrs = [1e-3]\n",
    "\n",
    "    for epochsN in epochsList:\n",
    "        for bs in batchSize:\n",
    "            for tk in tklist:\n",
    "                for lr in lrs:\n",
    "                    do_not_display_hystory = slim_rec.fit(epochs=epochsN, batch_size=bs, sgd_mode='adagrad', learning_rate=lr, topK = tk)\n",
    "                    if eval:\n",
    "                        dict_scores = (evaluator_validation.evaluateRecommender(slim_rec))[0][10]\n",
    "                        MAP_LIST.append(('epoch, batch, topK, lr :' + str(epochsN) + ' ' + str(bs)+ ' ' + str(tk) + ' ' + str(lr), dict_scores['MAP']))\n",
    "    if eval:\n",
    "        sortMap(MAP_LIST)"
   ]
  },
  {
   "cell_type": "code",
   "execution_count": 46,
   "metadata": {
    "pycharm": {
     "is_executing": false,
     "name": "#%%\n"
    }
   },
   "outputs": [
    {
     "name": "stdout",
     "output_type": "stream",
     "text": [
      "Similarity column 18495 ( 100 % ), 7147.59 column/sec, elapsed time 0.04 min\n",
      "EvaluatorHoldout: Processed 20328 ( 100.00% ) in 10.65 sec. Users per second: 1908\n",
      "('topK, shrink :3 10', 0.013960042392195521)\n"
     ]
    }
   ],
   "source": [
    "# ItemKNN Content Based Filtering\n",
    "if True:\n",
    "    from KNN.ItemKNNCBFRecommender import ItemKNNCBFRecommender \n",
    "    itemKNNCBF = ItemKNNCBFRecommender(URM_train, ICM)\n",
    "    MAP_LIST = []\n",
    "    tklist = [3]\n",
    "    shrinklist = [10]\n",
    "\n",
    "    for tk in tklist:\n",
    "        for sr in shrinklist:\n",
    "            itemKNNCBF.fit(shrink=sr, topK = tk, similarity = 'cosine')\n",
    "            if eval:\n",
    "                dict_scores = (evaluator_validation.evaluateRecommender(itemKNNCBF))[0][10]\n",
    "                MAP_LIST.append(('topK, shrink :' + str(tk) + ' ' + str(sr), dict_scores['MAP']))\n",
    "    if eval:\n",
    "        sortMap(MAP_LIST)"
   ]
  },
  {
   "cell_type": "code",
   "execution_count": 47,
   "metadata": {},
   "outputs": [
    {
     "name": "stdout",
     "output_type": "stream",
     "text": [
      "PureSVDRecommender: Computing SVD decomposition...\n",
      "PureSVDRecommender: Computing SVD decomposition... Done!\n",
      "EvaluatorHoldout: Processed 20328 ( 100.00% ) in 16.77 sec. Users per second: 1212\n",
      "[('num factors :400', 0.024527447339383654)]\n"
     ]
    }
   ],
   "source": [
    "#%%\n",
    "if True:\n",
    "    from MatrixFactorization.PureSVDRecommender import PureSVDRecommender \n",
    "    pureSVD = PureSVDRecommender(URM_train)\n",
    "    MAP_LIST = []\n",
    "    nfactorlist = [400]\n",
    "\n",
    "    for n in nfactorlist:\n",
    "        pureSVD.fit(num_factors=n, random_seed = None)\n",
    "        if eval:\n",
    "            dict_scores = (evaluator_validation.evaluateRecommender(pureSVD))[0][10]\n",
    "            MAP_LIST.append(('num factors :' + str(n) , dict_scores['MAP']))\n",
    "    if eval:\n",
    "        print(MAP_LIST)  "
   ]
  },
  {
   "cell_type": "code",
   "execution_count": 48,
   "metadata": {
    "pycharm": {
     "is_executing": false,
     "name": "#%%\n"
    }
   },
   "outputs": [
    {
     "name": "stdout",
     "output_type": "stream",
     "text": [
      "Similarity column 30911 ( 100 % ), 1656.55 column/sec, elapsed time 0.31 min\n",
      "EvaluatorHoldout: Processed 20328 ( 100.00% ) in 20.39 sec. Users per second: 997\n",
      "[('topK, shrink :2500 10', 0.00865447788326124)]\n"
     ]
    }
   ],
   "source": [
    "# UserKNN Content Based Filtering\n",
    "if True:\n",
    "    from KNN.UserKNNCBFRecommender import UserKNNCBFRecommender \n",
    "    userKNNCBF = UserKNNCBFRecommender(URM_train, UCM)\n",
    "    MAP_LIST = []\n",
    "    tklist = [2500]\n",
    "    shrinklist = [10]\n",
    "\n",
    "    for tk in tklist:\n",
    "        for sr in shrinklist:\n",
    "            userKNNCBF.fit(shrink=sr, topK = tk, similarity = 'cosine')\n",
    "            if eval:\n",
    "                dict_scores = (evaluator_validation.evaluateRecommender(userKNNCBF))[0][10]\n",
    "                MAP_LIST.append(('topK, shrink :' + str(tk) + ' ' + str(sr), dict_scores['MAP']))\n",
    "    if eval:\n",
    "        print(MAP_LIST)\n",
    "        "
   ]
  },
  {
   "cell_type": "code",
   "execution_count": 49,
   "metadata": {},
   "outputs": [],
   "source": [
    "# LightFM Recommender\n",
    "if False:\n",
    "    from RecLib.LFMRec import LFM \n",
    "    lfm_rec = LFM(URM_train)\n",
    "    MAP_LIST = []\n",
    "    epochsList = [20]\n",
    "    batchSize = [50]\n",
    "    tklist = [10]\n",
    "    lrs = [0.05]\n",
    "    losses=['bpr']\n",
    "\n",
    "    for epochsN in epochsList:\n",
    "        for loss in losses:\n",
    "            for tk in tklist:\n",
    "                for lr in lrs:\n",
    "                    do_not_display_hystory = lfm_rec.fit(epochs=epochsN, no_components=10,\n",
    "            k=5,\n",
    "            n=10,\n",
    "            learning_schedule=\"adagrad\",\n",
    "            loss=loss,\n",
    "            learning_rate=lr,\n",
    "            rho=0.95,\n",
    "            epsilon=1e-6,\n",
    "            item_alpha=0.0,\n",
    "            user_alpha=0.0,\n",
    "            max_sampled=10,\n",
    "            random_state=None, num_threads=1,\n",
    "            verbose=False)\n",
    "                    if eval:\n",
    "                        dict_scores = (evaluator_validation.evaluateRecommender(lfm_rec))[0][10]\n",
    "                        MAP_LIST.append(('epoch, loss, lr :' + str(epochsN) + ' ' + loss + ' '  + str(lr), dict_scores['MAP']))\n",
    "    if eval:\n",
    "        sortMap(MAP_LIST)"
   ]
  },
  {
   "cell_type": "code",
   "execution_count": 50,
   "metadata": {
    "pycharm": {
     "is_executing": false,
     "name": "#%%\n"
    }
   },
   "outputs": [],
   "source": [
    "# UserKNN Collaborative Filtering\n",
    "if False:\n",
    "    from KNN.UserKNNCFRecommender import UserKNNCFRecommender \n",
    "    userKNNCF = UserKNNCFRecommender(URM_train)\n",
    "    MAP_LIST = []\n",
    "    tklist = [600]\n",
    "    shrinklist = [5]\n",
    "\n",
    "    for tk in tklist:\n",
    "        for sr in shrinklist:\n",
    "            userKNNCF.fit(shrink=sr, topK = tk, similarity = 'cosine')\n",
    "            if eval:\n",
    "                dict_scores = (evaluator_validation.evaluateRecommender(userKNNCF))[0][10]\n",
    "                MAP_LIST.append(('topK, shrink :' + str(tk) + ' ' + str(sr), dict_scores['MAP']))\n",
    "    if eval:\n",
    "        sortMap(MAP_LIST)    "
   ]
  },
  {
   "cell_type": "code",
   "execution_count": 56,
   "metadata": {
    "colab": {
     "base_uri": "https://localhost:8080/",
     "height": 119
    },
    "colab_type": "code",
    "id": "Pm7oY2Zx6Soy",
    "outputId": "d56a6477-e677-4dbe-db85-49c119d4b348",
    "pycharm": {
     "is_executing": false
    }
   },
   "outputs": [
    {
     "name": "stdout",
     "output_type": "stream",
     "text": [
      "Similarity column 18495 ( 100 % ), 7760.86 column/sec, elapsed time 0.04 min\n",
      "EvaluatorHoldout: Processed 20328 ( 100.00% ) in 10.52 sec. Users per second: 1932\n",
      "MAP: 0.04484938014762729\n"
     ]
    }
   ],
   "source": [
    "# ItemKNN Collaborative Filtering\n",
    "if True:\n",
    "    from KNN.ItemKNNCFRecommender import ItemKNNCFRecommender\n",
    "    itemKNN = ItemKNNCFRecommender(URM_train)\n",
    "    itemKNN.fit(shrink=50, topK=5)\n",
    "\n",
    "    if eval:\n",
    "        evaluator_validation = EvaluatorHoldout(URM_test, cutoff_list=[10])\n",
    "        results, _ = evaluator_validation.evaluateRecommender(itemKNN)\n",
    "        print('MAP: ' + str(results[10][\"MAP\"]))"
   ]
  },
  {
   "cell_type": "code",
   "execution_count": 52,
   "metadata": {},
   "outputs": [],
   "source": [
    "if False:\n",
    "    import xgboost as xgb\n",
    "    dtest = xgb.DMatrix(X_test, label=y_test)\n",
    "    X_train, X_val, y_train, y_val = train_test_split(X_train, y_train, test_size=0.2, random_state=3)\n",
    "    dtrain = xgb.DMatrix(X_train, label=y_train)\n",
    "    dval = xgb.DMatrix(X_val, label=y_val)\n",
    "    \n",
    "    params = {\n",
    "    'max_depth': 3,  # the maximum depth of each tree\n",
    "    'eta': 0.3,  # step for each iteration\n",
    "    'silent': 1, # keep it quiet\n",
    "    'objective': 'multi:softprob',  # error evaluation for multiclass training\n",
    "    'num_class': 3, # the number of classes \n",
    "    'eval_metric': 'merror'} # evaluation metric \n",
    "\n",
    "    num_round = 20  # the number of training iterations (number of trees)\n",
    "    model = xgb.train(params,\n",
    "                  dtrain,\n",
    "                  num_round,\n",
    "                  verbose_eval=2,\n",
    "                  evals=[(dtrain, 'train'), (dval, 'validation')],\n",
    "                  early_stopping_rounds=20)\n",
    "    from sklearn.metrics import precision_score\n",
    "\n",
    "    preds = model.predict(dtest)\n",
    "    best_preds = np.asarray([np.argmax(line) for line in preds])\n",
    "    print(\"Precision: {:.2f} %\".format(precision_score(y_test, best_preds, average='macro')))\n",
    "    "
   ]
  },
  {
   "cell_type": "code",
   "execution_count": 53,
   "metadata": {},
   "outputs": [
    {
     "name": "stdout",
     "output_type": "stream",
     "text": [
      "EvaluatorHoldout: Processed 20328 ( 100.00% ) in 10.18 sec. Users per second: 1997\n",
      "('Normalize, topK, alpha :True 30 0.4', 0.046528166488274715)\n"
     ]
    }
   ],
   "source": [
    "# Graph Based\n",
    "if True:\n",
    "    from GraphBased.P3alphaRecommender import P3alphaRecommender\n",
    "    p3alpha_rec = P3alphaRecommender(URM_train)\n",
    "    MAP_LIST = []\n",
    "    similList = [True]\n",
    "    tklist = [30]\n",
    "    alphaList = [0.4]\n",
    "\n",
    "    for simil in similList:\n",
    "        for tk in tklist:\n",
    "            for alpha in alphaList:\n",
    "                do_not_display_hystory = p3alpha_rec.fit(topK=tk, alpha=alpha, normalize_similarity=simil)\n",
    "                if eval:\n",
    "                    dict_scores = (evaluator_validation.evaluateRecommender(p3alpha_rec))[0][10]\n",
    "                    MAP_LIST.append(('Normalize, topK, alpha :' + str(simil)+ ' ' + str(tk) + ' ' + str(alpha), dict_scores['MAP']))\n",
    "    if eval:\n",
    "        sortMap(MAP_LIST)\n",
    "    "
   ]
  },
  {
   "cell_type": "code",
   "execution_count": 54,
   "metadata": {},
   "outputs": [
    {
     "name": "stdout",
     "output_type": "stream",
     "text": [
      "EvaluatorHoldout: Processed 20328 ( 100.00% ) in 10.35 sec. Users per second: 1964\n",
      "('Normalize, topK, alpha, beta :True 50 0.4 0.1', 0.04757368003245156)\n"
     ]
    }
   ],
   "source": [
    "if True:\n",
    "    from GraphBased.RP3betaRecommender import RP3betaRecommender\n",
    "    p3beta_rec = RP3betaRecommender(URM_train)\n",
    "    MAP_LIST = []\n",
    "    betaList = [0.1]\n",
    "    similList = [True]\n",
    "    tklist = [50]\n",
    "    alphaList = [0.4]\n",
    "\n",
    "    for beta in betaList:\n",
    "        for simil in similList:\n",
    "            for tk in tklist:\n",
    "                for alpha in alphaList:\n",
    "                    do_not_display_hystory = p3beta_rec.fit(topK=tk, alpha=alpha, beta=beta, normalize_similarity=simil)\n",
    "                    if eval:\n",
    "                        dict_scores = (evaluator_validation.evaluateRecommender(p3beta_rec))[0][10]\n",
    "                        MAP_LIST.append(('Normalize, topK, alpha, beta :' + str(simil)+ ' ' + str(tk) + ' ' + str(alpha) + ' ' + str(beta), dict_scores['MAP']))\n",
    "\n",
    "    if eval:\n",
    "        sortMap(MAP_LIST)"
   ]
  },
  {
   "cell_type": "code",
   "execution_count": 55,
   "metadata": {
    "pycharm": {
     "is_executing": false
    },
    "scrolled": false
   },
   "outputs": [
    {
     "name": "stdout",
     "output_type": "stream",
     "text": [
      "EvaluatorHoldout: Processed 5001 ( 24.60% ) in 33.38 sec. Users per second: 150\n",
      "EvaluatorHoldout: Processed 11001 ( 54.12% ) in 1.11 min. Users per second: 165\n",
      "EvaluatorHoldout: Processed 17001 ( 83.63% ) in 1.62 min. Users per second: 175\n",
      "EvaluatorHoldout: Processed 20328 ( 100.00% ) in 1.82 min. Users per second: 186\n",
      "EvaluatorHoldout: Processed 5001 ( 24.60% ) in 30.03 sec. Users per second: 167\n",
      "EvaluatorHoldout: Processed 11001 ( 54.12% ) in 1.00 min. Users per second: 183\n",
      "EvaluatorHoldout: Processed 17001 ( 83.63% ) in 1.51 min. Users per second: 188\n",
      "EvaluatorHoldout: Processed 20328 ( 100.00% ) in 1.85 min. Users per second: 183\n",
      "EvaluatorHoldout: Processed 5001 ( 24.60% ) in 33.34 sec. Users per second: 150\n",
      "EvaluatorHoldout: Processed 11001 ( 54.12% ) in 1.10 min. Users per second: 167\n",
      "EvaluatorHoldout: Processed 17001 ( 83.63% ) in 1.61 min. Users per second: 176\n",
      "EvaluatorHoldout: Processed 20328 ( 100.00% ) in 1.81 min. Users per second: 187\n",
      "('alpha, beta, gamma, delta, epsilon :(0.7, 0.1, 0.4, 0.05, 0.3, 1)', 0.04854151928218495)\n",
      "('alpha, beta, gamma, delta, epsilon :(0.5, 0.1, 0.4, 0.05, 1, 3)', 0.048679266727607355)\n",
      "('alpha, beta, gamma, delta, epsilon :(0.7, 0.1, 0.4, 0.05, 0.5, 1)', 0.04877637018703297)\n"
     ]
    }
   ],
   "source": [
    "# Hybrid Recommender\n",
    "from RecLib.HybridRecommender import *\n",
    "if True:\n",
    "    params = [(0.7, 0.1, 0.4, 0.05, 0.5, 1)]\n",
    "    MAP_LIST = []\n",
    "    for param in params:\n",
    "                hybridrecommender = HybridRecommender(URM_train, userKNNCBF, itemKNN, itemKNNCBF, slim_rec, pureSVD, p3alpha_rec, p3beta_rec)\n",
    "                hybridrecommender.fit(*param)\n",
    "                if eval:\n",
    "                    dict_scores = (evaluator_validation.evaluateRecommender(hybridrecommender))[0][10]\n",
    "                    MAP_LIST.append(('alpha, beta, gamma, delta, epsilon :' + str(param), dict_scores['MAP']))\n",
    "    if eval:\n",
    "        sortMap(MAP_LIST)"
   ]
  },
  {
   "cell_type": "code",
   "execution_count": 36,
   "metadata": {
    "pycharm": {
     "is_executing": false
    },
    "scrolled": true
   },
   "outputs": [],
   "source": [
    "# Evaluate performance of a recommender against users with 0,1,...,itrMax interactions\n",
    "rec_to_eval = hybridrecommender\n",
    "itrMax = 2\n",
    "\n",
    "if eval:\n",
    "    evaluateAgainstUsers(rec_to_eval, itrMax, URM_train, URM_test)"
   ]
  },
  {
   "cell_type": "code",
   "execution_count": 37,
   "metadata": {
    "pycharm": {
     "is_executing": false
    }
   },
   "outputs": [],
   "source": [
    "# Compare different recommenders\n",
    "recommendersToCompare = [itemKNN, p3alpha_rec, p3beta_rec, hybridrecommender]\n",
    "\n",
    "if eval:\n",
    "    from RecLib.Evaluate import *\n",
    "    compare(URM_train, URM_test, recommendersToCompare)"
   ]
  },
  {
   "cell_type": "code",
   "execution_count": 38,
   "metadata": {
    "colab": {},
    "colab_type": "code",
    "id": "rYQRvvikMJVN",
    "pycharm": {
     "is_executing": false
    }
   },
   "outputs": [],
   "source": [
    "# Predict\n",
    "final_Rec = hybridrecommender\n",
    "\n",
    "if not eval:\n",
    "    output = []\n",
    "    for user_id in target_users:\n",
    "        output.append((user_id, final_Rec.recommend(user_id, cutoff=10)))"
   ]
  },
  {
   "cell_type": "code",
   "execution_count": 39,
   "metadata": {
    "colab": {},
    "colab_type": "code",
    "id": "o5TyQsg9TAwz",
    "pycharm": {
     "is_executing": false
    }
   },
   "outputs": [],
   "source": [
    "# Writedown results\n",
    "\n",
    "if not eval:\n",
    "    import csv\n",
    "    with open('submission.csv', 'w', newline='') as file:\n",
    "        writer = csv.writer(file)\n",
    "        writer.writerow([\"user_id\", \"item_list\"])\n",
    "        for row in output:\n",
    "          ranking = ''\n",
    "          for val in row[1]:\n",
    "            ranking = ranking + str(val) + ' '\n",
    "          writer.writerow([row[0], ranking[:-1]])"
   ]
  }
 ],
 "metadata": {
  "accelerator": "GPU",
  "colab": {
   "name": "sacajrota.ipynb",
   "provenance": []
  },
  "kernelspec": {
   "display_name": "Python 3",
   "language": "python",
   "name": "python3"
  },
  "language_info": {
   "codemirror_mode": {
    "name": "ipython",
    "version": 3
   },
   "file_extension": ".py",
   "mimetype": "text/x-python",
   "name": "python",
   "nbconvert_exporter": "python",
   "pygments_lexer": "ipython3",
   "version": "3.7.4"
  },
  "pycharm": {
   "stem_cell": {
    "cell_type": "raw",
    "metadata": {
     "collapsed": false
    },
    "source": []
   }
  }
 },
 "nbformat": 4,
 "nbformat_minor": 1
}
