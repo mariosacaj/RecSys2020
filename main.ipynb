{
 "cells": [
  {
   "cell_type": "code",
   "execution_count": 1,
   "metadata": {
    "_cell_guid": "b1076dfc-b9ad-4769-8c92-a6c4dae69d19",
    "_uuid": "8f2839f25d086af736a60e9eeb907d3b93b6e0e5",
    "colab": {},
    "colab_type": "code",
    "id": "7Ifkd08Lq3wR",
    "pycharm": {
     "is_executing": false
    }
   },
   "outputs": [],
   "source": [
    "# This Python 3 environment comes with many helpful analytics libraries installed\n",
    "# It is defined by the kaggle/python docker image: https://github.com/kaggle/docker-python\n",
    "# For example, here's several helpful packages to load in \n",
    "import numpy as np # linear algebra\n",
    "import pandas as pd # data processing, CSV file I/O (e.g. pd.read_csv)\n",
    "import csv\n",
    "import scipy as sp\n",
    "import scipy.sparse as sps\n",
    "from scipy.sparse import coo_matrix\n",
    "import os\n",
    "import matplotlib.pyplot as pyplot\n",
    "%matplotlib inline \n",
    "\n",
    "\n",
    "## Evaluation or scoring?\n",
    "eval = True"
   ]
  },
  {
   "cell_type": "code",
   "execution_count": 2,
   "metadata": {
    "colab": {},
    "colab_type": "code",
    "id": "6mDejDEXq3wW",
    "pycharm": {
     "is_executing": false
    }
   },
   "outputs": [
    {
     "name": "stdout",
     "output_type": "stream",
     "text": [
      "data_UCM_age.csv\n",
      "user data, ID: min 2, max 30909, length 30317, unique 30317, repetitions 0, missig 1.91 %\n",
      "age data, ID: min 1, max 10, length 30317, unique 10, repetitions 30307, missig 0.00 %\n",
      "\n",
      "data_ICM_sub_class.csv\n",
      "item data, ID: min 0, max 18494, length 18495, unique 18495, repetitions 0, missig 0.00 %\n",
      "subclass data, ID: min 1, max 2010, length 18495, unique 1905, repetitions 16590, missig 5.18 %\n",
      "\n",
      "data_ICM_asset.csv\n",
      "item data, ID: min 0, max 18494, length 18490, unique 18490, repetitions 0, missig 0.02 %\n",
      "asset data, ID: min 0, max 0, length 18490, unique 1, repetitions 18489, missig 0.00 %\n",
      "\n",
      "data_ICM_price.csv\n",
      "item data, ID: min 0, max 18494, length 18493, unique 18493, repetitions 0, missig 0.01 %\n",
      "price data, ID: min 0, max 0, length 18493, unique 1, repetitions 18492, missig 0.00 %\n",
      "\n",
      "data_UCM_region.csv\n",
      "user data, ID: min 0, max 30910, length 26609, unique 26375, repetitions 234, missig 14.67 %\n",
      "region data, ID: min 0, max 7, length 26609, unique 7, repetitions 26602, missig 0.00 %\n",
      "\n",
      "data_train.csv\n",
      "user data, ID: min 0, max 30910, length 398636, unique 27255, repetitions 371381, missig 11.82 %\n",
      "item data, ID: min 0, max 18494, length 398636, unique 15277, repetitions 383359, missig 17.39 %\n",
      "\n"
     ]
    }
   ],
   "source": [
    "from RecLib.DataLoad import *\n",
    "# Loading from CSV files...\n",
    "UCM_age = toCoo('data_UCM_age.csv', 'user', 'age')\n",
    "ICM_subclass = toCoo('data_ICM_sub_class.csv', 'item', 'subclass')\n",
    "ICM_asset = toCoo('data_ICM_asset.csv', 'item', 'asset')\n",
    "ICM_price = toCoo('data_ICM_price.csv', 'item', 'price')\n",
    "UCM_region = toCoo('data_UCM_region.csv', 'user', 'region')\n",
    "target_users = toNPArray('data_target_users_test.csv')\n",
    "URM = toCoo('data_train.csv', 'user', 'item')"
   ]
  },
  {
   "cell_type": "code",
   "execution_count": 3,
   "metadata": {
    "colab": {},
    "colab_type": "code",
    "id": "m4FzKl-xq3wc",
    "pycharm": {
     "is_executing": false
    }
   },
   "outputs": [],
   "source": [
    "URM = URM.tocsr()"
   ]
  },
  {
   "cell_type": "code",
   "execution_count": 4,
   "metadata": {
    "colab": {},
    "colab_type": "code",
    "id": "aODXsh3XsyJA",
    "pycharm": {
     "is_executing": false
    }
   },
   "outputs": [],
   "source": [
    "## Split dataset (train % of .9999 gives similar performance on test set and competition set)\n",
    "from Notebooks_utils.data_splitter import train_test_holdout\n",
    "URM_train, URM_test = train_test_holdout(URM, train_perc = 0.8)\n",
    "\n",
    "\n",
    "if not eval:\n",
    "    URM_train = URM\n",
    "else:\n",
    "    from Base.Evaluation.Evaluator import EvaluatorHoldout\n",
    "    evaluator_validation = EvaluatorHoldout(URM_test, cutoff_list=[10])"
   ]
  },
  {
   "cell_type": "code",
   "execution_count": 5,
   "metadata": {
    "pycharm": {
     "is_executing": false,
     "name": "#%%\n"
    }
   },
   "outputs": [],
   "source": [
    "## SLIM BPR Recommender - MAP 0.41 on test set\n",
    "## set True if you want to train and compile SLIM BPR Recommender\n",
    "if False:\n",
    "    from SLIM_BPR.Cython.SLIM_BPR_Cython import SLIM_BPR_Cython \n",
    "    slim_rec = SLIM_BPR_Cython(URM_train, recompile_cython=False, verbose = False)\n",
    "    MAP_LIST = []\n",
    "    epochsList = [300]\n",
    "    batchSize = [50]\n",
    "    tklist = [10]\n",
    "    lrs = [1e-3]\n",
    "\n",
    "    for epochsN in epochsList:\n",
    "        for bs in batchSize:\n",
    "            for tk in tklist:\n",
    "                for lr in lrs:\n",
    "                    do_not_display_hystory = slim_rec.fit(epochs=epochsN, batch_size=bs, sgd_mode='adagrad', learning_rate=lr, topK = tk)\n",
    "                    if eval:\n",
    "                        dict_scores = (evaluator_validation.evaluateRecommender(slim_rec))[0][10]\n",
    "                        MAP_LIST.append(('epoch, batch, topK, lr :' + str(epochsN) + ' ' + str(bs)+ ' ' + str(tk) + ' ' + str(lr), dict_scores['MAP']))\n",
    "    if eval:\n",
    "        MAP_LIST"
   ]
  },
  {
   "cell_type": "code",
   "execution_count": 6,
   "metadata": {
    "pycharm": {
     "is_executing": false
    }
   },
   "outputs": [],
   "source": [
    "\n",
    "if False:\n",
    "    from KNN.ItemKNNCBFRecommender import ItemKNNCBFRecommender \n",
    "    itemKNNCBF = ItemKNNCBFRecommender(URM_train, ICM_subclass)\n",
    "    MAP_LIST = []\n",
    "    tklist = [1]\n",
    "    shrinklist = [0]\n",
    "\n",
    "    for tk in tklist:\n",
    "        for sr in shrinklist:\n",
    "            itemKNNCBF.fit(shrink=sr, topK = tk, similarity = 'cosine')\n",
    "            if eval:\n",
    "                dict_scores = (evaluator_validation.evaluateRecommender(itemKNNCBF))[0][10]\n",
    "                MAP_LIST.append(('topK, shrink :' + str(tk) + ' ' + str(sr), dict_scores['MAP']))\n",
    "    if eval:\n",
    "        print(MAP_LIST)\n",
    "\n"
   ]
  },
  {
   "cell_type": "code",
   "execution_count": 7,
   "metadata": {
    "colab": {
     "base_uri": "https://localhost:8080/",
     "height": 119
    },
    "colab_type": "code",
    "id": "Pm7oY2Zx6Soy",
    "outputId": "d56a6477-e677-4dbe-db85-49c119d4b348",
    "pycharm": {
     "is_executing": false
    }
   },
   "outputs": [
    {
     "name": "stdout",
     "output_type": "stream",
     "text": [
      "ItemKNNCFRecommender: URM Detected 4305 (13.93 %) cold users.\n",
      "ItemKNNCFRecommender: URM Detected 3714 (20.08 %) cold items.\n",
      "Similarity column 18495 ( 100 % ), 2690.53 column/sec, elapsed time 0.11 min\n",
      "EvaluatorHoldout: Processed 20443 ( 100.00% ) in 28.37 sec. Users per second: 720\n",
      "MAP: 0.047232020396430284\n"
     ]
    }
   ],
   "source": [
    "## ItemCFKNNRecommender - MAP 0.47 on test set\n",
    "# If you want to compile and train KNN set to True\n",
    "if True:\n",
    "    from KNN.ItemKNNCFRecommender import ItemKNNCFRecommender\n",
    "    itemKNN = ItemKNNCFRecommender(URM_train)\n",
    "    itemKNN.fit(shrink=50, topK=5)\n",
    "\n",
    "    if eval:\n",
    "        results, _ = evaluator_validation.evaluateRecommender(itemKNN)\n",
    "        print('MAP: ' + str(results[10][\"MAP\"]))"
   ]
  },
  {
   "cell_type": "code",
   "execution_count": 14,
   "metadata": {
    "pycharm": {
     "is_executing": false
    }
   },
   "outputs": [
    {
     "name": "stdout",
     "output_type": "stream",
     "text": [
      "HybridRecommender: URM Detected 4305 (13.93 %) cold users.\n",
      "HybridRecommender: URM Detected 3714 (20.08 %) cold items.\n",
      "TopPopRecommender: URM Detected 4305 (13.93 %) cold users.\n",
      "TopPopRecommender: URM Detected 3714 (20.08 %) cold items.\n",
      "ItemKNNCFRecommender: URM Detected 4305 (13.93 %) cold users.\n",
      "ItemKNNCFRecommender: URM Detected 3714 (20.08 %) cold items.\n",
      "Similarity column 18495 ( 100 % ), 8409.53 column/sec, elapsed time 0.04 min\n",
      "EvaluatorHoldout: Processed 20443 ( 100.00% ) in 14.86 sec. Users per second: 1376\n",
      "MAP: 0.04769298075931307\n"
     ]
    }
   ],
   "source": [
    "## HYBRID: KNN + SLIM BPR\n",
    "# Set to True if you want to compile and train this hybrid rec\n",
    "from RecLib.HybridRecommender import *\n",
    "if True: \n",
    "    hybridrecommender = HybridRecommender(URM_train)\n",
    "    hybridrecommender.fit()\n",
    "    \n",
    "    if eval:\n",
    "        results, _ = evaluator_validation.evaluateRecommender(hybridrecommender)\n",
    "        print('MAP: ' + str(results[10][\"MAP\"]))"
   ]
  },
  {
   "cell_type": "code",
   "execution_count": 22,
   "metadata": {},
   "outputs": [
    {
     "data": {
      "text/plain": [
       "(30911,)"
      ]
     },
     "execution_count": 22,
     "metadata": {},
     "output_type": "execute_result"
    }
   ],
   "source": [
    "cold_mask =  np.ediff1d(URM_test.indptr) > 2\n",
    "cold_mask.shape"
   ]
  },
  {
   "cell_type": "code",
   "execution_count": 23,
   "metadata": {},
   "outputs": [
    {
     "name": "stdout",
     "output_type": "stream",
     "text": [
      "EvaluatorHoldout: Ignoring 10392 Users\n",
      "EvaluatorHoldout: Processed 10051 ( 100.00% ) in 7.38 sec. Users per second: 1362\n",
      "MAP: 0.054268172794936294\n"
     ]
    }
   ],
   "source": [
    "x = np.arange(30911)\n",
    "ignUsr = x[cold_mask]\n",
    "evaluator_validation = EvaluatorHoldout(URM_test, cutoff_list=[10], ignore_users = ignUsr)\n",
    "results, _ = evaluator_validation.evaluateRecommender(hybridrecommender)\n",
    "print('MAP: ' + str(results[10][\"MAP\"]))"
   ]
  },
  {
   "cell_type": "code",
   "execution_count": 15,
   "metadata": {
    "pycharm": {
     "is_executing": false
    }
   },
   "outputs": [
    {
     "name": "stdout",
     "output_type": "stream",
     "text": [
      "Group 0, average p.len 0.00, min 0, max 0\n",
      "EvaluatorHoldout: Ignoring 29366 Users\n",
      "EvaluatorHoldout: Processed 228 ( 100.00% ) in 0.14 sec. Users per second: 1613\n",
      "EvaluatorHoldout: Processed 228 ( 100.00% ) in 0.18 sec. Users per second: 1265\n",
      "Group 1, average p.len 0.00, min 0, max 0\n",
      "EvaluatorHoldout: Ignoring 29366 Users\n",
      "EvaluatorHoldout: Processed 246 ( 100.00% ) in 0.15 sec. Users per second: 1642\n",
      "EvaluatorHoldout: Processed 246 ( 100.00% ) in 0.21 sec. Users per second: 1152\n",
      "Group 2, average p.len 0.21, min 0, max 1\n",
      "EvaluatorHoldout: Ignoring 29366 Users\n",
      "EvaluatorHoldout: Processed 269 ( 100.00% ) in 0.19 sec. Users per second: 1399\n",
      "EvaluatorHoldout: Processed 269 ( 100.00% ) in 0.22 sec. Users per second: 1204\n",
      "Group 3, average p.len 1.00, min 1, max 1\n",
      "EvaluatorHoldout: Ignoring 29366 Users\n",
      "EvaluatorHoldout: Processed 424 ( 100.00% ) in 0.30 sec. Users per second: 1427\n",
      "EvaluatorHoldout: Processed 424 ( 100.00% ) in 0.28 sec. Users per second: 1541\n",
      "Group 4, average p.len 1.20, min 1, max 2\n",
      "EvaluatorHoldout: Ignoring 29366 Users\n",
      "EvaluatorHoldout: Processed 495 ( 100.00% ) in 0.37 sec. Users per second: 1344\n",
      "EvaluatorHoldout: Processed 495 ( 100.00% ) in 0.31 sec. Users per second: 1580\n",
      "Group 5, average p.len 2.00, min 2, max 2\n",
      "EvaluatorHoldout: Ignoring 29366 Users\n",
      "EvaluatorHoldout: Processed 720 ( 100.00% ) in 0.44 sec. Users per second: 1655\n",
      "EvaluatorHoldout: Processed 720 ( 100.00% ) in 0.44 sec. Users per second: 1621\n",
      "Group 6, average p.len 2.72, min 2, max 3\n",
      "EvaluatorHoldout: Ignoring 29366 Users\n",
      "EvaluatorHoldout: Processed 807 ( 100.00% ) in 0.60 sec. Users per second: 1341\n",
      "EvaluatorHoldout: Processed 807 ( 100.00% ) in 0.53 sec. Users per second: 1509\n",
      "Group 7, average p.len 3.39, min 3, max 4\n",
      "EvaluatorHoldout: Ignoring 29366 Users\n",
      "EvaluatorHoldout: Processed 888 ( 100.00% ) in 0.69 sec. Users per second: 1285\n",
      "EvaluatorHoldout: Processed 888 ( 100.00% ) in 0.59 sec. Users per second: 1499\n",
      "Group 8, average p.len 4.21, min 4, max 5\n",
      "EvaluatorHoldout: Ignoring 29366 Users\n",
      "EvaluatorHoldout: Processed 1032 ( 100.00% ) in 0.83 sec. Users per second: 1242\n",
      "EvaluatorHoldout: Processed 1032 ( 100.00% ) in 0.71 sec. Users per second: 1461\n",
      "Group 9, average p.len 5.14, min 5, max 6\n",
      "EvaluatorHoldout: Ignoring 29366 Users\n",
      "EvaluatorHoldout: Processed 1117 ( 100.00% ) in 0.65 sec. Users per second: 1718\n",
      "EvaluatorHoldout: Processed 1117 ( 100.00% ) in 0.96 sec. Users per second: 1159\n",
      "Group 10, average p.len 6.21, min 6, max 7\n",
      "EvaluatorHoldout: Ignoring 29366 Users\n",
      "EvaluatorHoldout: Processed 1171 ( 100.00% ) in 0.96 sec. Users per second: 1223\n",
      "EvaluatorHoldout: Processed 1171 ( 100.00% ) in 0.94 sec. Users per second: 1251\n",
      "Group 11, average p.len 7.39, min 7, max 8\n",
      "EvaluatorHoldout: Ignoring 29366 Users\n",
      "EvaluatorHoldout: Processed 1254 ( 100.00% ) in 0.79 sec. Users per second: 1591\n",
      "EvaluatorHoldout: Processed 1254 ( 100.00% ) in 0.90 sec. Users per second: 1390\n",
      "Group 12, average p.len 8.70, min 8, max 10\n",
      "EvaluatorHoldout: Ignoring 29366 Users\n",
      "EvaluatorHoldout: Processed 1331 ( 100.00% ) in 0.84 sec. Users per second: 1593\n",
      "EvaluatorHoldout: Processed 1331 ( 100.00% ) in 1.09 sec. Users per second: 1221\n",
      "Group 13, average p.len 10.47, min 10, max 11\n",
      "EvaluatorHoldout: Ignoring 29366 Users\n",
      "EvaluatorHoldout: Processed 1388 ( 100.00% ) in 0.83 sec. Users per second: 1679\n",
      "EvaluatorHoldout: Processed 1388 ( 100.00% ) in 1.13 sec. Users per second: 1223\n",
      "Group 14, average p.len 12.41, min 11, max 14\n",
      "EvaluatorHoldout: Ignoring 29366 Users\n",
      "EvaluatorHoldout: Processed 1450 ( 100.00% ) in 1.04 sec. Users per second: 1388\n",
      "EvaluatorHoldout: Processed 1450 ( 100.00% ) in 1.40 sec. Users per second: 1034\n",
      "Group 15, average p.len 14.92, min 14, max 16\n",
      "EvaluatorHoldout: Ignoring 29366 Users\n",
      "EvaluatorHoldout: Processed 1474 ( 100.00% ) in 0.93 sec. Users per second: 1580\n",
      "EvaluatorHoldout: Processed 1474 ( 100.00% ) in 1.12 sec. Users per second: 1312\n",
      "Group 16, average p.len 18.09, min 16, max 20\n",
      "EvaluatorHoldout: Ignoring 29366 Users\n",
      "EvaluatorHoldout: Processed 1518 ( 100.00% ) in 1.10 sec. Users per second: 1376\n",
      "EvaluatorHoldout: Processed 1518 ( 100.00% ) in 1.20 sec. Users per second: 1261\n",
      "Group 17, average p.len 22.64, min 20, max 26\n",
      "EvaluatorHoldout: Ignoring 29366 Users\n",
      "EvaluatorHoldout: Processed 1530 ( 100.00% ) in 0.97 sec. Users per second: 1578\n",
      "EvaluatorHoldout: Processed 1530 ( 100.00% ) in 1.22 sec. Users per second: 1252\n",
      "Group 18, average p.len 30.10, min 26, max 36\n",
      "EvaluatorHoldout: Ignoring 29366 Users\n",
      "EvaluatorHoldout: Processed 1545 ( 100.00% ) in 0.96 sec. Users per second: 1613\n",
      "EvaluatorHoldout: Processed 1545 ( 100.00% ) in 1.20 sec. Users per second: 1288\n",
      "Group 19, average p.len 53.43, min 36, max 187\n",
      "EvaluatorHoldout: Ignoring 29366 Users\n",
      "EvaluatorHoldout: Processed 1545 ( 100.00% ) in 1.00 sec. Users per second: 1547\n",
      "EvaluatorHoldout: Processed 1545 ( 100.00% ) in 1.15 sec. Users per second: 1341\n"
     ]
    },
    {
     "data": {
      "image/png": "[encoded data removed]",
      "text/plain": [
       "<Figure size 432x288 with 1 Axes>"
      ]
     },
     "metadata": {
      "needs_background": "light"
     },
     "output_type": "display_data"
    }
   ],
   "source": [
    "## TEST & VISUALIZE DIFFERENT RECSYS PERFORMANCE BASED ON N° OF INTERACTIONS HELD BY USERS\n",
    "# Please, fill empty list with pretrained recommenders you want to compare\n",
    "recommendersToCompare = [itemKNN, hybridrecommender]\n",
    "if eval:\n",
    "    from RecLib.PerUserGroupTesting import *\n",
    "    compare(URM_train, URM_test, recommendersToCompare, enableTop = False, enablePureSVD = False)"
   ]
  },
  {
   "cell_type": "code",
   "execution_count": 12,
   "metadata": {
    "colab": {},
    "colab_type": "code",
    "id": "rYQRvvikMJVN",
    "pycharm": {
     "is_executing": false
    }
   },
   "outputs": [],
   "source": [
    "## Predict\n",
    "## SET WHICH RECOMMENDER YOU WANNA USE\n",
    "final_Rec = itemKNN\n",
    "if not eval:\n",
    "    output = []\n",
    "    for user_id in target_users:\n",
    "        output.append((user_id, final_Rec.recommend(user_id, cutoff=10)))"
   ]
  },
  {
   "cell_type": "code",
   "execution_count": 13,
   "metadata": {
    "colab": {},
    "colab_type": "code",
    "id": "o5TyQsg9TAwz",
    "pycharm": {
     "is_executing": false
    }
   },
   "outputs": [],
   "source": [
    "#Writedown results\n",
    "if not eval:\n",
    "    with open('submission.csv', 'w', newline='') as file:\n",
    "        writer = csv.writer(file)\n",
    "        writer.writerow([\"user_id\", \"item_list\"])\n",
    "        for row in output:\n",
    "          ranking = ''\n",
    "          for val in row[1]:\n",
    "            ranking = ranking + str(val) + ' '\n",
    "          writer.writerow([row[0], ranking[:-1]])"
   ]
  },
  {
   "cell_type": "code",
   "execution_count": null,
   "metadata": {},
   "outputs": [],
   "source": []
  },
  {
   "cell_type": "code",
   "execution_count": null,
   "metadata": {},
   "outputs": [],
   "source": []
  }
 ],
 "metadata": {
  "accelerator": "GPU",
  "colab": {
   "name": "sacajrota.ipynb",
   "provenance": []
  },
  "kernelspec": {
   "display_name": "Python 3",
   "language": "python",
   "name": "python3"
  },
  "language_info": {
   "codemirror_mode": {
    "name": "ipython",
    "version": 3
   },
   "file_extension": ".py",
   "mimetype": "text/x-python",
   "name": "python",
   "nbconvert_exporter": "python",
   "pygments_lexer": "ipython3",
   "version": "3.7.4"
  },
  "pycharm": {
   "stem_cell": {
    "cell_type": "raw",
    "metadata": {
     "collapsed": false
    },
    "source": []
   }
  }
 },
 "nbformat": 4,
 "nbformat_minor": 1
}
